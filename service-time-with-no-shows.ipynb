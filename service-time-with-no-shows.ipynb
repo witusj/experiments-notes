{
 "cells": [
  {
   "cell_type": "markdown",
   "id": "7ab38253",
   "metadata": {},
   "source": [
    "# `service_time_with_no_shows` {.unnumbered}\n",
    "\n",
    "This notebook provides documentation for the function `service_time_with_no_shows` and includes a unit test to verify its functionality.\n",
    "\n",
    "## Function Documentation\n",
    "\n",
    "`service_time_with_no_shows(s: List[float], q: float) -> List[float]`\n",
    "\n",
    "#### Description\n",
    "\n",
    "Adjusts a distribution of service times to account for no-shows. The function scales the original service time distribution by the probability of a patient showing up (i.e., `1 - q`) and then adds the no-show probability `q` to the service time for zero time slots.\n",
    "\n",
    "#### Parameters\n",
    "\n",
    "- **s** (`List[float]`): The original service time probability distribution. This list represents the probabilities associated with different service times.\n",
    "- **q** (`float`): The probability of no-shows. This value should be between 0 and 1.\n",
    "\n",
    "#### Returns\n",
    "\n",
    "- **`List[float]`**: The adjusted service time probability distribution where the no-show probability has been incorporated into the probability of zero service time.\n",
    "\n",
    "#### Example\n"
   ]
  },
  {
   "cell_type": "code",
   "execution_count": 1,
   "id": "5270eb2f",
   "metadata": {},
   "outputs": [
    {
     "name": "stdout",
     "output_type": "stream",
     "text": [
      "Adjusted distribution: [0.1, 0.45, 0.27, 0.18000000000000002]\n"
     ]
    }
   ],
   "source": [
    "from functions import service_time_with_no_shows\n",
    "\n",
    "# Example usage\n",
    "original_distribution = [0.0, 0.5, 0.3, 0.2]\n",
    "no_show_probability = 0.1\n",
    "adjusted_distribution = service_time_with_no_shows(original_distribution, no_show_probability)\n",
    "print(\"Adjusted distribution:\", adjusted_distribution)"
   ]
  },
  {
   "cell_type": "code",
   "execution_count": 2,
   "id": "aa8453f9",
   "metadata": {},
   "outputs": [
    {
     "name": "stderr",
     "output_type": "stream",
     "text": [
      "."
     ]
    },
    {
     "name": "stderr",
     "output_type": "stream",
     "text": [
      "\n"
     ]
    },
    {
     "name": "stderr",
     "output_type": "stream",
     "text": [
      "----------------------------------------------------------------------\n",
      "Ran 1 test in 0.001s\n",
      "\n",
      "OK\n"
     ]
    }
   ],
   "source": [
    "import unittest\n",
    "\n",
    "class TestServiceTimeWithNoShows(unittest.TestCase):\n",
    "    def test_adjust_distribution(self):\n",
    "        # Test with a known distribution and no-show probability\n",
    "        original_distribution = [0.0, 0.5, 0.3, 0.2]\n",
    "        no_show_probability = 0.1\n",
    "        \n",
    "        # Expected adjustment: second element 0.1, \n",
    "        # other elements: multiplied by 0.9\n",
    "        expected_distribution = [0.1, 0.45, 0.27, 0.18]\n",
    "        \n",
    "        result = service_time_with_no_shows(original_distribution, no_show_probability)\n",
    "        \n",
    "        # Using almost equal check due to floating point arithmetic\n",
    "        for r, e in zip(result, expected_distribution):\n",
    "            self.assertAlmostEqual(r, e, places=5)\n",
    "\n",
    "if __name__ == '__main__':\n",
    "    unittest.main(argv=[''], exit=False)"
   ]
  }
 ],
 "metadata": {
  "kernelspec": {
   "display_name": "Python 3 (ipykernel)",
   "language": "python",
   "name": "python3"
  },
  "language_info": {
   "codemirror_mode": {
    "name": "ipython",
    "version": 3
   },
   "file_extension": ".py",
   "mimetype": "text/x-python",
   "name": "python",
   "nbconvert_exporter": "python",
   "pygments_lexer": "ipython3",
   "version": "3.12.2"
  }
 },
 "nbformat": 4,
 "nbformat_minor": 5
}
