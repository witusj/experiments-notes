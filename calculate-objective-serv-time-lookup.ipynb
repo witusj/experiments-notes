{
 "cells": [
  {
   "cell_type": "markdown",
   "id": "d81dc6ad",
   "metadata": {},
   "source": [
    "# `calculate_objective_serv_time_lookup` {.unnumbered}\n",
    "\n",
    "## Function Documentation\n",
    "\n",
    "`calculate_objective_serv_time_lookup(schedule: List[int], d: int, convolutions: dict) -> Tuple[float, float]`\n",
    "\n",
    "#### Description\n",
    "\n",
    "This notebook provides documentation for the function `calculate_objective_serv_time_lookup`, which calculates an objective value (in terms of expected waiting time and expected spillover) based on a given schedule and pre-computed convolutions of a probability mass function (PMF). \n",
    "\n",
    "The function uses the following inputs:\n",
    "\n",
    "- **schedule**: A list of integers representing the number of patients scheduled in each time slot.\n",
    "- **d**: An integer indicating the duration threshold for a time slot.\n",
    "- **convolutions**: A dictionary of precomputed convolutions of the service time PMF. The key `1` should correspond to the adjusted service time distribution (for example, one adjusted for no-shows), while keys greater than `1` are used for multiple patients in a time slot.\n",
    "\n",
    "The function returns a tuple:\n",
    "\n",
    "- **ewt**: The sum of expected waiting times over the schedule.\n",
    "- **esp**: The expected spillover time (or overtime) after the final time slot.\n",
    "\n",
    "## Example Usage\n",
    "\n",
    "A trivial example using a precomputed convolution dictionary with a degenerate PMF (i.e. always zero service time) is provided in the unit tests below.\n"
   ]
  },
  {
   "cell_type": "code",
   "execution_count": 1,
   "id": "7c15bbff",
   "metadata": {},
   "outputs": [
    {
     "name": "stdout",
     "output_type": "stream",
     "text": [
      "Adjusted Service Time Distribution:  [0.1, 0.45, 0.27, 0.18000000000000002]\n",
      "Expected Adjusted Service Time:  1.53\n",
      "Expected Waiting Time: 1.53\n",
      "Expected Spillover: 0.6300000000000001\n"
     ]
    }
   ],
   "source": [
    "import numpy as np\n",
    "from typing import List, Dict, Tuple\n",
    "from functions import service_time_with_no_shows, compute_convolutions, calculate_objective_serv_time_lookup\n",
    "\n",
    "# For demonstration purposes, we use a trivial convolution dictionary.\n",
    "original_distribution = [0.0, 0.5, 0.3, 0.2]\n",
    "no_show_probability = 0.1\n",
    "adjusted_distribution = service_time_with_no_shows(original_distribution, no_show_probability)\n",
    "schedule_example = [2, 0, 0, 0, 0, 0, 1]\n",
    "N = sum(schedule_example)\n",
    "convolutions_example = compute_convolutions(original_distribution, N, no_show_probability)\n",
    "d_example = 1\n",
    "ewt, esp = calculate_objective_serv_time_lookup(schedule_example, d_example, convolutions_example)\n",
    "print(\"Adjusted Service Time Distribution: \", adjusted_distribution)\n",
    "print(\"Expected Adjusted Service Time: \", np.dot(range(len(adjusted_distribution)), adjusted_distribution))\n",
    "print(\"Expected Waiting Time:\", ewt)\n",
    "print(\"Expected Spillover:\", esp)"
   ]
  },
  {
   "cell_type": "code",
   "execution_count": 2,
   "id": "4a115b3a",
   "metadata": {},
   "outputs": [
    {
     "name": "stderr",
     "output_type": "stream",
     "text": [
      "."
     ]
    },
    {
     "name": "stderr",
     "output_type": "stream",
     "text": [
      "."
     ]
    },
    {
     "name": "stderr",
     "output_type": "stream",
     "text": [
      "\n"
     ]
    },
    {
     "name": "stderr",
     "output_type": "stream",
     "text": [
      "----------------------------------------------------------------------\n",
      "Ran 2 tests in 0.001s\n",
      "\n",
      "OK\n"
     ]
    }
   ],
   "source": [
    "import unittest\n",
    "\n",
    "class TestCalculateObjectiveServTimeLookup(unittest.TestCase):\n",
    "    def setUp(self):\n",
    "        # Create a convolution dictionary\n",
    "        self.convolutions = convolutions_example\n",
    "        self.d = d_example\n",
    "\n",
    "    def test_single_time_slot(self):\n",
    "        # With one patient there will be no waiting and spillover (overtime) can be calculated by hand.\n",
    "        schedule = [1]\n",
    "        ewt, esp = calculate_objective_serv_time_lookup(schedule, self.d, self.convolutions)\n",
    "        self.assertAlmostEqual(ewt, 0.0, places=5, msg=\"Expected waiting time should be 0\")\n",
    "        self.assertAlmostEqual(esp, 0.6300000000000001, places=5, msg=\"Expected spillover should be 0\")\n",
    "\n",
    "    def test_zero_patients(self):\n",
    "        # If no patients are scheduled in a time slot, the process simply advances in time.\n",
    "        schedule = [0]\n",
    "        ewt, esp = calculate_objective_serv_time_lookup(schedule, self.d, self.convolutions)\n",
    "        self.assertAlmostEqual(ewt, 0.0, places=5, msg=\"Expected waiting time should be 0 when no patients\")\n",
    "        self.assertAlmostEqual(esp, 0.0, places=5, msg=\"Expected spillover should be 0 when no patients\")\n",
    "\n",
    "if __name__ == '__main__':\n",
    "    unittest.main(argv=[''], exit=False)"
   ]
  }
 ],
 "metadata": {
  "kernelspec": {
   "display_name": "Python 3 (ipykernel)",
   "language": "python",
   "name": "python3"
  },
  "language_info": {
   "codemirror_mode": {
    "name": "ipython",
    "version": 3
   },
   "file_extension": ".py",
   "mimetype": "text/x-python",
   "name": "python",
   "nbconvert_exporter": "python",
   "pygments_lexer": "ipython3",
   "version": "3.12.2"
  }
 },
 "nbformat": 4,
 "nbformat_minor": 5
}
