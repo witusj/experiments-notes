{
  "cells": [
    {
      "cell_type": "markdown",
      "metadata": {},
      "source": [
        "# `compute_convolutions` {.unnumbered}\n",
        "\n",
        "This notebook provides documentation for the function `compute_convolutions`, which computes the k-fold convolution of a probability mass function (PMF) for k in the range 1 to N. The function is generic and can be applied to any PMF, not only those representing service times. Additionally, the function adjusts the PMF for no-shows using the `service_time_with_no_shows` function.\n",
        "\n",
        "## Function Documentation\n",
        "\n",
        "`compute_convolutions(probabilities: List[float], N: int, q: float = 0.0) -> Dict[int, np.ndarray]`\n",
        "\n",
        "#### Description\n",
        "\n",
        "Computes the k-fold convolution of a given probability mass function (PMF) for k from 1 up to N. Before computing the convolutions, the PMF is adjusted for no-shows using the provided no-show probability `q` via the `service_time_with_no_shows` function. Convolution is performed using NumPy's `np.convolve`.\n",
        "\n",
        "#### Parameters\n",
        "\n",
        "- **probabilities** (`List[float]`): The original PMF represented as a list where the index corresponds to a value (for instance, a service time) and the value at that index is its probability. This function is generic and does not have to be used solely for service times.\n",
        "- **N** (`int`): The maximum number of convolutions to compute.\n",
        "- **q** (`float`, optional): The probability of a no-show. Defaults to `0.0`.\n",
        "\n",
        "#### Returns\n",
        "\n",
        "- **`Dict[int, np.ndarray]`**: A dictionary where each key `k` (with 1 ≤ k ≤ N) corresponds to the PMF resulting from the k-fold convolution of the adjusted PMF.\n",
        "\n",
        "#### Example\n"
      ],
      "id": "99cc46c7"
    },
    {
      "cell_type": "code",
      "metadata": {},
      "source": [
        "import numpy as np\n",
        "from functions import compute_convolutions, service_time_with_no_shows\n",
        "\n",
        "# Example usage\n",
        "original_pmf = [0.0, 0.5, 0.3, 0.2]\n",
        "N = 3\n",
        "no_show_probability = 0.1\n",
        "\n",
        "convs = compute_convolutions(original_pmf, N, no_show_probability)\n",
        "for k, pmf in convs.items():\n",
        "    print(f\"{k}-fold convolution: {pmf}\")"
      ],
      "id": "9417bab4",
      "execution_count": null,
      "outputs": []
    },
    {
      "cell_type": "code",
      "metadata": {},
      "source": [
        "import unittest\n",
        "\n",
        "class TestComputeConvolutions(unittest.TestCase):\n",
        "    def test_single_convolution(self):\n",
        "        # When N = 1, the result should be the adjusted PMF\n",
        "        original_pmf = [0.0, 0.5, 0.3, 0.2]\n",
        "        no_show_probability = 0.1\n",
        "        N = 1\n",
        "        expected = np.array(service_time_with_no_shows(original_pmf, no_show_probability))\n",
        "        result = compute_convolutions(original_pmf, N, no_show_probability)\n",
        "        self.assertTrue(np.allclose(result[1], expected), \"Single convolution test failed\")\n",
        "\n",
        "    def test_multiple_convolutions(self):\n",
        "        # Test for N = 3 using a simple PMF\n",
        "        original_pmf = [0.0, 0.5, 0.3, 0.2]\n",
        "        no_show_probability = 0.0  # No adjustment for simplicity\n",
        "        N = 3\n",
        "        result = compute_convolutions(original_pmf, N, no_show_probability)\n",
        "\n",
        "        # For N=1, result is the original pmf\n",
        "        self.assertTrue(np.allclose(result[1], np.array(original_pmf)))\n",
        "\n",
        "        # For higher convolutions, ensure the sum of probabilities remains 1 (within numerical precision)\n",
        "        for k in range(1, N + 1):\n",
        "            self.assertAlmostEqual(np.sum(result[k]), 1.0, places=5, msg=f\"Sum of probabilities for {k}-fold convolution is not 1\")\n",
        "\n",
        "if __name__ == '__main__':\n",
        "    unittest.main(argv=[''], exit=False)"
      ],
      "id": "dec94fa8",
      "execution_count": null,
      "outputs": []
    }
  ],
  "metadata": {
    "kernelspec": {
      "name": "python3",
      "language": "python",
      "display_name": "Python 3 (ipykernel)"
    }
  },
  "nbformat": 4,
  "nbformat_minor": 5
}