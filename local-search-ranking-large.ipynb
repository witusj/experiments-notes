{
 "cells": [
  {
   "cell_type": "raw",
   "id": "95686550",
   "metadata": {},
   "source": [
    "---\n",
    "title: Large instance local search with trained XGBoost regressor model\n",
    "---"
   ]
  },
  {
   "cell_type": "markdown",
   "id": "4d5c0441",
   "metadata": {},
   "source": [
    "## Objective\n",
    "\n",
    "Test the working and performance of a [previously trained](xgboost-pairwise-ranking-large-w-bailey-welch.qmd) XGBoost Ranking model in a local search application.\n",
    "\n",
    "## Background\n",
    "\n",
    "In previous experiments, we trained an XGBoost Classifier model to predict the objective values of neighboring schedules. In this experiment, we will use the trained models to perform a local search to find the best schedule.\n",
    "\n",
    "## Hypothesis\n",
    "\n",
    "The XGBoost Classifier model will be able to efficiently guide the local search algorithm to find a schedule with a lower objective value than the initial schedule.\n",
    "\n",
    "## Methodology\n",
    "\n",
    "### Tools and Materials\n"
   ]
  },
  {
   "cell_type": "code",
   "execution_count": 1,
   "id": "3b190d4d",
   "metadata": {},
   "outputs": [],
   "source": [
    "import numpy as np\n",
    "import json\n",
    "import time\n",
    "from itertools import chain, combinations\n",
    "import sys\n",
    "from math import comb  # Python 3.8 and later\n",
    "import xgboost as xgb\n",
    "import pickle\n",
    "from typing import List, Tuple, Dict, Iterable, TypeVar, Union, Any, Optional, Literal\n",
    "\n",
    "import logging\n",
    "import sys # Needed for StreamHandler in order to enable explicit console output\n",
    "\n",
    "# Logging configuration\n",
    "log_level = logging.DEBUG # DEBUG or INFO\n",
    "log_format = '%(asctime)s - %(name)s - %(levelname)s - %(message)s'\n",
    "\n",
    "# Log to a file instead of to the console:\n",
    "logging.basicConfig(level=log_level, format=log_format, filename='search.log', filemode='w')\n",
    "\n",
    "# Get a logger instance\n",
    "logger = logging.getLogger(__name__)"
   ]
  },
  {
   "cell_type": "markdown",
   "id": "a56b85b5",
   "metadata": {},
   "source": [
    "### Load Parameters\n"
   ]
  },
  {
   "cell_type": "code",
   "execution_count": 2,
   "id": "942b1e68",
   "metadata": {},
   "outputs": [
    {
     "name": "stdout",
     "output_type": "stream",
     "text": [
      "Parameters loaded: N=22, T=20, l=10, d=5, max_s=20, q=0.2, w=0.1, num_schedules=300000\n"
     ]
    }
   ],
   "source": [
    "N = 22 # Number of patients\n",
    "T = 20 # Number of intervals\n",
    "l = 10 # Target service time length\n",
    "\n",
    "file_path_parameters = f\"datasets/parameters_{N}_{T}_{l}.pkl\" # For retrieving saved scheduling parameters\n",
    "# Load the data from the pickle file\n",
    "with open(file_path_parameters, 'rb') as f:\n",
    "    data_params = pickle.load(f)\n",
    "\n",
    "N = data_params['N'] # Number of patients\n",
    "T = data_params['T'] # Number of intervals\n",
    "d = data_params['d'] # Length of each interval\n",
    "max_s = data_params['max_s'] # Maximum service time\n",
    "q = data_params['q'] # Probability of a scheduled patient not showing up\n",
    "w = data_params['w'] # Weight for the waiting time in objective function\n",
    "l = data_params['l']\n",
    "  \n",
    "num_schedules = data_params['num_schedules'] # Size of training set\n",
    "convolutions = data_params['convolutions'] # Service time distributions used in training phase adjusted for no-shows\n",
    "print(f\"Parameters loaded: N={N}, T={T}, l={l}, d={d}, max_s={max_s}, q={q}, w={w}, num_schedules={num_schedules}\")"
   ]
  },
  {
   "cell_type": "markdown",
   "id": "1f49c756",
   "metadata": {},
   "source": [
    "### Experimental Design\n",
    "\n",
    "We will use the trained XGBoost Classifier model to guide a local search algorithm to find the best schedule. The local search algorithm will start with an initial schedule and iteratively explore the neighborhood of the current schedule to find a better one. As an initial schedule, we will use the schedule with the lowest objective value from the training dataset that was used to train the XGBoost Classifier model.\n",
    "\n",
    "### Variables\n",
    "\n",
    "-   **Independent Variables**:\n",
    "    -   Initial schedule, trained XGBoost Classifier\n",
    "-   **Dependent Variables**:\n",
    "    -   Speed, accuracy, and convergence of the local search algorithm.\n",
    "\n",
    "### Data Collection\n",
    "\n",
    "We will use the training dataset to initialize the local search algorithm.\n",
    "\n",
    "### Sample Size and Selection\n",
    "\n",
    "### Experimental Procedure\n",
    "\n",
    "\n",
    "```{mermaid}\n",
    "graph TD\n",
    "                A[Start] --> B(\"Initialize schedule x\");\n",
    "                B --> C{\"Iterate through all subsets U of V*\"};\n",
    "                C -- \"For each U\" --> D{\"Compute y = x + sum(v in U)\"};\n",
    "                D -- \"Check y >= 0\" --> E{\"Compute cost C(y)\"};\n",
    "                E --> F{\"Is C(y) < C(x)?\"};\n",
    "                F -- \"Yes\" --> G[\"Update x := y\"];\n",
    "                G --> C;\n",
    "                F -- \"No\" --> H{\"Finished iterating all U?\"};\n",
    "                H -- \"Yes\" --> I[\"End: x is optimal schedule\"];\n",
    "                H -- \"No\" --> C;\n",
    "                D -- \"If y < 0\" --> C;\n",
    "```\n",
    "\n",
    "\n",
    "## Results\n",
    "\n",
    "### Load the initial best schedule.\n",
    "\n",
    "Start with the best solution found so far $\\{x^*, C(x^*)\\}$ from the training set.\n"
   ]
  },
  {
   "cell_type": "code",
   "execution_count": 3,
   "id": "43c911b8",
   "metadata": {},
   "outputs": [
    {
     "name": "stdout",
     "output_type": "stream",
     "text": [
      "The data has following keys: ['best_schedule', 'objective']\n",
      "The current best schedule is: [2, 1, 1, 2, 0, 1, 1, 1, 1, 0, 1, 1, 1, 1, 1, 1, 1, 1, 1, 3] with objective value 23.723087354309918.\n"
     ]
    }
   ],
   "source": [
    "# Load the best solution from the training dataset\n",
    "file_path_schedules = f\"datasets/best_schedule_{N}_{T}_{l}.pkl\"\n",
    "# Load the data from the pickle file\n",
    "with open(file_path_schedules, 'rb') as f:\n",
    "    best_schedule_data = pickle.load(f)\n",
    "    \n",
    "print(f\"The data has following keys: {[key for key in best_schedule_data.keys()]}\")\n",
    "\n",
    "print(f\"The current best schedule is: {best_schedule_data['best_schedule']} with objective value {best_schedule_data['objective']}.\")\n",
    "\n",
    "# Set the initial schedule to the best solution from the training dataset\n",
    "initial_schedule = best_schedule_data['best_schedule']"
   ]
  },
  {
   "cell_type": "markdown",
   "id": "c5fe2a0d",
   "metadata": {},
   "source": [
    "### Generate the neighborhood of $x^*$.\n",
    "\n",
    "#### Define $V^*$ and $U_t$.\n",
    "\n",
    "Define the vectors $V^*$ as follows:\n",
    "\n",
    "$$\n",
    "\\left\\{\n",
    "\\begin{array}{c}\n",
    "\\vec{v_1}, \\\\\n",
    "\\vec{v_2}, \\\\\n",
    "\\vec{v_3}, \\\\\n",
    "\\vdots \\\\\n",
    "\\vec{v_{T-1}}, \\\\\n",
    "\\vec{v_T} \\\\\n",
    "\\end{array}\n",
    "\\right\\} = \n",
    "\\left\\{\n",
    "\\begin{array}{c}\n",
    "(-1, 0,...., 0, 1), \\\\\n",
    "(1, -1, 0,...., 0), \\\\\n",
    "(0, 1, -1,...., 0), \\\\\n",
    "\\vdots \\\\\n",
    "(0,...., 1, -1, 0), \\\\\n",
    "(0,...., 0, 1, -1) \\\\\n",
    "\\end{array}\n",
    "\\right\\}\n",
    "$$\n",
    "\n",
    "Define $U_t$ as the set of all possible subsets of $V^*$ such that each subset contains exactly $t$ elements, i.e.,\n",
    "\n",
    "$$\n",
    "U_t = \\{ S \\subsetneq V^* \\mid |S| = t \\}, \\quad t \\in \\{1, 2, \\dots, T\\}.\n",
    "$$\n"
   ]
  },
  {
   "cell_type": "code",
   "execution_count": 4,
   "id": "12a6a973",
   "metadata": {},
   "outputs": [
    {
     "data": {
      "text/plain": [
       "[[0, 1],\n",
       " [0, 2],\n",
       " [0, 3],\n",
       " [0, 4],\n",
       " [0, 5],\n",
       " [0, 6],\n",
       " [0, 7],\n",
       " [0, 8],\n",
       " [0, 9],\n",
       " [0, 10],\n",
       " [0, 11],\n",
       " [0, 12],\n",
       " [0, 13],\n",
       " [0, 14],\n",
       " [0, 15],\n",
       " [0, 16],\n",
       " [0, 17],\n",
       " [0, 18],\n",
       " [0, 19],\n",
       " [1, 2]]"
      ]
     },
     "execution_count": 4,
     "metadata": {},
     "output_type": "execute_result"
    }
   ],
   "source": [
    "from functions import get_v_star\n",
    "\n",
    "def powerset(iterable, size=1):\n",
    "    \"powerset([1,2,3], 2) --> (1,2) (1,3) (2,3)\"\n",
    "    return [[i for i in item] for item in combinations(iterable, size)]\n",
    "  \n",
    "x = initial_schedule\n",
    "\n",
    "# Generate a matrix 'v_star' using the 'get_v_star' function\n",
    "v_star = get_v_star(T)\n",
    "\n",
    "# Generate all possible non-empty subsets (powerset) of the set {0, 1, 2, ..., t-1}\n",
    "# 'ids' will be a list of tuples, where each tuple is a subset of indices\n",
    "size = 2\n",
    "ids = powerset(range(T), size)\n",
    "len(ids)\n",
    "ids[:T]"
   ]
  },
  {
   "cell_type": "markdown",
   "id": "83bcf773",
   "metadata": {},
   "source": [
    "#### Define the neighborhood of $x$\n",
    "\n",
    "Define the neighborhood of $x$ as all vectors of the form $x + u_{tk}, \\forall \\, u_{tk} \\in U_t$.\n"
   ]
  },
  {
   "cell_type": "code",
   "execution_count": 5,
   "id": "1c85d877",
   "metadata": {},
   "outputs": [
    {
     "name": "stdout",
     "output_type": "stream",
     "text": [
      "All neighborhoods with 2 patients switched:\n",
      " x = [2 1 1 2 0 1 1 1 1 0 1 1 1 1 1 1 1 1 1 3]: \n",
      " [[2 0 1 ... 1 1 4]\n",
      " [1 2 0 ... 1 1 4]\n",
      " [1 1 2 ... 1 1 4]\n",
      " ...\n",
      " [2 1 1 ... 1 0 3]\n",
      " [2 1 1 ... 0 2 2]\n",
      " [2 1 1 ... 2 1 2]]\n"
     ]
    }
   ],
   "source": [
    "from functions import get_neighborhood\n",
    "test_nh = get_neighborhood(x, v_star, ids)\n",
    "print(f\"All neighborhoods with {size} patients switched:\\n x = {np.array(x)}: \\n {test_nh}\")"
   ]
  },
  {
   "cell_type": "markdown",
   "id": "d5c481d4",
   "metadata": {},
   "source": [
    "### Local search algorithm with prediction\n",
    "\n",
    "Load the pre-trained model and use it for evaluating schedules within a local search algorithm. The search algorithm checks for false positives (prediction improvement = \"True\", actual is improvement = \"False\") and false negatives (prediction improvement = \"False\", actual is improvement = \"True\"). In both cases the model is updated using the schedules and associated objective values (rankings).\n",
    "\n",
    "\n",
    "```{mermaid}\n",
    "graph TD\n",
    "    %% --- Part 1: Initialization & Outer Loop ---\n",
    "\n",
    "    A[Start: local_search_predict_update] --> B{Inputs: x, w, v_star, clf, params, size, restarts, threshold};\n",
    "    B --> C{\"Validate Inputs (clf, x length)\"};\n",
    "    C -- Valid --> D[\"Initialize: x_star, T, restart_count=0, t=1\"];\n",
    "    C -- Invalid --> Z_Err1[\"Raise ValueError\"];\n",
    "    D --> E{\"Calculate Initial cost_star\"};\n",
    "    E -- Success --> F{\"Outer Loop: t <= size AND restart_count < restarts?\"};\n",
    "    E -- Error --> Z_Err2[\"Return x_star, clf\"];\n",
    "\n",
    "    %% Connections FROM other parts back to the Outer Loop check (F)\n",
    "    Connector_O([From Part 2: Break Inner Loop]) --> F;\n",
    "    Connector_CC_Yes([From Part 3: Found Better at Level t]) --> F;\n",
    "    Connector_DD([From Part 3: Incremented t]) --> F;\n",
    "\n",
    "    %% Connections TO other parts\n",
    "    F -- No --> Y[\"End: Return x_star, clf\"];\n",
    "    F -- Yes --> G[\"Generate Neighborhood (level t)\"];\n",
    "    G --> Connector_H([To Part 2: Start Inner Loop]);\n",
    "```\n",
    "\n",
    "```{mermaid}\n",
    "graph TD\n",
    "    %% --- Part 2: Inner Loop - Neighbor Evaluation ---\n",
    "\n",
    "    Connector_G([From Part 1: Generate Neighborhood]) --> H{\"Inner Loop: For each neighbor\"};\n",
    "\n",
    "    H -- Next Neighbor --> I{\"Predict with clf: prediction, P(0)\"};\n",
    "    I -- Error Predicting --> I_Err[\"Log Error, Assume P=0\"];\n",
    "    I_Err --> J;\n",
    "    I -- Success --> J{\"Perform Expensive Check? (Pred=1 OR P(0) < threshold)\"};\n",
    "    J -- No --> H_Next[Next Neighbor]; %% Skip expensive check\n",
    "    J -- Yes --> K{\"Calculate True Cost (Expensive Objective Func)\"};\n",
    "    K -- Error --> K_Err[\"Log Error\"];\n",
    "    K_Err --> H_Next;\n",
    "    K -- Success --> L{\"Is neighbor truly better? (cost_neighbor < cost_star)\"};\n",
    "\n",
    "    %% Path 1: Improvement Found\n",
    "    L -- Yes --> M[\"Update x_star, cost_star, T\"];\n",
    "    M --> N[\"Set found_better=True, t=1, restart_count++\"];\n",
    "    N --> O[\"Break Inner Loop\"];\n",
    "    O --> Connector_F1([To Part 1: Outer Loop Check]); %% Connects back to F\n",
    "\n",
    "    %% Path 2: No Improvement\n",
    "    L -- No --> P{\"Misprediction? (Pred=1 AND Actual=0)\"};\n",
    "    P -- No --> Q[\"Log Borderline/Correct Pred=0\"];\n",
    "    Q --> H_Next;\n",
    "    P -- Yes --> R[\"Log Misprediction\"];\n",
    "    R --> Connector_S([To Part 3: Start Retraining]); %% Trigger Retraining\n",
    "\n",
    "    %% Loop Control\n",
    "    H_Next --> H; %% Process next neighbor\n",
    "    H -- End of Neighbors --> BB{\"End Inner Loop\"};\n",
    "    BB --> Connector_BB([To Part 3: Check Level Result]);\n",
    "```\n",
    "\n",
    "```{mermaid}\n",
    "graph TD\n",
    "    %% --- Part 3: Retraining Sub-routine & Loop Control ---\n",
    "\n",
    "    %% Retraining Sub-routine Start\n",
    "    Connector_R([From Part 2: Misprediction Detected]) --> S[\"Start Retraining Sub-routine\"];\n",
    "    subgraph Retraining Sub-routine\n",
    "        direction TB\n",
    "        S --> T{\"Calculate True Costs for ALL neighbors at level t\"};\n",
    "        T --> U{\"Opportunistic Better Found during Cost Calc?\"};\n",
    "        U -- Yes --> V[\"Update x_star, cost_star, T\"];\n",
    "        V --> W[\"Set found_better_retrain=True\"];\n",
    "        W --> X[\"Collect Data: Append features/labels for update\"];\n",
    "        U -- No --> X;\n",
    "        X --> X_Loop{\"More neighbors to process for retraining?\"};\n",
    "        X_Loop -- Yes --> T;\n",
    "        X_Loop -- No --> Y_Fit{\"Fit clf incrementally\"};\n",
    "        Y_Fit -- Error --> Y_FitErr[\"Log Fit Error\"];\n",
    "        Y_FitErr --> Z_CheckOpp{\"Check if found_better_retrain?\"};\n",
    "        Y_Fit -- Success --> Z_CheckOpp;\n",
    "    end\n",
    "\n",
    "    %% Retraining Outcome\n",
    "    Z_CheckOpp -- Yes --> AA[\"Set found_better=True, t=1, restart_count++\"];\n",
    "    AA --> Connector_O([To Part 1: Outer Loop Check via Break]); %% Connects back to F via O\n",
    "    Z_CheckOpp -- No --> Connector_H_Next([To Part 2: Next Neighbor]); %% Retraining finished, continue inner loop\n",
    "\n",
    "    %% Inner Loop Finished - Level Control Logic\n",
    "    Connector_BB([From Part 2: End Inner Loop]) --> CC{\"Found better solution at level t?\"};\n",
    "    CC -- Yes --> Connector_F2([To Part 1: Outer Loop Check]); %% Restart checks from t=1\n",
    "    CC -- No --> DD[\"Increment t\"];\n",
    "    DD --> Connector_F3([To Part 1: Outer Loop Check]); %% Continue outer loop with next t\n",
    "```"
   ]
  },
  {
   "cell_type": "code",
   "execution_count": 6,
   "id": "8d861311",
   "metadata": {},
   "outputs": [],
   "source": [
    "def local_search_predict(\n",
    "    x: List[int],\n",
    "    w: float,\n",
    "    v_star: np.ndarray,\n",
    "    clf: xgb.XGBClassifier,\n",
    "    obj_func_params: Dict[str, Any],\n",
    "    size: int = 2,\n",
    "    restarts: int = 3,\n",
    "    check_proba_threshold: float = 0.7,\n",
    "    retrain_on: Literal['both', 'fp', 'fn', 'none'] = 'fp'\n",
    ") -> Tuple[List[int], xgb.XGBClassifier]:\n",
    "    \"\"\"\n",
    "    Performs local search guided by an XGBClassifier, minimizing expensive\n",
    "    objective calls. Verifies prediction=0 if P(class=0) is below threshold.\n",
    "    Updates the classifier incrementally when specified mispredictions occur.\n",
    "    Uses logging instead of print statements. T is inferred from len(x).\n",
    "\n",
    "    Args:\n",
    "        x (List[int]): Starting point.\n",
    "        w (float): Weight for combining objectives.\n",
    "        v_star (np.ndarray): Current best overall solution (used for guidance).\n",
    "        clf (xgb.XGBClassifier): Pre-trained XGBoost Classifier.\n",
    "        obj_func_params (Dict[str, Any]): Parameters for objective function.\n",
    "        size (int, optional): Max neighborhood size. Defaults to 2.\n",
    "        restarts (int, optional): Max restarts. Defaults to 3.\n",
    "        check_proba_threshold (float, optional): Threshold for P(class=0) verification. Defaults to 0.7. # Corrected default in comment\n",
    "        retrain_on (Literal['both', 'fp', 'fn', 'none'], optional):\n",
    "            Specifies when to trigger retraining based on misprediction type:\n",
    "            - 'both': Retrain on False Positives (P=1, A=0) and False Negatives (P=0, A=1).\n",
    "            - 'fp': Retrain only on False Positives. (Default) # Corrected default in comment\n",
    "            - 'fn': Retrain only on False Negatives.\n",
    "            - 'none': Never retrain based on mispredictions.\n",
    "            Defaults to 'fp'.\n",
    "\n",
    "    Returns:\n",
    "        Tuple[List[int], xgb.XGBClassifier]: Best solution found and potentially updated classifier.\n",
    "    \"\"\"\n",
    "    # --- Input Validation ---\n",
    "    # Check if clf appears fitted (basic check)\n",
    "    if not hasattr(clf, 'classes_') or not hasattr(clf, 'n_features_in_'):\n",
    "         logger.warning(\"Classifier 'clf' may not be fitted. Proceeding with caution.\")\n",
    "         # Depending on strictness, you might raise an error here instead.\n",
    "         # raise ValueError(\"Classifier 'clf' must be fitted before use.\")\n",
    "\n",
    "    if not x:\n",
    "        logger.error(\"Input schedule x cannot be empty (length must be positive).\")\n",
    "        raise ValueError(\"Input schedule x cannot be empty (length must be positive).\")\n",
    "\n",
    "    allowed_retrain_values = {'both', 'fp', 'fn', 'none'}\n",
    "    if retrain_on not in allowed_retrain_values:\n",
    "        logger.error(\"Invalid value for 'retrain_on': %s. Must be one of %s\", retrain_on, allowed_retrain_values)\n",
    "        raise ValueError(f\"Invalid value for 'retrain_on'. Must be one of {allowed_retrain_values}\")\n",
    "\n",
    "    # --- Initialization ---\n",
    "    x_star = list(x) # Work with a copy\n",
    "    T = len(x_star) # Infer T from the length - calculated once initially\n",
    "    restart_count = 0\n",
    "    t = 1 # Start with neighborhood size 1\n",
    "\n",
    "    # Calculate initial cost\n",
    "    try:\n",
    "        logger.info(\"Calculating initial cost...\")\n",
    "        objectives_star = calculate_objective_serv_time_lookup(x_star, **obj_func_params)\n",
    "        cost_star = w * objectives_star[0] + (1 - w) * objectives_star[1]\n",
    "        logger.info(\"Initial solution cost: %.4f\", cost_star)\n",
    "    except Exception as e:\n",
    "        logger.exception(\"Error calculating initial cost: %s\", e)\n",
    "        return x_star, clf # Return current best and original classifier on error\n",
    "\n",
    "    # --- Main Search Loop ---\n",
    "    while t <= size and restart_count < restarts:\n",
    "        logger.info(\"--- Running local search level t=%d (Restart %d/%d) ---\", t, restart_count + 1, restarts)\n",
    "\n",
    "        ids_gen_iterable = powerset(range(T), t) # Use current T\n",
    "        # Pass x_star (current best) to neighborhood generation\n",
    "        neighborhood_iter = get_neighborhood(x_star, v_star, ids_gen_iterable)\n",
    "\n",
    "        found_better_solution_at_level_t = False\n",
    "        neighbors_data_at_level_t: List[Dict[str, Any]] = [] # Store data for potential retraining\n",
    "        neighbors_processed_count = 0\n",
    "\n",
    "        for neighbor_np in neighborhood_iter:\n",
    "            neighbors_processed_count += 1\n",
    "            neighbor = neighbor_np.tolist() # Convert numpy array to list\n",
    "            neighbor_info = {\"schedule\": neighbor, \"cost\": None, \"true_label\": None, \"prediction\": None}\n",
    "            neighbors_data_at_level_t.append(neighbor_info) # Add neighbor info early\n",
    "\n",
    "            # --- Feature Creation ---\n",
    "            # Feature is concatenation - ensure this matches how clf was trained\n",
    "            feature_pair = x_star + neighbor\n",
    "\n",
    "            # --- 1. Predict using the CHEAP classifier ---\n",
    "            prediction = 0 # Default prediction\n",
    "            proba_class_0 = 1.0 # Default probability\n",
    "            try:\n",
    "                # Reshape feature_pair for XGBoost if needed (expects 2D array)\n",
    "                feature_pair_np = np.array(feature_pair).reshape(1, -1)\n",
    "                prediction = clf.predict(feature_pair_np)[0]\n",
    "                proba = clf.predict_proba(feature_pair_np)[0]\n",
    "                # Ensure proba has expected structure (e.g., 2 elements for binary class)\n",
    "                if len(proba) > 0:\n",
    "                   proba_class_0 = proba[0] # Probability of class 0\n",
    "                else:\n",
    "                   logger.warning(\"Predict_proba returned unexpected structure: %s. Using default P(0)=1.0\", proba)\n",
    "            except Exception as e:\n",
    "                logger.warning(\"Error predicting for neighbor %d: %s. Assuming prediction=0.\", neighbors_processed_count, e)\n",
    "                # Keep default prediction=0, proba_class_0=1.0\n",
    "\n",
    "            neighbor_info[\"prediction\"] = prediction # Store prediction\n",
    "            logger.debug(\"  Neighbor %d: Predicted=%d (P(0)=%.3f)\", neighbors_processed_count, prediction, proba_class_0)\n",
    "\n",
    "            # --- 2. Decide whether to perform expensive check ---\n",
    "            perform_expensive_check = False\n",
    "            check_reason = \"\"\n",
    "\n",
    "            if prediction == 1:\n",
    "                perform_expensive_check = True\n",
    "                check_reason = \"Predicted 1\"\n",
    "            elif proba_class_0 < check_proba_threshold:\n",
    "                perform_expensive_check = True\n",
    "                check_reason = f\"Borderline P(0) < {check_proba_threshold:.3f}\"\n",
    "            else: # prediction == 0 and proba_class_0 >= threshold\n",
    "                logger.debug(\"  -> Skipping objective function call (Confident P=0).\")\n",
    "\n",
    "            # --- 3. Perform EXPENSIVE check if needed ---\n",
    "            if perform_expensive_check:\n",
    "                logger.debug(\"  -> Verifying (%s)...\", check_reason)\n",
    "                try:\n",
    "                    objectives_neighbor = calculate_objective_serv_time_lookup(neighbor, **obj_func_params)\n",
    "                    cost_neighbor = w * objectives_neighbor[0] + (1 - w) * objectives_neighbor[1]\n",
    "                    is_truly_better = cost_neighbor < cost_star\n",
    "                    true_label = 1 if is_truly_better else 0\n",
    "\n",
    "                    # Store results in neighbor_info\n",
    "                    neighbor_info[\"cost\"] = cost_neighbor\n",
    "                    neighbor_info[\"true_label\"] = true_label\n",
    "\n",
    "                    logger.debug(\"      True Cost=%.4f (Current Best=%.4f) -> Actual Better=%s\",\n",
    "                                 cost_neighbor, cost_star, is_truly_better)\n",
    "\n",
    "                    # --- 4. Check for Misprediction and Trigger Retraining (Conditional) ---\n",
    "                    misprediction = (prediction != true_label)\n",
    "                    trigger_retraining = False\n",
    "                    opportunistic_update_occurred = False # Reset for this neighbor check\n",
    "\n",
    "                    if misprediction and retrain_on != 'none':\n",
    "                        misprediction_type = \"\"\n",
    "                        should_retrain_this_type = False\n",
    "\n",
    "                        if prediction == 1 and not is_truly_better: # False Positive (P=1, A=0)\n",
    "                            misprediction_type = \"False Positive (P=1, A=0)\"\n",
    "                            should_retrain_this_type = retrain_on in ['both', 'fp']\n",
    "                        elif prediction == 0 and is_truly_better: # False Negative (P=0, A=1)\n",
    "                            misprediction_type = \"False Negative (P=0, A=1)\"\n",
    "                            should_retrain_this_type = retrain_on in ['both', 'fn']\n",
    "\n",
    "                        if should_retrain_this_type:\n",
    "                            logger.warning(\"      Misprediction! (%s). Triggering retraining process based on 'retrain_on=%s'.\",\n",
    "                                           misprediction_type, retrain_on)\n",
    "                            trigger_retraining = True\n",
    "                        elif misprediction_type: # Misprediction occurred but not the type we retrain on\n",
    "                             logger.info(\"      Misprediction occurred (%s), but retraining is disabled for this type ('retrain_on=%s').\",\n",
    "                                         misprediction_type, retrain_on)\n",
    "\n",
    "                    # --- Retraining Sub-routine (if triggered) ---\n",
    "                    if trigger_retraining:\n",
    "                        features_for_update: List[List[int]] = []\n",
    "                        labels_for_update: List[int] = []\n",
    "                        best_opportunistic_neighbor = None\n",
    "                        best_opportunistic_cost = cost_star # Initialize with current best cost\n",
    "\n",
    "                        logger.info(\"      Calculating true costs for %d neighbors at level %d for retraining...\",\n",
    "                                    len(neighbors_data_at_level_t), t)\n",
    "\n",
    "                        for n_idx, n_info in enumerate(neighbors_data_at_level_t):\n",
    "                            n_schedule = n_info[\"schedule\"]\n",
    "                            n_cost = n_info[\"cost\"]\n",
    "                            n_true_label = n_info[\"true_label\"]\n",
    "\n",
    "                            # Calculate cost if not already done (e.g., for neighbors skipped earlier)\n",
    "                            if n_cost is None or n_true_label is None:\n",
    "                                try:\n",
    "                                    logger.debug(\"          Calculating missing cost for neighbor %d...\", n_idx+1)\n",
    "                                    n_objectives = calculate_objective_serv_time_lookup(n_schedule, **obj_func_params)\n",
    "                                    n_cost = w * n_objectives[0] + (1 - w) * n_objectives[1]\n",
    "                                    n_is_better = n_cost < cost_star\n",
    "                                    n_true_label = 1 if n_is_better else 0\n",
    "                                    n_info[\"cost\"] = n_cost # Update info cache\n",
    "                                    n_info[\"true_label\"] = n_true_label\n",
    "                                except Exception as e:\n",
    "                                    logger.warning(\"          Error calculating cost for neighbor %d (%s) during retraining: %s. Skipping.\",\n",
    "                                                   n_idx+1, n_schedule, e)\n",
    "                                    continue # Skip this neighbor for training data\n",
    "\n",
    "                            # Prepare data for fitting\n",
    "                            n_feature_pair = x_star + n_schedule # Create feature pair for this neighbor\n",
    "                            features_for_update.append(n_feature_pair)\n",
    "                            labels_for_update.append(n_true_label)\n",
    "                            logger.debug(\"          Neighbor %d: Cost=%.4f, True Label=%d (Used for training)\",\n",
    "                                         n_idx+1, n_cost, n_true_label)\n",
    "\n",
    "                            # Check for opportunistic update (find the best neighbor *among those evaluated*)\n",
    "                            if n_true_label == 1 and n_cost < best_opportunistic_cost:\n",
    "                                logger.info(\"          Opportunistic Update Candidate! Found/Confirmed better neighbor (%d) during cost calculation.\", n_idx+1)\n",
    "                                best_opportunistic_neighbor = list(n_schedule) # Store a copy of the schedule\n",
    "                                best_opportunistic_cost = n_cost # Update best cost found *during retraining*\n",
    "                                opportunistic_update_occurred = True\n",
    "\n",
    "\n",
    "                        # Perform incremental fit if data was gathered\n",
    "                        if features_for_update:\n",
    "                            logger.info(\"      Fitting model incrementally with %d data points...\", len(labels_for_update))\n",
    "                            try:\n",
    "                                X_update = np.array(features_for_update) # Convert list of lists to 2D numpy array\n",
    "                                y_update = np.array(labels_for_update)\n",
    "\n",
    "                                # Ensure clf is fitted before incremental update if it's the first time\n",
    "                                # XGBoost's fit with xgb_model handles this correctly.\n",
    "                                clf.fit(X_update, y_update, xgb_model=clf.get_booster()) # Pass the existing booster\n",
    "                                logger.info(\"      Model update complete.\")\n",
    "\n",
    "                            except Exception as e:\n",
    "                                logger.exception(\"      Error during incremental model update: %s\", e)\n",
    "                        else:\n",
    "                            logger.warning(\"      No valid data gathered for retraining.\")\n",
    "\n",
    "                        # If an opportunistic update was found, apply it now\n",
    "                        if opportunistic_update_occurred:\n",
    "                             logger.info(f\"      Applying opportunistic update. New best: {best_opportunistic_neighbor} with cost = {best_opportunistic_cost:.4f}.\")\n",
    "                             x_star = best_opportunistic_neighbor # Use the best one found (already a list)\n",
    "                             cost_star = best_opportunistic_cost\n",
    "                             T = len(x_star) # Update T as length might have changed\n",
    "                        # --- End of Retraining Sub-routine ---\n",
    "\n",
    "                    # --- 5. Handle Updates & Loop Control ---\n",
    "                    # Check if we should update x_star and restart the search level\n",
    "                    if opportunistic_update_occurred:\n",
    "                        found_better_solution_at_level_t = True # Mark improvement found\n",
    "                        t = 1 # Reset level\n",
    "                        restart_count += 1\n",
    "                        logger.info(\"      Restarting search from t=1 due to opportunistic update during retraining. Restart count: %d\", restart_count)\n",
    "                        break # Exit inner loop (for neighbor_np in neighborhood_iter)\n",
    "\n",
    "                    elif is_truly_better: # True Positive or handled False Negative (update to the current neighbor)\n",
    "                        logger.info(f\"      Confirmed better solution (or handled FN). Updating x_star to {neighbor} with cost = {cost_neighbor:.4f}.\")\n",
    "                        # CORRECTED: Assign neighbor directly as it's already a list\n",
    "                        x_star = neighbor\n",
    "                        cost_star = cost_neighbor\n",
    "                        T = len(x_star) # Update T as length might have changed\n",
    "                        found_better_solution_at_level_t = True\n",
    "                        t = 1 # Reset level\n",
    "                        restart_count += 1\n",
    "                        logger.info(\"      Restarting search from t=1. Restart count: %d\", restart_count)\n",
    "                        break # Exit inner loop (for neighbor_np in neighborhood_iter)\n",
    "\n",
    "                    # else: (Not truly better and no opportunistic update) -> continue to next neighbor implicitly\n",
    "\n",
    "                except Exception as e:\n",
    "                    logger.warning(\"  Error calculating objective or handling result for neighbor %d (%s): %s.\",\n",
    "                                   neighbors_processed_count, neighbor, e)\n",
    "            # --- End of 'if perform_expensive_check:' ---\n",
    "\n",
    "        # --- End of neighbor loop (for neighbor_np in neighborhood_iter) ---\n",
    "\n",
    "        # If we finished the loop for level t without finding a better solution (or breaking early)\n",
    "        if not found_better_solution_at_level_t:\n",
    "            if neighbors_processed_count > 0:\n",
    "                logger.info(\"No improving solution found or confirmed at level t=%d.\", t)\n",
    "            else:\n",
    "                logger.info(\"No neighbors generated or processed at level t=%d.\", t)\n",
    "            t += 1 # Move to the next neighborhood size level\n",
    "\n",
    "    # --- End of outer while loop ---\n",
    "    logger.info(\"Local search finished after %d restarts or reaching max size %d.\", restart_count, size)\n",
    "    logger.info(\"Final solution: %s\", x_star)\n",
    "    logger.info(\"Final cost: %.4f\", cost_star)\n",
    "\n",
    "    return x_star, clf"
   ]
  },
  {
   "cell_type": "code",
   "execution_count": 7,
   "id": "9fd2abf9",
   "metadata": {},
   "outputs": [
    {
     "name": "stdout",
     "output_type": "stream",
     "text": [
      "\n",
      "Initial schedule: [2, 1, 1, 2, 0, 1, 1, 1, 1, 0, 1, 1, 1, 1, 1, 1, 1, 1, 1, 3], with objective value: 23.723087354309918.\n",
      "Final schedule: [2, 1, 1, 2, 0, 1, 1, 1, 1, 1, 1, 0, 1, 1, 1, 1, 1, 1, 1, 3], with objective value: 23.700684253723423. Search time 939.88 seconds.\n"
     ]
    }
   ],
   "source": [
    "from functions import calculate_objective_serv_time_lookup\n",
    "start = time.time()\n",
    "# Define the path to the saved model\n",
    "model_path = \"models/classifier_large_instance.json\" # Make sure this path is correct\n",
    "\n",
    "with open(\"best_trial_params.json\", \"r\") as f:\n",
    "    best_trial_params = json.load(f)\n",
    "\n",
    "clf = xgb.XGBClassifier(\n",
    "    tree_method=\"hist\",\n",
    "    max_depth=best_trial_params[\"max_depth\"],\n",
    "    min_child_weight=best_trial_params[\"min_child_weight\"],\n",
    "    gamma=best_trial_params[\"gamma\"],\n",
    "    subsample=best_trial_params[\"subsample\"],\n",
    "    colsample_bytree=best_trial_params[\"colsample_bytree\"],\n",
    "    learning_rate=best_trial_params[\"learning_rate\"],\n",
    "    n_estimators=best_trial_params[\"n_estimators\"],\n",
    ")\n",
    "\n",
    "# Load the model directly from the file path\n",
    "clf.load_model(model_path)\n",
    "\n",
    "intial_objectives = calculate_objective_serv_time_lookup(x, d, convolutions)\n",
    "initial_c_star = w * intial_objectives[0] + (1 - w) * intial_objectives[1]\n",
    "x_star = local_search_predict(x, w, v_star, clf, {'d': d, 'convolutions': convolutions}, size=T, restarts=T)[0]\n",
    "final_objectives = calculate_objective_serv_time_lookup(x_star, d, convolutions)\n",
    "final_c_star = w * final_objectives[0] + (1 - w) * final_objectives[1]\n",
    "end = time.time()\n",
    "print(f\"\\nInitial schedule: {x}, with objective value: {initial_c_star}.\\nFinal schedule: {x_star}, with objective value: {final_c_star}. Search time {end - start:.2f} seconds.\")"
   ]
  },
  {
   "cell_type": "markdown",
   "id": "ba3784fc",
   "metadata": {},
   "source": [
    "### Run the conventional local search algorithm for validation\n",
    "\n",
    "We will run a conventional local search algorithm to evaluate the new method, assessing both the quality of the results and its computational efficiency.\n"
   ]
  },
  {
   "cell_type": "code",
   "execution_count": 8,
   "id": "30953a5a",
   "metadata": {},
   "outputs": [
    {
     "name": "stdout",
     "output_type": "stream",
     "text": [
      "Initial schedule: [2, 1, 1, 2, 0, 1, 1, 1, 1, 0, 1, 1, 1, 1, 1, 1, 1, 1, 1, 3]\n",
      "Initial solution: [2 1 1 2 0 1 1 1 1 0 1 1 1 1 1 1 1 1 1 3], cost: 23.723087354309918\n",
      "Running local search with switching 1 patient(s)\n",
      "Size of neighborhood: 18\n",
      "Found better solution: [2 1 1 2 0 1 1 1 1 1 0 1 1 1 1 1 1 1 1 3], cost: 23.700818524462598\n",
      "Running local search with switching 1 patient(s)\n",
      "Size of neighborhood: 18\n",
      "Found better solution: [2 1 1 2 0 1 1 1 1 1 1 0 1 1 1 1 1 1 1 3], cost: 23.700684253723423\n",
      "Running local search with switching 1 patient(s)\n",
      "Size of neighborhood: 18\n",
      "Running local search with switching 2 patient(s)\n",
      "Size of neighborhood: 155\n",
      "Running local search with switching 3 patient(s)\n",
      "Size of neighborhood: 850\n"
     ]
    },
    {
     "name": "stdout",
     "output_type": "stream",
     "text": [
      "Running local search with switching 4 patient(s)\n",
      "Size of neighborhood: 3333\n"
     ]
    },
    {
     "name": "stdout",
     "output_type": "stream",
     "text": [
      "Running local search with switching 5 patient(s)\n",
      "Size of neighborhood: 9944\n"
     ]
    },
    {
     "name": "stdout",
     "output_type": "stream",
     "text": [
      "Running local search with switching 6 patient(s)\n"
     ]
    },
    {
     "name": "stdout",
     "output_type": "stream",
     "text": [
      "Size of neighborhood: 23444\n"
     ]
    },
    {
     "name": "stdout",
     "output_type": "stream",
     "text": [
      "Running local search with switching 7 patient(s)\n"
     ]
    },
    {
     "name": "stdout",
     "output_type": "stream",
     "text": [
      "Size of neighborhood: 44760\n"
     ]
    },
    {
     "name": "stdout",
     "output_type": "stream",
     "text": [
      "Running local search with switching 8 patient(s)\n"
     ]
    },
    {
     "name": "stdout",
     "output_type": "stream",
     "text": [
      "Size of neighborhood: 70330\n"
     ]
    },
    {
     "name": "stdout",
     "output_type": "stream",
     "text": [
      "Found better solution: [2 1 1 2 0 1 1 1 1 1 1 1 1 1 1 1 1 1 1 2], cost: 23.020346596110915\n",
      "Running local search with switching 1 patient(s)\n",
      "Size of neighborhood: 19\n",
      "Found better solution: [1 1 1 2 0 1 1 1 1 1 1 1 1 1 1 1 1 1 1 3], cost: 23.01025194826672\n",
      "Running local search with switching 1 patient(s)\n",
      "Size of neighborhood: 19\n",
      "Running local search with switching 2 patient(s)\n",
      "Size of neighborhood: 172\n",
      "Running local search with switching 3 patient(s)\n",
      "Size of neighborhood: 987\n"
     ]
    },
    {
     "name": "stdout",
     "output_type": "stream",
     "text": [
      "Running local search with switching 4 patient(s)\n",
      "Size of neighborhood: 4029\n"
     ]
    },
    {
     "name": "stdout",
     "output_type": "stream",
     "text": [
      "Found better solution: [2 1 1 1 1 0 1 1 1 1 1 1 1 1 1 1 1 1 1 3], cost: 22.966437347631064\n",
      "Running local search with switching 1 patient(s)\n",
      "Size of neighborhood: 19\n",
      "Running local search with switching 2 patient(s)\n",
      "Size of neighborhood: 172\n",
      "Running local search with switching 3 patient(s)\n",
      "Size of neighborhood: 987\n"
     ]
    },
    {
     "name": "stdout",
     "output_type": "stream",
     "text": [
      "Running local search with switching 4 patient(s)\n",
      "Size of neighborhood: 4029\n"
     ]
    },
    {
     "name": "stdout",
     "output_type": "stream",
     "text": [
      "Running local search with switching 5 patient(s)\n",
      "Size of neighborhood: 12444\n"
     ]
    },
    {
     "name": "stdout",
     "output_type": "stream",
     "text": [
      "Running local search with switching 6 patient(s)\n"
     ]
    },
    {
     "name": "stdout",
     "output_type": "stream",
     "text": [
      "Size of neighborhood: 30192\n"
     ]
    },
    {
     "name": "stdout",
     "output_type": "stream",
     "text": [
      "Running local search with switching 7 patient(s)\n"
     ]
    },
    {
     "name": "stdout",
     "output_type": "stream",
     "text": [
      "Size of neighborhood: 58956\n"
     ]
    },
    {
     "name": "stdout",
     "output_type": "stream",
     "text": [
      "Running local search with switching 8 patient(s)\n"
     ]
    },
    {
     "name": "stdout",
     "output_type": "stream",
     "text": [
      "Size of neighborhood: 94146\n"
     ]
    },
    {
     "name": "stdout",
     "output_type": "stream",
     "text": [
      "Running local search with switching 9 patient(s)\n"
     ]
    },
    {
     "name": "stdout",
     "output_type": "stream",
     "text": [
      "Size of neighborhood: 124202\n"
     ]
    },
    {
     "name": "stdout",
     "output_type": "stream",
     "text": [
      "Running local search with switching 10 patient(s)\n"
     ]
    },
    {
     "name": "stdout",
     "output_type": "stream",
     "text": [
      "Size of neighborhood: 136136\n"
     ]
    },
    {
     "name": "stdout",
     "output_type": "stream",
     "text": [
      "Running local search with switching 11 patient(s)\n"
     ]
    },
    {
     "name": "stdout",
     "output_type": "stream",
     "text": [
      "Size of neighborhood: 124202\n"
     ]
    },
    {
     "name": "stdout",
     "output_type": "stream",
     "text": [
      "Running local search with switching 12 patient(s)\n"
     ]
    },
    {
     "name": "stdout",
     "output_type": "stream",
     "text": [
      "Size of neighborhood: 94146\n"
     ]
    },
    {
     "name": "stdout",
     "output_type": "stream",
     "text": [
      "Running local search with switching 13 patient(s)\n"
     ]
    },
    {
     "name": "stdout",
     "output_type": "stream",
     "text": [
      "Size of neighborhood: 58956\n"
     ]
    },
    {
     "name": "stdout",
     "output_type": "stream",
     "text": [
      "Running local search with switching 14 patient(s)\n"
     ]
    },
    {
     "name": "stdout",
     "output_type": "stream",
     "text": [
      "Size of neighborhood: 30192\n"
     ]
    },
    {
     "name": "stdout",
     "output_type": "stream",
     "text": [
      "Found better solution: [2 1 1 1 1 1 1 1 1 1 1 1 1 1 1 1 1 1 1 2], cost: 22.62783494379382\n",
      "Running local search with switching 1 patient(s)\n",
      "Size of neighborhood: 20\n",
      "Running local search with switching 2 patient(s)\n",
      "Size of neighborhood: 190\n",
      "Running local search with switching 3 patient(s)\n",
      "Size of neighborhood: 1140\n"
     ]
    },
    {
     "name": "stdout",
     "output_type": "stream",
     "text": [
      "Running local search with switching 4 patient(s)\n",
      "Size of neighborhood: 4845\n"
     ]
    },
    {
     "name": "stdout",
     "output_type": "stream",
     "text": [
      "Running local search with switching 5 patient(s)\n",
      "Size of neighborhood: 15504\n"
     ]
    },
    {
     "name": "stdout",
     "output_type": "stream",
     "text": [
      "Running local search with switching 6 patient(s)\n"
     ]
    },
    {
     "name": "stdout",
     "output_type": "stream",
     "text": [
      "Size of neighborhood: 38760\n"
     ]
    },
    {
     "name": "stdout",
     "output_type": "stream",
     "text": [
      "Running local search with switching 7 patient(s)\n"
     ]
    },
    {
     "name": "stdout",
     "output_type": "stream",
     "text": [
      "Size of neighborhood: 77520\n"
     ]
    },
    {
     "name": "stdout",
     "output_type": "stream",
     "text": [
      "Running local search with switching 8 patient(s)\n"
     ]
    },
    {
     "name": "stdout",
     "output_type": "stream",
     "text": [
      "Size of neighborhood: 125970\n"
     ]
    },
    {
     "name": "stdout",
     "output_type": "stream",
     "text": [
      "Running local search with switching 9 patient(s)\n"
     ]
    },
    {
     "name": "stdout",
     "output_type": "stream",
     "text": [
      "Size of neighborhood: 167960\n"
     ]
    },
    {
     "name": "stdout",
     "output_type": "stream",
     "text": [
      "Running local search with switching 10 patient(s)\n"
     ]
    },
    {
     "name": "stdout",
     "output_type": "stream",
     "text": [
      "Size of neighborhood: 184756\n"
     ]
    },
    {
     "name": "stdout",
     "output_type": "stream",
     "text": [
      "Running local search with switching 11 patient(s)\n"
     ]
    },
    {
     "name": "stdout",
     "output_type": "stream",
     "text": [
      "Size of neighborhood: 167960\n"
     ]
    },
    {
     "name": "stdout",
     "output_type": "stream",
     "text": [
      "Running local search with switching 12 patient(s)\n"
     ]
    },
    {
     "name": "stdout",
     "output_type": "stream",
     "text": [
      "Size of neighborhood: 125970\n"
     ]
    },
    {
     "name": "stdout",
     "output_type": "stream",
     "text": [
      "Running local search with switching 13 patient(s)\n"
     ]
    },
    {
     "name": "stdout",
     "output_type": "stream",
     "text": [
      "Size of neighborhood: 77520\n"
     ]
    },
    {
     "name": "stdout",
     "output_type": "stream",
     "text": [
      "Running local search with switching 14 patient(s)\n"
     ]
    },
    {
     "name": "stdout",
     "output_type": "stream",
     "text": [
      "Size of neighborhood: 38760\n"
     ]
    },
    {
     "name": "stdout",
     "output_type": "stream",
     "text": [
      "Running local search with switching 15 patient(s)\n"
     ]
    },
    {
     "name": "stdout",
     "output_type": "stream",
     "text": [
      "Size of neighborhood: 15504\n"
     ]
    },
    {
     "name": "stdout",
     "output_type": "stream",
     "text": [
      "Running local search with switching 16 patient(s)\n",
      "Size of neighborhood: 4845\n"
     ]
    },
    {
     "name": "stdout",
     "output_type": "stream",
     "text": [
      "Running local search with switching 17 patient(s)\n",
      "Size of neighborhood: 1140\n"
     ]
    },
    {
     "name": "stdout",
     "output_type": "stream",
     "text": [
      "Running local search with switching 18 patient(s)\n",
      "Size of neighborhood: 190\n",
      "Running local search with switching 19 patient(s)\n",
      "Size of neighborhood: 20\n"
     ]
    }
   ],
   "source": [
    "from functions import local_search\n",
    "# Computing optimal solution with real cost\n",
    "print(f\"Initial schedule: {x}\")\n",
    "start = time.time()\n",
    "test_x = local_search(x, d, convolutions, w, v_star, T, echo=True)\n",
    "end = time.time()"
   ]
  },
  {
   "cell_type": "code",
   "execution_count": 9,
   "id": "6a98f227",
   "metadata": {},
   "outputs": [
    {
     "name": "stdout",
     "output_type": "stream",
     "text": [
      "Initial schedule: [2, 1, 1, 2, 0, 1, 1, 1, 1, 0, 1, 1, 1, 1, 1, 1, 1, 1, 1, 3]\n",
      "Final schedule: [2 1 1 1 1 1 1 1 1 1 1 1 1 1 1 1 1 1 1 2]\n",
      "Difference: [ 0  0  0 -1  1  0  0  0  0  1  0  0  0  0  0  0  0  0  0 -1]\n",
      "Objective value: 22.62783494379382. Search time: 844.30 seconds.\n"
     ]
    }
   ],
   "source": [
    "print(f\"Initial schedule: {x}\\nFinal schedule: {test_x[0]}\\nDifference: {test_x[0] - x}\\nObjective value: {test_x[1]}. Search time: {end - start:.2f} seconds.\")\n",
    "test_res = calculate_objective_serv_time_lookup(test_x[0], d, convolutions)"
   ]
  },
  {
   "cell_type": "markdown",
   "id": "b605fe88",
   "metadata": {},
   "source": [
    "## Discussion\n",
    "\n",
    "## Timeline\n",
    "\n",
    "This experiment was started on 01-04-2025 and concluded on 17-04-2025\n",
    "\n",
    "## References"
   ]
  }
 ],
 "metadata": {
  "kernelspec": {
   "display_name": "Python 3 (ipykernel)",
   "language": "python",
   "name": "python3"
  },
  "language_info": {
   "codemirror_mode": {
    "name": "ipython",
    "version": 3
   },
   "file_extension": ".py",
   "mimetype": "text/x-python",
   "name": "python",
   "nbconvert_exporter": "python",
   "pygments_lexer": "ipython3",
   "version": "3.12.2"
  }
 },
 "nbformat": 4,
 "nbformat_minor": 5
}
