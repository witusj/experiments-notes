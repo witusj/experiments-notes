{
 "cells": [
  {
   "cell_type": "markdown",
   "id": "03893e1a",
   "metadata": {},
   "source": [
    "# `get_neighborhood` {.unnumbered}\n",
    "\n",
    "This notebook provides documentation for the function `get_neighborhood`, which generates the neighborhood of a solution vector by adding combinations of adjustment vectors from a precomputed array (`v_star`). The function filters out any candidate neighbors that result in negative values.\n",
    "\n",
    "## Function Documentation\n",
    "\n",
    "`get_neighborhood(x: Union[List[int], np.ndarray], v_star: np.ndarray, ids: List[List[int]], verbose: bool = False) -> np.ndarray`\n",
    "\n",
    "#### Description\n",
    "\n",
    "The `get_neighborhood` function computes a set of neighbor solutions by adding together selected rows from the array `v_star` to an initial solution vector `x`. The selection of rows is determined by the list of index lists `ids`, where each inner list represents a combination of indices. After generating the candidate neighbors, the function filters out any that contain negative values. An optional `verbose` flag provides debugging output during execution.\n",
    "\n",
    "#### Parameters\n",
    "\n",
    "- **x** (`Union[List[int], np.ndarray]`):  \n",
    "  The current solution vector. Can be provided as a list of integers or as a NumPy array.\n",
    "\n",
    "- **v_star** (`np.ndarray`):  \n",
    "  A 2D NumPy array where each row is an adjustment vector. These vectors are used to modify the current solution to explore its neighborhood.\n",
    "\n",
    "- **ids** (`List[List[int]]`):  \n",
    "  A list of index lists, where each inner list specifies which rows from `v_star` to sum together. Each combination represents a potential adjustment to the current solution.\n",
    "\n",
    "- **verbose** (`bool`, optional):  \n",
    "  A flag indicating whether to print debugging information (e.g., intermediate computations, progress messages). Defaults to `False`.\n",
    "\n",
    "#### Returns\n",
    "\n",
    "- **`np.ndarray`**:  \n",
    "  A 2D NumPy array where each row is a neighbor solution (i.e., the result of adding a valid combination of adjustment vectors from `v_star` to `x`). Only neighbors with all non-negative entries are included in the output.\n",
    "\n",
    "#### Example\n"
   ]
  },
  {
   "cell_type": "code",
   "execution_count": 1,
   "id": "3fa21771",
   "metadata": {},
   "outputs": [
    {
     "name": "stdout",
     "output_type": "stream",
     "text": [
      "Printing every 50th result\n",
      "v_star[0]: [-1  0  1]\n",
      "x, x', delta:\n",
      "[3 2 1],\n",
      "[2 2 2],\n",
      "[-1  0  1]\n",
      "-----------------\n",
      "v_star[1]: [ 1 -1  0]\n",
      "v_star[2]: [ 0  1 -1]\n",
      "Size of raw neighborhood: 3\n",
      "Filtered out: 0 schedules with negative values.\n",
      "Size of filtered neighborhood: 3\n",
      "Neighbor solutions:\n",
      "[[2 2 2]\n",
      " [4 1 1]\n",
      " [3 3 0]]\n"
     ]
    }
   ],
   "source": [
    "import numpy as np\n",
    "from functions import get_neighborhood, get_v_star, powerset\n",
    "\n",
    "# Define an initial solution vector\n",
    "x = [3, 2, 1]\n",
    "\n",
    "# Generate adjustment vectors using get_v_star\n",
    "# For instance, create a set of cyclic adjustment vectors of length 3\n",
    "v_star = get_v_star(3)\n",
    "\n",
    "# Generate combinations of indices (e.g., using a powerset for switching 1 patient)\n",
    "ids = powerset(range(3), size=1)\n",
    "\n",
    "# Generate the neighborhood (neighbors with non-negative entries only)\n",
    "neighbors = get_neighborhood(x, v_star, ids, echo=True)\n",
    "print(\"Neighbor solutions:\")\n",
    "print(neighbors)"
   ]
  },
  {
   "cell_type": "code",
   "execution_count": 2,
   "id": "97747a56",
   "metadata": {},
   "outputs": [
    {
     "name": "stderr",
     "output_type": "stream",
     "text": [
      "."
     ]
    },
    {
     "name": "stderr",
     "output_type": "stream",
     "text": [
      "."
     ]
    },
    {
     "name": "stderr",
     "output_type": "stream",
     "text": [
      "\n"
     ]
    },
    {
     "name": "stderr",
     "output_type": "stream",
     "text": [
      "----------------------------------------------------------------------\n",
      "Ran 2 tests in 0.001s\n",
      "\n",
      "OK\n"
     ]
    }
   ],
   "source": [
    "import unittest\n",
    "import numpy as np\n",
    "from functions import get_neighborhood, get_v_star, powerset\n",
    "\n",
    "class TestGetNeighborhood(unittest.TestCase):\n",
    "    def test_non_negative_neighbors(self):\n",
    "        # Test with a simple solution vector and adjustment vectors\n",
    "        x = [3, 2, 1]\n",
    "        v_star = get_v_star(3)\n",
    "        ids = powerset(range(3), size=1)\n",
    "        \n",
    "        neighbors = get_neighborhood(x, v_star, ids, echo=False)\n",
    "        \n",
    "        # Ensure that no neighbor has negative entries\n",
    "        self.assertTrue(np.all(neighbors >= 0), \"Some neighbor solutions contain negative values\")\n",
    "    \n",
    "    def test_neighborhood_shape(self):\n",
    "        # Test that the neighborhood returns a NumPy array with the proper dimensions\n",
    "        x = [3, 2, 1]\n",
    "        v_star = get_v_star(3)\n",
    "        ids = powerset(range(3), size=1)\n",
    "        neighbors = get_neighborhood(x, v_star, ids, echo=False)\n",
    "        self.assertIsInstance(neighbors, np.ndarray, \"Neighborhood is not a NumPy array\")\n",
    "        # The number of rows should equal the number of valid combinations in ids (after filtering negatives)\n",
    "        self.assertLessEqual(neighbors.shape[0], len(ids), \"Neighborhood size is larger than expected\")\n",
    "\n",
    "if __name__ == '__main__':\n",
    "    unittest.main(argv=[''], exit=False)"
   ]
  }
 ],
 "metadata": {
  "kernelspec": {
   "display_name": "Python 3 (ipykernel)",
   "language": "python",
   "name": "python3"
  },
  "language_info": {
   "codemirror_mode": {
    "name": "ipython",
    "version": 3
   },
   "file_extension": ".py",
   "mimetype": "text/x-python",
   "name": "python",
   "nbconvert_exporter": "python",
   "pygments_lexer": "ipython3",
   "version": "3.12.2"
  }
 },
 "nbformat": 4,
 "nbformat_minor": 5
}
