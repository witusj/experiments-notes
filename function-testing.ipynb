{
 "cells": [
  {
   "cell_type": "raw",
   "id": "3a018366",
   "metadata": {},
   "source": [
    "---\n",
    "title: Evaluator functions testing\n",
    "author: Witek ten Hove\n",
    "---"
   ]
  },
  {
   "cell_type": "markdown",
   "id": "63e08019",
   "metadata": {},
   "source": [
    "## Objective\n",
    "\n",
    "In this experiment we will test whether the functions for calculating the objective values work properly and efficiently.\n",
    "\n",
    "## Background\n",
    "\n",
    "For developing new methods for optimizing appointment schedules it is necessary that the function for calculating objective values works properly. It is also important that the function is efficient, as it will be used in optimization algorithms that will be run many times.\n",
    "\n",
    "## Hypothesis\n",
    "\n",
    "The functions for calculating that have been developed are working fast and generate correct results.\n",
    "\n",
    "## Methodology\n",
    "\n",
    "### Tools and Materials\n",
    "\n",
    "For testing the correct working of the functions used to calculate objective values we will compare the exact calculation to results from Monte Carlo (MC) simulations. The MC simulations allow modeling the system and replicating closely the actual process of patients arriving and being served. The exact calculation is based on the convolution of the service time distribution and the number of patients arriving at each time slot.\n",
    "\n",
    "### Experimental Design\n",
    "\n",
    "We will define some typical instances of schedules and calculate the objective values for them both using the exact method as well as through MC simulations. We will then compare the results.\n",
    "\n",
    "### Variables\n",
    "\n",
    "-   **Independent Variables**:\n",
    "    -   Different instances of appointment schedules.\n",
    "-   **Dependent Variables**:\n",
    "    -   Objective value results from exact calculations and simulations.\n",
    "    -   Speed indicators\n",
    "\n",
    "### Setup\n",
    "\n",
    "We have defined the following test cases:\n"
   ]
  },
  {
   "cell_type": "code",
   "execution_count": 1,
   "id": "e7e7b3f8",
   "metadata": {},
   "outputs": [
    {
     "name": "stdout",
     "output_type": "stream",
     "text": [
      "Average service time: 6.1\n"
     ]
    }
   ],
   "source": [
    "import numpy as np\n",
    "import pandas as pd\n",
    "import time\n",
    "import plotly.graph_objects as go\n",
    "from functions import service_time_with_no_shows, compute_convolutions, compute_convolutions_fft, calculate_objective_serv_time_lookup\n",
    "\n",
    "# Parameters\n",
    "d = 5\n",
    "q = 0.1\n",
    "    \n",
    "# Create service time distribution\n",
    "service_time = np.zeros(11)\n",
    "service_time[3] = 0.2\n",
    "service_time[5] = 0.3\n",
    "service_time[8] = 0.5\n",
    "\n",
    "average_service_time = np.dot(range(len(service_time)), service_time)\n",
    "print(f\"Average service time: {average_service_time}\")\n",
    "    \n",
    "# Different schedule patterns with the same total number of patients (except for test schedule)\n",
    "schedules = [\n",
    "    (\"Calibration\", [2, 0, 0, 0, 0, 1]),\n",
    "    (\"Uniform\", [2, 2, 2, 2]),\n",
    "    (\"Decreasing\", [5, 2, 1, 0]),\n",
    "    (\"Increasing\", [0, 1, 2, 5]),\n",
    "    (\"Front-heavy\", [4, 4, 0, 0]),\n",
    "    (\"Back-heavy\", [0, 0, 4, 4]),\n",
    "    (\"Alternating\", [4, 0, 4, 0]),\n",
    "    (\"Bailey-rule\", [2, 1, 1, 1, 1, 1, 1])  # Schedule 2 initially, then 1 each slot\n",
    "]\n",
    "\n",
    "# Set number of simulations for Monte Carlo simulation\n",
    "nr_simulations = 1000\n",
    "\n",
    "# Create dictionary for storing results\n",
    "results_dict = {'schedule_name': [], 'average_waiting_time': [], 'average_overtime': [], 'expected_waiting_time': [], 'expected_overtime': [], 'average_computation_time': []}\n",
    "results_dict['schedule_name'] = [s[0] for s in schedules]"
   ]
  },
  {
   "cell_type": "markdown",
   "id": "e7a87b37",
   "metadata": {
    "user_expressions": [
     {
      "expression": "nr_simulations",
      "result": {
       "data": {
        "text/plain": "1000"
       },
       "metadata": {},
       "status": "ok"
      }
     }
    ]
   },
   "source": [
    "The \"Calibration\" test set is used to calibrate the simulation results with the exact results. For this schedule, the exact results can be easily calculated by hand. The average service time after correcting for no-shows for one patient is 5.49 (see below) and only the second patient in this example will experience waiting times. So the average expected waiting time is 5.49 / 3 = 1.83.\n",
    "\n",
    "The expected overtime is is the expected spillover time caused by the last patient in the schedule. As there are no patients before the last patient in the last interval, the spillover time distribution is simply distribution of the event that the (adjusted) service time will exceed the interval time. For the case that overtime is 3 (8 - 5), the probability is 0.45 and for other values it is 0.55. So the expected overtime is 0.45 * 3 + 0.55 * 0 = 1.35.\n",
    "  \n",
    "The other test sets are used to examine the performance of the functions for different schedule patterns.\n",
    "\n",
    "\n",
    "### Sample Size and Selection\n",
    "\n",
    "**Sample Size**: - For each schedule instance we will run `{python} nr_simulations` simulations.\n",
    "\n",
    "**Sample Selection**: - During each simulation for each patient a random service time will be sampled from the distribution (adjusted for no-shows).\n",
    "\n",
    "### Experimental Procedure\n",
    "\n",
    "#### Step 1: Adjust the service time distribution for no-shows.\n"
   ]
  },
  {
   "cell_type": "code",
   "execution_count": 2,
   "id": "0a83e653",
   "metadata": {},
   "outputs": [
    {
     "name": "stdout",
     "output_type": "stream",
     "text": [
      "Service time distribution with no-shows: [0.1, 0.0, 0.0, 0.18000000000000002, 0.0, 0.27, 0.0, 0.0, 0.45, 0.0, 0.0]\n",
      "Average service time with no-shows: 5.49\n"
     ]
    }
   ],
   "source": [
    "# Adjust service time distribution for no-shows and compare to original\n",
    "service_time_no_shows = service_time_with_no_shows(service_time, q)\n",
    "print(f\"Service time distribution with no-shows: {service_time_no_shows}\")\n",
    "\n",
    "average_service_time_no_shows = np.dot(range(len(service_time_no_shows)), service_time_no_shows)\n",
    "print(f\"Average service time with no-shows: {average_service_time_no_shows}\")"
   ]
  },
  {
   "cell_type": "markdown",
   "id": "f667781f",
   "metadata": {},
   "source": [
    "#### Step 2: Monte carlo simulation\n",
    "\n",
    "For each schedule instance:\n",
    "\n",
    "1.  Calculate $N$ and $T$, the total number of patients and the total time of the schedule.\n",
    "2.  For each simulation:\n",
    "    1.  Sample random service times for each of the $N$ patient from service times distribution with no-shows.\n",
    "    2.  Calculate the the average waiting time and the overtime for the schedule using a Lindley recursion, starting at $t = 0$ and ending at $t = T - 1$.\n"
   ]
  },
  {
   "cell_type": "code",
   "execution_count": 3,
   "id": "951d32c1",
   "metadata": {},
   "outputs": [
    {
     "name": "stdout",
     "output_type": "stream",
     "text": [
      "Schedule: Calibration [2, 0, 0, 0, 0, 1], N: 3, T: 6\n"
     ]
    },
    {
     "name": "stdout",
     "output_type": "stream",
     "text": [
      "Average waiting time: 1.8486666666666853, average overtime: 1.392\n",
      "Schedule: Uniform [2, 2, 2, 2], N: 8, T: 4\n"
     ]
    },
    {
     "name": "stdout",
     "output_type": "stream",
     "text": [
      "Average waiting time: 12.0175, average overtime: 24.247\n",
      "Schedule: Decreasing [5, 2, 1, 0], N: 8, T: 4\n"
     ]
    },
    {
     "name": "stdout",
     "output_type": "stream",
     "text": [
      "Average waiting time: 16.872375, average overtime: 24.117\n",
      "Schedule: Increasing [0, 1, 2, 5], N: 8, T: 4\n"
     ]
    },
    {
     "name": "stdout",
     "output_type": "stream",
     "text": [
      "Average waiting time: 12.272375, average overtime: 29.515\n",
      "Schedule: Front-heavy [4, 4, 0, 0], N: 8, T: 4\n"
     ]
    },
    {
     "name": "stdout",
     "output_type": "stream",
     "text": [
      "Average waiting time: 16.85025, average overtime: 24.151\n",
      "Schedule: Back-heavy [0, 0, 4, 4], N: 8, T: 4\n"
     ]
    },
    {
     "name": "stdout",
     "output_type": "stream",
     "text": [
      "Average waiting time: 16.67225, average overtime: 33.73\n",
      "Schedule: Alternating [4, 0, 4, 0], N: 8, T: 4\n"
     ]
    },
    {
     "name": "stdout",
     "output_type": "stream",
     "text": [
      "Average waiting time: 14.208375, average overtime: 24.128\n",
      "Schedule: Bailey-rule [2, 1, 1, 1, 1, 1, 1], N: 8, T: 7\n"
     ]
    },
    {
     "name": "stdout",
     "output_type": "stream",
     "text": [
      "Average waiting time: 6.508875, average overtime: 9.837\n"
     ]
    }
   ],
   "source": [
    "import numpy as np\n",
    "from typing import List, Tuple, Union\n",
    "\n",
    "def simulate_schedule(\n",
    "    schedule: List[int],\n",
    "    service_time_no_shows: Union[List[float], np.ndarray],\n",
    "    d: int,\n",
    "    nr_simulations: int\n",
    ") -> Tuple[float, float]:\n",
    "    \"\"\"\n",
    "    Runs a Monte Carlo simulation for a single schedule.\n",
    "\n",
    "    This function simulates patient scheduling over multiple time slots and computes the average waiting \n",
    "    time per patient and the average overtime across all simulation iterations. Each time slot has a duration \n",
    "    threshold `d`. Service times for patients are sampled based on the provided probability mass function.\n",
    "\n",
    "    Parameters:\n",
    "        schedule (List[int]): A list where each element represents the number of patients scheduled in each time slot.\n",
    "        service_time_no_shows (Union[List[float], np.ndarray]): A probability mass function (PMF) for service times.\n",
    "        d (int): The duration threshold for a time slot.\n",
    "        nr_simulations (int): The number of simulation iterations to run.\n",
    "\n",
    "    Returns:\n",
    "        Tuple[float, float]: A tuple containing:\n",
    "            - The average waiting time per patient across simulations.\n",
    "            - The average overtime across simulations.\n",
    "    \"\"\"\n",
    "    N: int = sum(schedule)  # Total number of patients\n",
    "    T: int = len(schedule)  # Total number of time slots\n",
    "\n",
    "    total_waiting_time: float = 0.0\n",
    "    total_overtime: float = 0.0\n",
    "\n",
    "    for _ in range(nr_simulations):\n",
    "        cum_waiting_time: float = 0.0\n",
    "\n",
    "        # --- Process the first time slot ---\n",
    "        num_patients: int = schedule[0]\n",
    "        # Generate random service times for the first slot\n",
    "        sampled: np.ndarray = np.random.choice(\n",
    "            range(len(service_time_no_shows)),\n",
    "            size=num_patients,\n",
    "            p=service_time_no_shows\n",
    "        )\n",
    "\n",
    "        if num_patients == 0:\n",
    "            waiting_time: float = 0.0\n",
    "            spillover_time: float = 0.0\n",
    "        elif num_patients == 1:\n",
    "            waiting_time = 0.0\n",
    "            spillover_time = max(0, sampled[0])\n",
    "        else:\n",
    "            # For more than one patient, the waiting time is the cumulative sum\n",
    "            # of the service times for all but the last patient.\n",
    "            waiting_time = float(sum(np.cumsum(sampled[:-1])))\n",
    "            spillover_time = max(0, sum(sampled) - d)\n",
    "        cum_waiting_time += waiting_time\n",
    "\n",
    "        # --- Process the remaining time slots ---\n",
    "        for t in range(1, T):\n",
    "            num_patients = schedule[t]\n",
    "            # Generate random service times for time slot t\n",
    "            sampled = np.random.choice(\n",
    "                range(len(service_time_no_shows)),\n",
    "                size=num_patients,\n",
    "                p=service_time_no_shows\n",
    "            )\n",
    "            if num_patients == 0:\n",
    "                waiting_time = 0.0\n",
    "                spillover_time = max(0, spillover_time - d)\n",
    "            elif num_patients == 1:\n",
    "                waiting_time = spillover_time\n",
    "                spillover_time = max(0, spillover_time + sampled[0] - d)\n",
    "            else:\n",
    "                # Each patient waits the current spillover,\n",
    "                # plus additional waiting due to the service times of those ahead.\n",
    "                waiting_time = spillover_time * num_patients + sum(np.cumsum(sampled[:-1]))\n",
    "                spillover_time = max(0, spillover_time + sum(sampled) - d)\n",
    "            cum_waiting_time += waiting_time\n",
    "\n",
    "        # Accumulate normalized waiting time (per patient) and overtime\n",
    "        total_waiting_time += cum_waiting_time / N\n",
    "        total_overtime += spillover_time\n",
    "\n",
    "    avg_waiting_time: float = total_waiting_time / nr_simulations\n",
    "    avg_overtime: float = total_overtime / nr_simulations\n",
    "\n",
    "    return avg_waiting_time, avg_overtime\n",
    "\n",
    "\n",
    "# Loop through the schedules\n",
    "for schedule_name, schedule in schedules:\n",
    "    N = sum(schedule)\n",
    "    T = len(schedule)\n",
    "    print(f\"Schedule: {schedule_name} {schedule}, N: {N}, T: {T}\")\n",
    "    \n",
    "    avg_waiting_time, avg_overtime = simulate_schedule(schedule, service_time_no_shows, d, nr_simulations)\n",
    "    \n",
    "    print(f\"Average waiting time: {avg_waiting_time}, average overtime: {avg_overtime}\")\n",
    "    results_dict['average_waiting_time'].append(avg_waiting_time)\n",
    "    results_dict['average_overtime'].append(avg_overtime)"
   ]
  },
  {
   "cell_type": "markdown",
   "id": "e0230097",
   "metadata": {},
   "source": [
    "#### Step 3: Exact calculation\n",
    "\n",
    "For each schedule instance run 10 evaluations of the objective value using the exact method and calculate the average waiting time and overtime.\n"
   ]
  },
  {
   "cell_type": "code",
   "execution_count": 4,
   "id": "99eb0f37",
   "metadata": {},
   "outputs": [
    {
     "name": "stdout",
     "output_type": "stream",
     "text": [
      "Schedule: Calibration [2, 0, 0, 0, 0, 1], N: 3, T: 6\n",
      "Expected waiting time: 1.83, Expected overtime: 1.35\n",
      "Schedule: Uniform [2, 2, 2, 2], N: 8, T: 4\n",
      "Expected waiting time: 11.816608810500004, Expected overtime: 24.064827562971374\n",
      "Schedule: Decreasing [5, 2, 1, 0], N: 8, T: 4\n",
      "Expected waiting time: 16.715096633250006, Expected overtime: 23.92331748953545\n",
      "Schedule: Increasing [0, 1, 2, 5], N: 8, T: 4\n",
      "Expected waiting time: 12.5150625, Expected overtime: 29.856120798600017\n",
      "Schedule: Front-heavy [4, 4, 0, 0], N: 8, T: 4\n",
      "Expected waiting time: 16.715970000000002, Expected overtime: 23.92482686022145\n",
      "Schedule: Back-heavy [0, 0, 4, 4], N: 8, T: 4\n",
      "Expected waiting time: 16.715970000000002, Expected overtime: 33.92194762296002\n",
      "Schedule: Alternating [4, 0, 4, 0], N: 8, T: 4\n",
      "Expected waiting time: 14.233406400000002, Expected overtime: 23.95841024194273\n",
      "Schedule: Bailey-rule [2, 1, 1, 1, 1, 1, 1], N: 8, T: 7\n",
      "Expected waiting time: 6.439653759761102, Expected overtime: 9.820826086143853\n"
     ]
    }
   ],
   "source": [
    "# Loop through the schedules, run 10 evaluations, calculate average waiting time and overtime for each schedule, calculate average computation times and store the results in the results dictionary\n",
    "\n",
    "for schedule_name, schedule in schedules:\n",
    "    N = sum(schedule)\n",
    "    T = len(schedule)\n",
    "    print(f\"Schedule: {schedule_name} {schedule}, N: {N}, T: {T}\")\n",
    "    convolutions = compute_convolutions(service_time, N, q)\n",
    "    \n",
    "    total_time = 0\n",
    "    # Exact calculation over 10 evaluations\n",
    "    for i in range(10):\n",
    "        start_time = time.time()\n",
    "        # Calculate the objective value using the exact method\n",
    "        waiting_time, overtime = calculate_objective_serv_time_lookup(schedule, d, convolutions)\n",
    "        elapsed_time = time.time() - start_time\n",
    "        total_time += elapsed_time\n",
    "        \n",
    "    avg_time = total_time / 10\n",
    "    print(f\"Expected waiting time: {waiting_time / N}, Expected overtime: {overtime}\")\n",
    "    results_dict['expected_waiting_time'].append(waiting_time / N)\n",
    "    results_dict['expected_overtime'].append(overtime)\n",
    "    results_dict['average_computation_time'].append(avg_time)"
   ]
  },
  {
   "cell_type": "markdown",
   "id": "41af4500",
   "metadata": {},
   "source": [
    "## Results\n",
    "\n",
    "Comparison of the results of the exact calculations with the results of the Monte Carlo simulations.\n"
   ]
  },
  {
   "cell_type": "code",
   "execution_count": 5,
   "id": "a2ef8baf",
   "metadata": {},
   "outputs": [
    {
     "data": {
      "text/html": [
       "<div>\n",
       "<style scoped>\n",
       "    .dataframe tbody tr th:only-of-type {\n",
       "        vertical-align: middle;\n",
       "    }\n",
       "\n",
       "    .dataframe tbody tr th {\n",
       "        vertical-align: top;\n",
       "    }\n",
       "\n",
       "    .dataframe thead th {\n",
       "        text-align: right;\n",
       "    }\n",
       "</style>\n",
       "<table border=\"1\" class=\"dataframe\">\n",
       "  <thead>\n",
       "    <tr style=\"text-align: right;\">\n",
       "      <th></th>\n",
       "      <th>schedule_name</th>\n",
       "      <th>average_waiting_time</th>\n",
       "      <th>average_overtime</th>\n",
       "      <th>expected_waiting_time</th>\n",
       "      <th>expected_overtime</th>\n",
       "      <th>average_computation_time</th>\n",
       "    </tr>\n",
       "  </thead>\n",
       "  <tbody>\n",
       "    <tr>\n",
       "      <th>0</th>\n",
       "      <td>Calibration</td>\n",
       "      <td>1.848667</td>\n",
       "      <td>1.392</td>\n",
       "      <td>1.830000</td>\n",
       "      <td>1.350000</td>\n",
       "      <td>0.000098</td>\n",
       "    </tr>\n",
       "    <tr>\n",
       "      <th>1</th>\n",
       "      <td>Uniform</td>\n",
       "      <td>12.017500</td>\n",
       "      <td>24.247</td>\n",
       "      <td>11.816609</td>\n",
       "      <td>24.064828</td>\n",
       "      <td>0.000081</td>\n",
       "    </tr>\n",
       "    <tr>\n",
       "      <th>2</th>\n",
       "      <td>Decreasing</td>\n",
       "      <td>16.872375</td>\n",
       "      <td>24.117</td>\n",
       "      <td>16.715097</td>\n",
       "      <td>23.923317</td>\n",
       "      <td>0.000069</td>\n",
       "    </tr>\n",
       "    <tr>\n",
       "      <th>3</th>\n",
       "      <td>Increasing</td>\n",
       "      <td>12.272375</td>\n",
       "      <td>29.515</td>\n",
       "      <td>12.515063</td>\n",
       "      <td>29.856121</td>\n",
       "      <td>0.000062</td>\n",
       "    </tr>\n",
       "    <tr>\n",
       "      <th>4</th>\n",
       "      <td>Front-heavy</td>\n",
       "      <td>16.850250</td>\n",
       "      <td>24.151</td>\n",
       "      <td>16.715970</td>\n",
       "      <td>23.924827</td>\n",
       "      <td>0.000054</td>\n",
       "    </tr>\n",
       "    <tr>\n",
       "      <th>5</th>\n",
       "      <td>Back-heavy</td>\n",
       "      <td>16.672250</td>\n",
       "      <td>33.730</td>\n",
       "      <td>16.715970</td>\n",
       "      <td>33.921948</td>\n",
       "      <td>0.000056</td>\n",
       "    </tr>\n",
       "    <tr>\n",
       "      <th>6</th>\n",
       "      <td>Alternating</td>\n",
       "      <td>14.208375</td>\n",
       "      <td>24.128</td>\n",
       "      <td>14.233406</td>\n",
       "      <td>23.958410</td>\n",
       "      <td>0.000053</td>\n",
       "    </tr>\n",
       "    <tr>\n",
       "      <th>7</th>\n",
       "      <td>Bailey-rule</td>\n",
       "      <td>6.508875</td>\n",
       "      <td>9.837</td>\n",
       "      <td>6.439654</td>\n",
       "      <td>9.820826</td>\n",
       "      <td>0.000138</td>\n",
       "    </tr>\n",
       "  </tbody>\n",
       "</table>\n",
       "</div>"
      ],
      "text/plain": [
       "  schedule_name  average_waiting_time  average_overtime  \\\n",
       "0   Calibration              1.848667             1.392   \n",
       "1       Uniform             12.017500            24.247   \n",
       "2    Decreasing             16.872375            24.117   \n",
       "3    Increasing             12.272375            29.515   \n",
       "4   Front-heavy             16.850250            24.151   \n",
       "5    Back-heavy             16.672250            33.730   \n",
       "6   Alternating             14.208375            24.128   \n",
       "7   Bailey-rule              6.508875             9.837   \n",
       "\n",
       "   expected_waiting_time  expected_overtime  average_computation_time  \n",
       "0               1.830000           1.350000                  0.000098  \n",
       "1              11.816609          24.064828                  0.000081  \n",
       "2              16.715097          23.923317                  0.000069  \n",
       "3              12.515063          29.856121                  0.000062  \n",
       "4              16.715970          23.924827                  0.000054  \n",
       "5              16.715970          33.921948                  0.000056  \n",
       "6              14.233406          23.958410                  0.000053  \n",
       "7               6.439654           9.820826                  0.000138  "
      ]
     },
     "execution_count": 5,
     "metadata": {},
     "output_type": "execute_result"
    }
   ],
   "source": [
    "df_results = pd.DataFrame.from_dict(results_dict)\n",
    "df_results"
   ]
  },
  {
   "cell_type": "code",
   "execution_count": 6,
   "id": "700e92a6",
   "metadata": {},
   "outputs": [
    {
     "data": {
      "text/html": [
       "        <script type=\"text/javascript\">\n",
       "        window.PlotlyConfig = {MathJaxConfig: 'local'};\n",
       "        if (window.MathJax && window.MathJax.Hub && window.MathJax.Hub.Config) {window.MathJax.Hub.Config({SVG: {font: \"STIX-Web\"}});}\n",
       "        if (typeof require !== 'undefined') {\n",
       "        require.undef(\"plotly\");\n",
       "        requirejs.config({\n",
       "            paths: {\n",
       "                'plotly': ['https://cdn.plot.ly/plotly-2.32.0.min']\n",
       "            }\n",
       "        });\n",
       "        require(['plotly'], function(Plotly) {\n",
       "            window._Plotly = Plotly;\n",
       "        });\n",
       "        }\n",
       "        </script>\n",
       "        "
      ]
     },
     "metadata": {},
     "output_type": "display_data"
    },
    {
     "data": {
      "text/html": [
       "<div>                            <div id=\"c13b4613-d562-494a-8ecb-6e1c78058897\" class=\"plotly-graph-div\" style=\"height:525px; width:100%;\"></div>            <script type=\"text/javascript\">                require([\"plotly\"], function(Plotly) {                    window.PLOTLYENV=window.PLOTLYENV || {};                                    if (document.getElementById(\"c13b4613-d562-494a-8ecb-6e1c78058897\")) {                    Plotly.newPlot(                        \"c13b4613-d562-494a-8ecb-6e1c78058897\",                        [{\"marker\":{\"color\":\"blue\"},\"name\":\"Waiting Time\",\"x\":[\"Calibration\\u003cbr\\u003eSimulation\",\"Uniform\\u003cbr\\u003eSimulation\",\"Decreasing\\u003cbr\\u003eSimulation\",\"Increasing\\u003cbr\\u003eSimulation\",\"Front-heavy\\u003cbr\\u003eSimulation\",\"Back-heavy\\u003cbr\\u003eSimulation\",\"Alternating\\u003cbr\\u003eSimulation\",\"Bailey-rule\\u003cbr\\u003eSimulation\"],\"y\":[1.8486666666666853,12.0175,16.872375,12.272375,16.85025,16.67225,14.208375,6.508875],\"type\":\"bar\"},{\"marker\":{\"color\":\"red\"},\"name\":\"Overtime\",\"x\":[\"Calibration\\u003cbr\\u003eSimulation\",\"Uniform\\u003cbr\\u003eSimulation\",\"Decreasing\\u003cbr\\u003eSimulation\",\"Increasing\\u003cbr\\u003eSimulation\",\"Front-heavy\\u003cbr\\u003eSimulation\",\"Back-heavy\\u003cbr\\u003eSimulation\",\"Alternating\\u003cbr\\u003eSimulation\",\"Bailey-rule\\u003cbr\\u003eSimulation\"],\"y\":[1.392,24.247,24.117,29.515,24.151,33.73,24.128,9.837],\"type\":\"bar\"},{\"marker\":{\"color\":\"blue\"},\"name\":\"Waiting Time\",\"showlegend\":false,\"x\":[\"Calibration\\u003cbr\\u003eExact\",\"Uniform\\u003cbr\\u003eExact\",\"Decreasing\\u003cbr\\u003eExact\",\"Increasing\\u003cbr\\u003eExact\",\"Front-heavy\\u003cbr\\u003eExact\",\"Back-heavy\\u003cbr\\u003eExact\",\"Alternating\\u003cbr\\u003eExact\",\"Bailey-rule\\u003cbr\\u003eExact\"],\"y\":[1.83,11.816608810500004,16.715096633250006,12.5150625,16.715970000000002,16.715970000000002,14.233406400000002,6.439653759761102],\"type\":\"bar\"},{\"marker\":{\"color\":\"red\"},\"name\":\"Overtime\",\"showlegend\":false,\"x\":[\"Calibration\\u003cbr\\u003eExact\",\"Uniform\\u003cbr\\u003eExact\",\"Decreasing\\u003cbr\\u003eExact\",\"Increasing\\u003cbr\\u003eExact\",\"Front-heavy\\u003cbr\\u003eExact\",\"Back-heavy\\u003cbr\\u003eExact\",\"Alternating\\u003cbr\\u003eExact\",\"Bailey-rule\\u003cbr\\u003eExact\"],\"y\":[1.35,24.064827562971374,23.92331748953545,29.856120798600017,23.92482686022145,33.92194762296002,23.95841024194273,9.820826086143853],\"type\":\"bar\"}],                        {\"template\":{\"data\":{\"histogram2dcontour\":[{\"type\":\"histogram2dcontour\",\"colorbar\":{\"outlinewidth\":0,\"ticks\":\"\"},\"colorscale\":[[0.0,\"#0d0887\"],[0.1111111111111111,\"#46039f\"],[0.2222222222222222,\"#7201a8\"],[0.3333333333333333,\"#9c179e\"],[0.4444444444444444,\"#bd3786\"],[0.5555555555555556,\"#d8576b\"],[0.6666666666666666,\"#ed7953\"],[0.7777777777777778,\"#fb9f3a\"],[0.8888888888888888,\"#fdca26\"],[1.0,\"#f0f921\"]]}],\"choropleth\":[{\"type\":\"choropleth\",\"colorbar\":{\"outlinewidth\":0,\"ticks\":\"\"}}],\"histogram2d\":[{\"type\":\"histogram2d\",\"colorbar\":{\"outlinewidth\":0,\"ticks\":\"\"},\"colorscale\":[[0.0,\"#0d0887\"],[0.1111111111111111,\"#46039f\"],[0.2222222222222222,\"#7201a8\"],[0.3333333333333333,\"#9c179e\"],[0.4444444444444444,\"#bd3786\"],[0.5555555555555556,\"#d8576b\"],[0.6666666666666666,\"#ed7953\"],[0.7777777777777778,\"#fb9f3a\"],[0.8888888888888888,\"#fdca26\"],[1.0,\"#f0f921\"]]}],\"heatmap\":[{\"type\":\"heatmap\",\"colorbar\":{\"outlinewidth\":0,\"ticks\":\"\"},\"colorscale\":[[0.0,\"#0d0887\"],[0.1111111111111111,\"#46039f\"],[0.2222222222222222,\"#7201a8\"],[0.3333333333333333,\"#9c179e\"],[0.4444444444444444,\"#bd3786\"],[0.5555555555555556,\"#d8576b\"],[0.6666666666666666,\"#ed7953\"],[0.7777777777777778,\"#fb9f3a\"],[0.8888888888888888,\"#fdca26\"],[1.0,\"#f0f921\"]]}],\"heatmapgl\":[{\"type\":\"heatmapgl\",\"colorbar\":{\"outlinewidth\":0,\"ticks\":\"\"},\"colorscale\":[[0.0,\"#0d0887\"],[0.1111111111111111,\"#46039f\"],[0.2222222222222222,\"#7201a8\"],[0.3333333333333333,\"#9c179e\"],[0.4444444444444444,\"#bd3786\"],[0.5555555555555556,\"#d8576b\"],[0.6666666666666666,\"#ed7953\"],[0.7777777777777778,\"#fb9f3a\"],[0.8888888888888888,\"#fdca26\"],[1.0,\"#f0f921\"]]}],\"contourcarpet\":[{\"type\":\"contourcarpet\",\"colorbar\":{\"outlinewidth\":0,\"ticks\":\"\"}}],\"contour\":[{\"type\":\"contour\",\"colorbar\":{\"outlinewidth\":0,\"ticks\":\"\"},\"colorscale\":[[0.0,\"#0d0887\"],[0.1111111111111111,\"#46039f\"],[0.2222222222222222,\"#7201a8\"],[0.3333333333333333,\"#9c179e\"],[0.4444444444444444,\"#bd3786\"],[0.5555555555555556,\"#d8576b\"],[0.6666666666666666,\"#ed7953\"],[0.7777777777777778,\"#fb9f3a\"],[0.8888888888888888,\"#fdca26\"],[1.0,\"#f0f921\"]]}],\"surface\":[{\"type\":\"surface\",\"colorbar\":{\"outlinewidth\":0,\"ticks\":\"\"},\"colorscale\":[[0.0,\"#0d0887\"],[0.1111111111111111,\"#46039f\"],[0.2222222222222222,\"#7201a8\"],[0.3333333333333333,\"#9c179e\"],[0.4444444444444444,\"#bd3786\"],[0.5555555555555556,\"#d8576b\"],[0.6666666666666666,\"#ed7953\"],[0.7777777777777778,\"#fb9f3a\"],[0.8888888888888888,\"#fdca26\"],[1.0,\"#f0f921\"]]}],\"mesh3d\":[{\"type\":\"mesh3d\",\"colorbar\":{\"outlinewidth\":0,\"ticks\":\"\"}}],\"scatter\":[{\"fillpattern\":{\"fillmode\":\"overlay\",\"size\":10,\"solidity\":0.2},\"type\":\"scatter\"}],\"parcoords\":[{\"type\":\"parcoords\",\"line\":{\"colorbar\":{\"outlinewidth\":0,\"ticks\":\"\"}}}],\"scatterpolargl\":[{\"type\":\"scatterpolargl\",\"marker\":{\"colorbar\":{\"outlinewidth\":0,\"ticks\":\"\"}}}],\"bar\":[{\"error_x\":{\"color\":\"#2a3f5f\"},\"error_y\":{\"color\":\"#2a3f5f\"},\"marker\":{\"line\":{\"color\":\"#E5ECF6\",\"width\":0.5},\"pattern\":{\"fillmode\":\"overlay\",\"size\":10,\"solidity\":0.2}},\"type\":\"bar\"}],\"scattergeo\":[{\"type\":\"scattergeo\",\"marker\":{\"colorbar\":{\"outlinewidth\":0,\"ticks\":\"\"}}}],\"scatterpolar\":[{\"type\":\"scatterpolar\",\"marker\":{\"colorbar\":{\"outlinewidth\":0,\"ticks\":\"\"}}}],\"histogram\":[{\"marker\":{\"pattern\":{\"fillmode\":\"overlay\",\"size\":10,\"solidity\":0.2}},\"type\":\"histogram\"}],\"scattergl\":[{\"type\":\"scattergl\",\"marker\":{\"colorbar\":{\"outlinewidth\":0,\"ticks\":\"\"}}}],\"scatter3d\":[{\"type\":\"scatter3d\",\"line\":{\"colorbar\":{\"outlinewidth\":0,\"ticks\":\"\"}},\"marker\":{\"colorbar\":{\"outlinewidth\":0,\"ticks\":\"\"}}}],\"scattermapbox\":[{\"type\":\"scattermapbox\",\"marker\":{\"colorbar\":{\"outlinewidth\":0,\"ticks\":\"\"}}}],\"scatterternary\":[{\"type\":\"scatterternary\",\"marker\":{\"colorbar\":{\"outlinewidth\":0,\"ticks\":\"\"}}}],\"scattercarpet\":[{\"type\":\"scattercarpet\",\"marker\":{\"colorbar\":{\"outlinewidth\":0,\"ticks\":\"\"}}}],\"carpet\":[{\"aaxis\":{\"endlinecolor\":\"#2a3f5f\",\"gridcolor\":\"white\",\"linecolor\":\"white\",\"minorgridcolor\":\"white\",\"startlinecolor\":\"#2a3f5f\"},\"baxis\":{\"endlinecolor\":\"#2a3f5f\",\"gridcolor\":\"white\",\"linecolor\":\"white\",\"minorgridcolor\":\"white\",\"startlinecolor\":\"#2a3f5f\"},\"type\":\"carpet\"}],\"table\":[{\"cells\":{\"fill\":{\"color\":\"#EBF0F8\"},\"line\":{\"color\":\"white\"}},\"header\":{\"fill\":{\"color\":\"#C8D4E3\"},\"line\":{\"color\":\"white\"}},\"type\":\"table\"}],\"barpolar\":[{\"marker\":{\"line\":{\"color\":\"#E5ECF6\",\"width\":0.5},\"pattern\":{\"fillmode\":\"overlay\",\"size\":10,\"solidity\":0.2}},\"type\":\"barpolar\"}],\"pie\":[{\"automargin\":true,\"type\":\"pie\"}]},\"layout\":{\"autotypenumbers\":\"strict\",\"colorway\":[\"#636efa\",\"#EF553B\",\"#00cc96\",\"#ab63fa\",\"#FFA15A\",\"#19d3f3\",\"#FF6692\",\"#B6E880\",\"#FF97FF\",\"#FECB52\"],\"font\":{\"color\":\"#2a3f5f\"},\"hovermode\":\"closest\",\"hoverlabel\":{\"align\":\"left\"},\"paper_bgcolor\":\"white\",\"plot_bgcolor\":\"#E5ECF6\",\"polar\":{\"bgcolor\":\"#E5ECF6\",\"angularaxis\":{\"gridcolor\":\"white\",\"linecolor\":\"white\",\"ticks\":\"\"},\"radialaxis\":{\"gridcolor\":\"white\",\"linecolor\":\"white\",\"ticks\":\"\"}},\"ternary\":{\"bgcolor\":\"#E5ECF6\",\"aaxis\":{\"gridcolor\":\"white\",\"linecolor\":\"white\",\"ticks\":\"\"},\"baxis\":{\"gridcolor\":\"white\",\"linecolor\":\"white\",\"ticks\":\"\"},\"caxis\":{\"gridcolor\":\"white\",\"linecolor\":\"white\",\"ticks\":\"\"}},\"coloraxis\":{\"colorbar\":{\"outlinewidth\":0,\"ticks\":\"\"}},\"colorscale\":{\"sequential\":[[0.0,\"#0d0887\"],[0.1111111111111111,\"#46039f\"],[0.2222222222222222,\"#7201a8\"],[0.3333333333333333,\"#9c179e\"],[0.4444444444444444,\"#bd3786\"],[0.5555555555555556,\"#d8576b\"],[0.6666666666666666,\"#ed7953\"],[0.7777777777777778,\"#fb9f3a\"],[0.8888888888888888,\"#fdca26\"],[1.0,\"#f0f921\"]],\"sequentialminus\":[[0.0,\"#0d0887\"],[0.1111111111111111,\"#46039f\"],[0.2222222222222222,\"#7201a8\"],[0.3333333333333333,\"#9c179e\"],[0.4444444444444444,\"#bd3786\"],[0.5555555555555556,\"#d8576b\"],[0.6666666666666666,\"#ed7953\"],[0.7777777777777778,\"#fb9f3a\"],[0.8888888888888888,\"#fdca26\"],[1.0,\"#f0f921\"]],\"diverging\":[[0,\"#8e0152\"],[0.1,\"#c51b7d\"],[0.2,\"#de77ae\"],[0.3,\"#f1b6da\"],[0.4,\"#fde0ef\"],[0.5,\"#f7f7f7\"],[0.6,\"#e6f5d0\"],[0.7,\"#b8e186\"],[0.8,\"#7fbc41\"],[0.9,\"#4d9221\"],[1,\"#276419\"]]},\"xaxis\":{\"gridcolor\":\"white\",\"linecolor\":\"white\",\"ticks\":\"\",\"title\":{\"standoff\":15},\"zerolinecolor\":\"white\",\"automargin\":true,\"zerolinewidth\":2},\"yaxis\":{\"gridcolor\":\"white\",\"linecolor\":\"white\",\"ticks\":\"\",\"title\":{\"standoff\":15},\"zerolinecolor\":\"white\",\"automargin\":true,\"zerolinewidth\":2},\"scene\":{\"xaxis\":{\"backgroundcolor\":\"#E5ECF6\",\"gridcolor\":\"white\",\"linecolor\":\"white\",\"showbackground\":true,\"ticks\":\"\",\"zerolinecolor\":\"white\",\"gridwidth\":2},\"yaxis\":{\"backgroundcolor\":\"#E5ECF6\",\"gridcolor\":\"white\",\"linecolor\":\"white\",\"showbackground\":true,\"ticks\":\"\",\"zerolinecolor\":\"white\",\"gridwidth\":2},\"zaxis\":{\"backgroundcolor\":\"#E5ECF6\",\"gridcolor\":\"white\",\"linecolor\":\"white\",\"showbackground\":true,\"ticks\":\"\",\"zerolinecolor\":\"white\",\"gridwidth\":2}},\"shapedefaults\":{\"line\":{\"color\":\"#2a3f5f\"}},\"annotationdefaults\":{\"arrowcolor\":\"#2a3f5f\",\"arrowhead\":0,\"arrowwidth\":1},\"geo\":{\"bgcolor\":\"white\",\"landcolor\":\"#E5ECF6\",\"subunitcolor\":\"white\",\"showland\":true,\"showlakes\":true,\"lakecolor\":\"white\"},\"title\":{\"x\":0.05},\"mapbox\":{\"style\":\"light\"},\"margin\":{\"b\":0,\"l\":0,\"r\":0,\"t\":30}}},\"xaxis\":{\"tickangle\":45,\"categoryorder\":\"array\",\"categoryarray\":[\"Calibration\\u003cbr\\u003eSimulation\",\"Uniform\\u003cbr\\u003eSimulation\",\"Decreasing\\u003cbr\\u003eSimulation\",\"Increasing\\u003cbr\\u003eSimulation\",\"Front-heavy\\u003cbr\\u003eSimulation\",\"Back-heavy\\u003cbr\\u003eSimulation\",\"Alternating\\u003cbr\\u003eSimulation\",\"Bailey-rule\\u003cbr\\u003eSimulation\",\"\",\"Calibration\\u003cbr\\u003eExact\",\"Uniform\\u003cbr\\u003eExact\",\"Decreasing\\u003cbr\\u003eExact\",\"Increasing\\u003cbr\\u003eExact\",\"Front-heavy\\u003cbr\\u003eExact\",\"Back-heavy\\u003cbr\\u003eExact\",\"Alternating\\u003cbr\\u003eExact\",\"Bailey-rule\\u003cbr\\u003eExact\"],\"title\":{\"text\":\"Schedule Type\"}},\"title\":{\"text\":\"Comparison of Simulation vs. Exact Results\"},\"yaxis\":{\"title\":{\"text\":\"Time\"}},\"barmode\":\"stack\",\"shapes\":[{\"line\":{\"color\":\"black\",\"dash\":\"dot\",\"width\":2},\"type\":\"line\",\"x0\":0.5,\"x1\":0.5,\"xref\":\"paper\",\"y0\":0,\"y1\":1,\"yref\":\"paper\"}]},                        {\"responsive\": true}                    ).then(function(){\n",
       "                            \n",
       "var gd = document.getElementById('c13b4613-d562-494a-8ecb-6e1c78058897');\n",
       "var x = new MutationObserver(function (mutations, observer) {{\n",
       "        var display = window.getComputedStyle(gd).display;\n",
       "        if (!display || display === 'none') {{\n",
       "            console.log([gd, 'removed!']);\n",
       "            Plotly.purge(gd);\n",
       "            observer.disconnect();\n",
       "        }}\n",
       "}});\n",
       "\n",
       "// Listen for the removal of the full notebook cells\n",
       "var notebookContainer = gd.closest('#notebook-container');\n",
       "if (notebookContainer) {{\n",
       "    x.observe(notebookContainer, {childList: true});\n",
       "}}\n",
       "\n",
       "// Listen for the clearing of the current output cell\n",
       "var outputEl = gd.closest('.output');\n",
       "if (outputEl) {{\n",
       "    x.observe(outputEl, {childList: true});\n",
       "}}\n",
       "\n",
       "                        })                };                });            </script>        </div>"
      ]
     },
     "metadata": {},
     "output_type": "display_data"
    }
   ],
   "source": [
    "# Extract schedule names from the dataframe\n",
    "schedule_names = df_results['schedule_name'].tolist()\n",
    "\n",
    "# Create new x-values for simulation and exact results\n",
    "x_sim = [f\"{s}<br>Simulation\" for s in schedule_names]\n",
    "x_exact = [f\"{s}<br>Exact\" for s in schedule_names]\n",
    "\n",
    "# Extract values from the dataframe\n",
    "sim_wait = df_results['average_waiting_time'].tolist()\n",
    "sim_over = df_results['average_overtime'].tolist()\n",
    "exact_wait = df_results['expected_waiting_time'].tolist()\n",
    "exact_over = df_results['expected_overtime'].tolist()\n",
    "\n",
    "# Create a combined category list with an empty category between the two groups\n",
    "categories = x_sim + [\"\"] + x_exact\n",
    "\n",
    "# Create the figure\n",
    "fig = go.Figure()\n",
    "\n",
    "# Simulation bar traces (stacked)\n",
    "fig.add_trace(go.Bar(\n",
    "    x=x_sim,\n",
    "    y=sim_wait,\n",
    "    name='Waiting Time',\n",
    "    marker_color='blue'\n",
    "))\n",
    "fig.add_trace(go.Bar(\n",
    "    x=x_sim,\n",
    "    y=sim_over,\n",
    "    name='Overtime',\n",
    "    marker_color='red'\n",
    "))\n",
    "\n",
    "# Exact bar traces (stacked)\n",
    "fig.add_trace(go.Bar(\n",
    "    x=x_exact,\n",
    "    y=exact_wait,\n",
    "    name='Waiting Time',\n",
    "    marker_color='blue',\n",
    "    showlegend=False  # legend already shown for waiting time above\n",
    "))\n",
    "fig.add_trace(go.Bar(\n",
    "    x=x_exact,\n",
    "    y=exact_over,\n",
    "    name='Overtime',\n",
    "    marker_color='red',\n",
    "    showlegend=False  # legend already shown for overtime above\n",
    "))\n",
    "\n",
    "# Update x-axis to use the full category array (which includes the gap)\n",
    "fig.update_xaxes(\n",
    "    tickangle=45,\n",
    "    categoryorder='array',\n",
    "    categoryarray=categories\n",
    ")\n",
    "\n",
    "# Optionally, adjust the vertical dotted line.\n",
    "# For example, you can remove it if the gap is sufficient or reposition it.\n",
    "fig.update_layout(\n",
    "    title=\"Comparison of Simulation vs. Exact Results\",\n",
    "    xaxis_title=\"Schedule Type\",\n",
    "    yaxis_title=\"Time\",\n",
    "    barmode='stack',\n",
    "    shapes=[\n",
    "        dict(\n",
    "            type=\"line\",\n",
    "            xref=\"paper\", x0=0.5, x1=0.5,\n",
    "            yref=\"paper\", y0=0, y1=1,\n",
    "            line=dict(\n",
    "                color=\"black\",\n",
    "                width=2,\n",
    "                dash=\"dot\"\n",
    "            )\n",
    "        )\n",
    "    ]\n",
    ")\n",
    "\n",
    "fig.show()"
   ]
  },
  {
   "cell_type": "markdown",
   "id": "26c60dff",
   "metadata": {},
   "source": [
    "## Discussion\n",
    "\n",
    "The results show that the exact calculations and the Monte Carlo simulations are in good agreement. The average waiting times and overtimes are very close for both methods. The computation times for the exact calculations are also reasonable, indicating that the functions are efficient - at least for these limited instances.\n",
    "\n",
    "## Timeline\n",
    "\n",
    "This experiment has been started on 07-03-2025 and is expected to be finished on 14-03-2025."
   ]
  }
 ],
 "metadata": {
  "kernelspec": {
   "display_name": "Python 3 (ipykernel)",
   "language": "python",
   "name": "python3"
  },
  "language_info": {
   "codemirror_mode": {
    "name": "ipython",
    "version": 3
   },
   "file_extension": ".py",
   "mimetype": "text/x-python",
   "name": "python",
   "nbconvert_exporter": "python",
   "pygments_lexer": "ipython3",
   "version": "3.12.2"
  }
 },
 "nbformat": 4,
 "nbformat_minor": 5
}
