{
 "cells": [
  {
   "cell_type": "raw",
   "id": "e7cb947c",
   "metadata": {},
   "source": [
    "---\n",
    "title: Combinatorial Bayesian Optimization Experiments\n",
    "editor: visual\n",
    "---"
   ]
  },
  {
   "cell_type": "markdown",
   "id": "2add898e",
   "metadata": {},
   "source": [
    "## Objective\n",
    "\n",
    "The objective of this experiment is to evaluate and compare the performance of two distinct Combinatorial Bayesian Optimization (CBO) strategies for an outpatient appointment scheduling problem. We investigate:\n",
    "\n",
    "1.  CBO utilizing Expected Improvement (EI) as the acquisition function.\n",
    "2.  CBO utilizing Lower Confidence Bound (LCB) as the acquisition function with a fixed kappa ($\\kappa$) value.\n",
    "\n",
    "We aim to determine which strategy is most effective in identifying an optimal or near-optimal schedule, as measured by the objective function value, leveraging dictionary-based embeddings for the high-dimensional combinatorial space [@deshwal_bayesian_2023].\n",
    "\n",
    "## Background\n",
    "\n",
    "We consider an outpatient appointment scheduling problem as described by @kaandorp_optimal_2007 where the schedule is represented by a vector $\\mathbf{x} = (x_0, x_1, \\ldots, x_{T-1})^T$. This vector comprises $T$ components, where $x_j$ denotes the non-negative allocation (number of patients) to time slot $j$, for $j = 0, \\ldots, T-1$. A fundamental constraint is that the total allocation across all time slots must equal a fixed constant $N$: $$\\sum_{j=0}^{T-1} x_j = N$$ We require $x_j \\ge 0$ for all $j = 0, \\ldots, T-1$. Consequently, a valid schedule $\\mathbf{x}$ belongs to the feasible set $\\mathcal{F} = \\{ \\mathbf{z} \\in \\mathbb{D}^{T} \\mid \\sum_{j=0}^{T-1} z_j = N, z_j \\ge 0 \\text{ for all } j\\}$, where $\\mathbb{D}$ is the set of non-negative integers ($\\mathbb{Z}_{\\ge 0}$).\n",
    "\n",
    "@kaandorp_optimal_2007 define a neighborhood structure for local search based on perturbation vectors derived from a set of $T$ basis change vectors, $v_i \\in \\mathbb{D}^{T}$, for $i = 0, \\ldots, T-1$. These basis vectors represent elementary shifts of allocation between time slots:\n",
    "\n",
    "-   $v_0 = (-1, 0, \\ldots, 0, 1)$ (Shift unit *from* slot 0 *to* slot $T-1$)\n",
    "-   $v_1 = (1, -1, 0, \\ldots, 0)$ (Shift unit *from* slot 1 *to* slot 0)\n",
    "-   $v_i = (0, \\ldots, 0, \\underbrace{1}_{\\text{pos } i-1}, \\underbrace{-1}_{\\text{pos } i}, 0, \\ldots, 0)$ for $i = 2, \\ldots, T-1$ (Shift unit *from* slot $i$ *to* slot $i-1$)\n",
    "\n",
    "A key property of these basis vectors is that the sum of components for each vector is zero: $\\sum_{j=0}^{T-1} v_{ij} = 0$ for all $i=0, \\ldots, T-1$.\n",
    "\n",
    "Perturbations are constructed using a binary selection vector $\\mathbf{U} = (u_0, u_1, \\ldots, u_{T-1})$, where $u_i \\in \\{0, 1\\}$. Each $u_i$ indicates whether the basis change $v_i$ is included in the perturbation. The resulting perturbation vector $\\mathbf{r}(\\mathbf{U}) \\in \\mathbb{D}^{T}$ is the linear combination: $$\\mathbf{r}(\\mathbf{U}) := \\sum_{i=0}^{T-1} u_i v_i$$\n",
    "\n",
    "Since each $v_i$ sums to zero, any perturbation $\\mathbf{r}(\\mathbf{U})$ also sums to zero: $\\sum_{j=0}^{T-1} r_j(\\mathbf{U}) = 0$. This ensures that applying such a perturbation to a valid schedule $\\mathbf{x}$ preserves the total allocation $N$.\n",
    "\n",
    "The neighborhood of a schedule $\\mathbf{x} \\in \\mathcal{F}$, denoted by $\\mathcal{N}(\\mathbf{x})$, comprises all distinct, feasible schedules $\\mathbf{x}'$ reachable by applying a non-zero perturbation $\\mathbf{r}(\\mathbf{U})$ (@kaandorp_optimal_2007, use a slightly different but related neighborhood definition based on combinations of these basis vectors).\n",
    "\n",
    "The objective function to be minimized is a weighted sum of Expected Waiting Time (EWT) and Expected Staff Penalty (ESP), as defined by @kaandorp_optimal_2007:\n",
    "$$C(\\mathbf{x}) = w \\cdot EWT(\\mathbf{x}) + (1-w) \\cdot ESP(\\mathbf{x})$$\n",
    "@kaandorp_optimal_2007 prove that this objective function is multimodular, which guarantees that a local search algorithm using their defined neighborhood converges to the global optimum.\n",
    "\n",
    "However, evaluating $C(\\mathbf{x})$ can be computationally expensive, especially for large $N$ and $T$. Furthermore, the search space defined by the binary vectors $\\mathbf{U}$ is high-dimensional ($2^T - 2$ possibilities, excluding $\\mathbf{0}$ and $\\mathbf{1}$). Bayesian Optimization (BO) is a suitable framework for optimizing such expensive black-box functions. Standard BO methods often struggle with high-dimensional combinatorial spaces. @deshwal_bayesian_2023 propose a method using dictionary-based embeddings (Hamming Embedding via Dictionaries - HED) to map the high-dimensional binary space of $\\mathbf{U}$ vectors into a lower-dimensional continuous space, where standard Gaussian Process (GP) models can be effectively applied. This experiment applies the HED approach within a BO framework to solve the scheduling problem formulated by @kaandorp_optimal_2007.\n",
    "\n",
    "## Hypothesis\n",
    "\n",
    "We hypothesize that:\n",
    "\n",
    "1.  Both CBO strategies, leveraging the HED embedding [@deshwal_bayesian_2023], will be capable of finding schedules superior to the initial schedule derived from the Bailey-Welch method (@).\n",
    "2.  CBO strategies employing Lower Confidence Bound (LCB) may exhibit superior performance or faster convergence compared to Expected Improvement (EI), due to the explicit exploration-exploitation trade-off inherent in LCB.\n",
    "\n",
    "## Methodology\n",
    "\n",
    "### Tools and Materials\n",
    "\n",
    "-   Programming Language: Python 3\n",
    "-   Core Libraries: NumPy, SciPy\n",
    "-   Machine Learning: Scikit-learn (for `GaussianProcessRegressor`, `MinMaxScaler`)\n",
    "-   Data Structures: Standard Python lists and dictionaries, NumPy arrays.\n",
    "-   Imported functions: `bailey_welch_schedule`, `get_v_star`, `compute_convolutions`, `calculate_objective_serv_time_lookup` (implementing the logic from @bailey1952study, assumed to be in an external `functions.py` file).\n",
    "\n",
    "### Experimental Design\n",
    "\n",
    "Three distinct Bayesian optimization experiments are conducted, applying the HED embedding approach [@deshwal_bayesian_2023] to the scheduling problem:\n",
    "\n",
    "1.  **Experiment 1: Expected Improvement (EI)**\n",
    "    * Acquisition Function: Expected Improvement.\n",
    "    * Objective: Minimize $C(\\mathbf{x})$ by iteratively selecting candidate vectors $\\mathbf{U}$ (via their embeddings) that maximize the EI.\n",
    "2.  **Experiment 2: Lower Confidence Bound (LCB) - Fixed Kappa**\n",
    "    * Acquisition Function: Lower Confidence Bound.\n",
    "    * Objective: Minimize $C(\\mathbf{x})$ using a fixed `kappa` ($\\kappa$) value in the LCB acquisition function applied to the GP model over the embedded space.\n",
    "\n",
    "For all experiments, Hamming Distance Embedding (HED) with a \"diverse random\" dictionary construction strategy [@deshwal_bayesian_2023] is employed to map the binary perturbation vectors $\\mathbf{U}$ to a continuous embedding space. A Gaussian Process (GP) model with Automatic Relevance Determination (ARD) kernels models the (negative) objective function in this embedded space.\n",
    "\n",
    "### Variables\n",
    "\n",
    "-   **Independent Variables**:\n",
    "    -   Type of acquisition function (EI, LCB).\n",
    "    -   The specific binary perturbation vector $\\mathbf{U}$ selected in each iteration (chosen via optimizing the acquisition function over the embedded space).\n",
    "-   **Dependent Variables**:\n",
    "    -   The objective function value $C(\\mathbf{x}')$ for the resulting schedule $\\mathbf{x}' = \\mathbf{x} + \\mathbf{r}(\\mathbf{U})$ (calculated using the method from @kaandorp_optimal_2007).\n",
    "    -   The best objective function value found throughout the optimization process.\n",
    "\n",
    "### Data Collection\n",
    "\n",
    "Data, comprising evaluated pairs $(\\mathbf{U}, C(\\mathbf{x}'))$, is collected iteratively:\n",
    "\n",
    "-   An initial set of `N_INITIAL` randomly generated $\\mathbf{U}$ vectors is evaluated.\n",
    "-   In each of the subsequent `N_ITERATIONS`, `BATCH_SIZE_q` new $\\mathbf{U}$ vectors are selected by optimizing the respective acquisition function over `NUM_CANDIDATES_Acqf` randomly generated candidate vectors in the original binary space (evaluated via their embeddings). These newly selected vectors are then evaluated, and the results are added to the dataset.\n",
    "\n",
    "### Sample Size and Selection\n",
    "\n",
    "-   **N_INITIAL**: 20 (number of initial random evaluations)\n",
    "-   **N_ITERATIONS**: 20 (number of Bayesian optimization iterations)\n",
    "-   **BATCH_SIZE_q**: 5 (number of candidates selected and evaluated per iteration)\n",
    "-   **NUM_CANDIDATES_Acqf**: $T \\times 1024 = 20 \\times 1024 = 20480$ (number of random candidates generated for optimizing the acquisition function in each iteration)\n",
    "-   **m**: 128 (dimensionality of the HED embedding space, following @deshwal_bayesian_2023)\n",
    "\n",
    "The selection of new points for evaluation is guided by the respective acquisition function (EI or LCB) optimized over the embedded space representation of candidate $\\mathbf{U}$ vectors.\n",
    "\n",
    "### Experimental Procedure\n",
    "\n",
    "#### 1. Setup\n",
    "Import necessary libraries and configure warning filters.\n"
   ]
  },
  {
   "cell_type": "code",
   "execution_count": 1,
   "id": "de7f16d9",
   "metadata": {},
   "outputs": [],
   "source": [
    "# Core Libraries\n",
    "import numpy as np\n",
    "import time\n",
    "import math\n",
    "import warnings\n",
    "from scipy.optimize import minimize\n",
    "from typing import List, Dict, Tuple, Callable, Optional, Union, Any, Iterable\n",
    "\n",
    "# Scikit-learn for GP, Scaling, and potentially acquisition functions\n",
    "from sklearn.gaussian_process import GaussianProcessRegressor\n",
    "from sklearn.gaussian_process.kernels import Matern, ConstantKernel, WhiteKernel\n",
    "from sklearn.preprocessing import MinMaxScaler\n",
    "from sklearn.exceptions import ConvergenceWarning\n",
    "\n",
    "# SciPy for statistics (needed for Expected Improvement calculation)\n",
    "from scipy.stats import norm\n",
    "\n",
    "from functions import bailey_welch_schedule, get_v_star, compute_convolutions, calculate_objective_serv_time_lookup\n",
    "\n",
    "# Filter warnings\n",
    "warnings.filterwarnings(\"ignore\", category=RuntimeWarning)\n",
    "warnings.filterwarnings(\"ignore\", category=ConvergenceWarning) # GP fitting might not always converge perfectly"
   ]
  },
  {
   "cell_type": "markdown",
   "id": "1423e36e",
   "metadata": {},
   "source": [
    "#### 2. Constants\n",
    "Definition of problem parameters and initial configuration.\n"
   ]
  },
  {
   "cell_type": "code",
   "execution_count": 2,
   "id": "ae70f73b",
   "metadata": {},
   "outputs": [
    {
     "name": "stdout",
     "output_type": "stream",
     "text": [
      "Average generated service time: 12.942391896136673\n",
      "Initial schedule: [2 1 1 1 0 1 1 1 0 1 1 1 1 0 1 1 1 0 1 8]\n",
      "Initial objective value: 120.67426858005447\n"
     ]
    }
   ],
   "source": [
    "# --- Problem Definition ---\n",
    "\n",
    "# Fixed Data (Use your actual data)\n",
    "N = 24 # Total number of patients\n",
    "T = 20 # Dimension of the binary vector U\n",
    "d = 10 # Length of each interval\n",
    "max_s = 30 # Maximum service time\n",
    "q = 0.20 # Probability of a scheduled patient not showing up\n",
    "w = 0.1 # Weight for the waiting time in objective function\n",
    "l = 14\n",
    "v_star = get_v_star(T) # Get the V* matrix(T x T)\n",
    "# Create service time distribution\n",
    "def generate_weighted_list(max_s: int, l: float, i: int) -> Optional[np.ndarray]:\n",
    "    \"\"\"\n",
    "    Generates a service time probability distribution using optimization.\n",
    "\n",
    "    This function creates a discrete probability distribution over max_s possible\n",
    "    service times (from 1 to max_s). It uses optimization (SLSQP) to find a\n",
    "    distribution whose weighted average service time is as close as possible\n",
    "    to a target value 'l', subject to the constraint that the probabilities\n",
    "    sum to 1 and each probability is between 0 and 1.\n",
    "\n",
    "    After finding the distribution, it sorts the probabilities: the first 'i'\n",
    "    probabilities (corresponding to service times 1 to i) are sorted in\n",
    "    ascending order, and the remaining probabilities (service times i+1 to max_s)\n",
    "    are sorted in descending order.\n",
    "\n",
    "    Note:\n",
    "        - Requires NumPy and SciPy libraries (specifically scipy.optimize.minimize).\n",
    "\n",
    "    Args:\n",
    "        max_s (int): Maximum service time parameter (number of probability bins).\n",
    "                     Must be a positive integer.\n",
    "        l (float): The target weighted average service time for the distribution.\n",
    "                   Must be between 1 and max_s, inclusive.\n",
    "        i (int): The index determining the sorting split point. Probabilities\n",
    "                 for service times 1 to 'i' are sorted ascendingly, and\n",
    "                 probabilities for service times 'i+1' to 'max_s' are sorted\n",
    "                 descendingly. Must be between 1 and max_s-1 for meaningful sorting.\n",
    "\n",
    "    Returns:\n",
    "        numpy.ndarray: An array of size max_s+1. The first element (index 0) is 0.\n",
    "                       Elements from index 1 to max_s represent the calculated\n",
    "                       and sorted probability distribution, summing to 1.\n",
    "                       Returns None if optimization fails or inputs are invalid.\n",
    "    \"\"\"\n",
    "\n",
    "    # --- Input Validation ---\n",
    "    if not isinstance(max_s, int) or max_s <= 0:\n",
    "        print(f\"Error: max_s must be a positive integer, but got {max_s}\")\n",
    "        return None\n",
    "    if not isinstance(l, (int, float)) or not (1 <= l <= max_s):\n",
    "        print(f\"Error: Target average 'l' ({l}) must be between 1 and max_s ({max_s}).\")\n",
    "        return None\n",
    "    if not isinstance(i, int) or not (0 < i < max_s):\n",
    "        print(f\"Error: Sorting index 'i' ({i}) must be between 1 and max_s-1 ({max_s-1}).\")\n",
    "        # If clamping is desired instead of error:\n",
    "        # print(f\"Warning: Index 'i' ({i}) is outside the valid range (1 to {max_s-1}). Clamping i.\")\n",
    "        # i = max(1, min(i, max_s - 1))\n",
    "        return None # Strict check based on docstring requirement\n",
    "\n",
    "    # --- Inner helper function for optimization ---\n",
    "    def objective(x: np.ndarray) -> float:\n",
    "        \"\"\"Objective function: Squared difference between weighted average and target l.\"\"\"\n",
    "        # x represents probabilities P(1) to P(max_s)\n",
    "        service_times = np.arange(1, max_s + 1)\n",
    "        weighted_avg = np.dot(service_times, x) # Equivalent to sum(k * P(k) for k=1 to max_s)\n",
    "        return (weighted_avg - l) ** 2\n",
    "\n",
    "    # --- Constraints for optimization ---\n",
    "    # Constraint 1: The sum of the probabilities must be 1\n",
    "    constraints = ({\n",
    "        'type': 'eq',\n",
    "        'fun': lambda x: np.sum(x) - 1.0 # Ensure float comparison\n",
    "    })\n",
    "\n",
    "    # Bounds: Each probability value x[k] must be between 0 and 1\n",
    "    # Creates a list of max_s tuples, e.g., [(0, 1), (0, 1), ..., (0, 1)]\n",
    "    bounds = [(0, 1)] * max_s\n",
    "\n",
    "    # Initial guess: Use Dirichlet distribution to get a random distribution that sums to 1.\n",
    "    # Provides a starting point for the optimizer. np.ones(max_s) gives equal weights initially.\n",
    "    initial_guess = np.random.dirichlet(np.ones(max_s))\n",
    "\n",
    "    # --- Perform Optimization ---\n",
    "    try:\n",
    "        result = minimize(\n",
    "            objective,\n",
    "            initial_guess,\n",
    "            method='SLSQP',\n",
    "            bounds=bounds,\n",
    "            constraints=constraints,\n",
    "            # options={'disp': False} # Set True for detailed optimizer output\n",
    "        )\n",
    "\n",
    "        # Check if optimization was successful\n",
    "        if not result.success:\n",
    "            print(f\"Warning: Optimization failed! Message: {result.message}\")\n",
    "            # Optionally print result object for more details: print(result)\n",
    "            return None # Indicate failure\n",
    "\n",
    "        # The optimized probabilities (P(1) to P(max_s))\n",
    "        optimized_probs = result.x\n",
    "\n",
    "        # --- Post-process: Correct potential floating point inaccuracies ---\n",
    "        # Ensure probabilities are non-negative and sum *exactly* to 1\n",
    "        optimized_probs[optimized_probs < 0] = 0 # Clamp small negatives to 0\n",
    "        current_sum = np.sum(optimized_probs)\n",
    "        if not np.isclose(current_sum, 1.0):\n",
    "            if current_sum > 0: # Avoid division by zero\n",
    "                 optimized_probs /= current_sum # Normalize to sum to 1\n",
    "            else:\n",
    "                 print(\"Warning: Optimization resulted in zero sum probabilities after clamping negatives.\")\n",
    "                 # Handle this case - maybe return uniform distribution or None\n",
    "                 return None # Or return uniform: np.ones(max_s) / max_s\n",
    "\n",
    "    except Exception as e:\n",
    "        print(f\"An error occurred during optimization: {e}\")\n",
    "        return None\n",
    "\n",
    "    # --- Reorder the probabilities based on the index 'i' ---\n",
    "    # Split the probabilities P(1)...P(i) and P(i+1)...P(max_s)\n",
    "    # Note: Python slicing is exclusive of the end index, array indexing is 0-based.\n",
    "    # result.x[0] corresponds to P(1), result.x[i-1] to P(i).\n",
    "    # result.x[i] corresponds to P(i+1), result.x[max_s-1] to P(max_s).\n",
    "\n",
    "    first_part_probs = optimized_probs[:i]   # Probabilities P(1) to P(i)\n",
    "    second_part_probs = optimized_probs[i:]  # Probabilities P(i+1) to P(max_s)\n",
    "\n",
    "    # Sort the first part ascending, the second part descending\n",
    "    sorted_first_part = np.sort(first_part_probs)\n",
    "    sorted_second_part = np.sort(second_part_probs)[::-1] # [::-1] reverses\n",
    "\n",
    "    # --- Create final output array ---\n",
    "    # Array of size max_s + 1, initialized to zeros. Index 0 unused.\n",
    "    values = np.zeros(max_s + 1)\n",
    "\n",
    "    # Assign the sorted probabilities back into the correct slots (index 1 onwards)\n",
    "    values[1 : i + 1] = sorted_first_part      # Assign P(1)...P(i)\n",
    "    values[i + 1 : max_s + 1] = sorted_second_part # Assign P(i+1)...P(max_s)\n",
    "\n",
    "    # Final check on sum after potential normalization/sorting\n",
    "    if not np.isclose(np.sum(values[1:]), 1.0):\n",
    "         print(f\"Warning: Final distribution sum is {np.sum(values[1:])}, not 1.0. Check logic.\")\n",
    "\n",
    "    # Return the final array with the sorted probability distribution\n",
    "    return values\n",
    "\n",
    "i = 10  # First 5 highest values in ascending order, rest in descending order\n",
    "s = generate_weighted_list(max_s, l, i)\n",
    "print(f\"Average generated service time: {np.dot(np.arange(len(s)), s)}\")\n",
    "convolutions = compute_convolutions(s, N, q)\n",
    "X = np.array(bailey_welch_schedule(T, d, N, s))\n",
    "print(f\"Initial schedule: {X}\")\n",
    "# Objective Function Calculation\n",
    "LARGE_PENALTY = 1e10 # Penalty for infeasible solutions\n",
    "ewt, esp = calculate_objective_serv_time_lookup(X, d, convolutions)\n",
    "initial_objective_value = w * ewt + (1 - w) * esp\n",
    "print(f\"Initial objective value: {initial_objective_value}\")"
   ]
  },
  {
   "cell_type": "markdown",
   "id": "e8055cd8",
   "metadata": {},
   "source": [
    "#### 3. Common Functions (Objective Evaluation and HED)\n",
    "Objective evaluation implements $C(\\mathbf{x})$ from @kaandorp_optimal_2007. HED implementation follows @deshwal_bayesian_2023.\n"
   ]
  },
  {
   "cell_type": "code",
   "execution_count": 3,
   "id": "d907211c",
   "metadata": {},
   "outputs": [],
   "source": [
    "def evaluate_objective(U_np, X_vec, v_star, convolutions, d, w):\n",
    "    \"\"\"\n",
    "    Target function: Evaluates objective for a single binary numpy array U.\n",
    "    Returns a float.\n",
    "    \"\"\"\n",
    "    # Input validation (same as before)\n",
    "    if not isinstance(U_np, np.ndarray):\n",
    "        raise TypeError(\"Input U must be a numpy array\")\n",
    "    if U_np.ndim != 1:\n",
    "         raise ValueError(\"Input U must be 1-dimensional\")\n",
    "    if U_np.shape[0] != v_star.shape[0]:\n",
    "         raise ValueError(f\"Dimension mismatch: U length {U_np.shape[0]} != V* rows {v_star.shape[0]}.\")\n",
    "    if X_vec.shape[0] != v_star.shape[1]:\n",
    "         raise ValueError(\"Dimension mismatch: X length must match V* columns.\")\n",
    "    if not np.all((U_np == 0) | (U_np == 1)):\n",
    "         raise ValueError(\"Input U must be binary (0s and 1s).\")\n",
    "\n",
    "    # Calculate Y based on selected rows of V_star\n",
    "    V_sum = np.sum(v_star[U_np == 1, :], axis=0)\n",
    "    Y = X_vec + V_sum\n",
    "\n",
    "    # Check feasibility and calculate objective\n",
    "    if np.all(Y >= 0):\n",
    "        ewt, esp = calculate_objective_serv_time_lookup(Y, d, convolutions)\n",
    "        objective_value = w * ewt + (1 - w) * esp\n",
    "        return objective_value\n",
    "    else:\n",
    "        # Infeasible solution\n",
    "        return LARGE_PENALTY\n",
    "\n",
    "# --- HED Implementation ---\n",
    "\n",
    "def hamming_distance(u1, u2):\n",
    "    \"\"\"Calculates Hamming distance between two binary numpy arrays.\"\"\"\n",
    "    return np.sum(u1 != u2)\n",
    "\n",
    "def generate_diverse_random_dictionary(T, m):\n",
    "    \"\"\"Generates the random dictionary A for HED.\"\"\"\n",
    "    dictionary_A = np.zeros((m, T), dtype=int)\n",
    "    for i in range(m):\n",
    "        # Sample theta for density of 1s in this dictionary vector\n",
    "        theta = np.random.uniform(0, 1)\n",
    "        row = (np.random.rand(T) < theta).astype(int)\n",
    "        dictionary_A[i, :] = row\n",
    "    return dictionary_A\n",
    "\n",
    "def _generate_binary_hadamard_matrix_recursive(dim):\n",
    "    \"\"\"\n",
    "    Generates a binary (0/1) Hadamard-like matrix of size dim x dim.\n",
    "    'dim' must be a power of 2.\n",
    "    This uses the Sylvester's construction H_2n = [[H_n, H_n], [H_n, 1-H_n]]\n",
    "    starting with H_1 = [[1]].\n",
    "    \"\"\"\n",
    "    if not (dim > 0 and (dim & (dim - 1) == 0)): # Checks if dim is a power of 2\n",
    "        raise ValueError(\"Dimension must be a power of 2.\")\n",
    "\n",
    "    if dim == 1:\n",
    "        return np.array([[1]], dtype=int)\n",
    "    else:\n",
    "        h_prev = _generate_binary_hadamard_matrix_recursive(dim // 2)\n",
    "        h_top = np.hstack((h_prev, h_prev))\n",
    "        h_bottom = np.hstack((h_prev, 1 - h_prev)) # 1-H_n for binary\n",
    "        return np.vstack((h_top, h_bottom))\n",
    "\n",
    "def generate_wavelet_dictionary(T, m):\n",
    "    \"\"\"\n",
    "    Generates a dictionary A of size m x T using the subsampled binary wavelet approach.\n",
    "\n",
    "    Args:\n",
    "        T (int): The dimensionality of the input space (number of columns in dictionary).\n",
    "        m (int): The desired number of dictionary elements (number of rows).\n",
    "\n",
    "    Returns:\n",
    "        np.ndarray: An m x T integer numpy array representing the dictionary.\n",
    "    \"\"\"\n",
    "    if T <= 0:\n",
    "        raise ValueError(\"T (dimensionality) must be positive.\")\n",
    "    if m <= 0:\n",
    "        raise ValueError(\"m (dictionary size) must be positive.\")\n",
    "\n",
    "    # 1. Determine the smallest power of 2 >= T for the full wavelet matrix\n",
    "    if T == 1:\n",
    "        n_wavelet = 1\n",
    "    elif (T > 0 and (T & (T - 1) == 0)): # T is already a power of 2\n",
    "        n_wavelet = T\n",
    "    else:\n",
    "        n_wavelet = 2**math.ceil(math.log2(T))\n",
    "\n",
    "    # 2. Generate the full n_wavelet x n_wavelet binary Hadamard matrix\n",
    "    # print(f\"Generating full wavelet matrix of size: {n_wavelet}x{n_wavelet}\")\n",
    "    full_wavelet_matrix = _generate_binary_hadamard_matrix_recursive(n_wavelet)\n",
    "\n",
    "    # 3. Subsample T columns if n_wavelet > T\n",
    "    if n_wavelet > T:\n",
    "        # print(f\"Subsampling {T} columns from {n_wavelet} columns.\")\n",
    "        col_indices = np.random.choice(n_wavelet, size=T, replace=False)\n",
    "        col_indices.sort() # Optional: for deterministic testing if seed is set\n",
    "        wavelet_matrix_T_cols = full_wavelet_matrix[:, col_indices]\n",
    "    else:\n",
    "        wavelet_matrix_T_cols = full_wavelet_matrix # n_wavelet == T\n",
    "\n",
    "    # 4. Subsample m rows\n",
    "    num_available_rows = wavelet_matrix_T_cols.shape[0]\n",
    "    if m > num_available_rows:\n",
    "        print(f\"Warning: Requested dictionary size m ({m}) is greater than \"\n",
    "              f\"available unique wavelet rows ({num_available_rows}). \"\n",
    "              f\"Using all available rows and repeating if necessary, or consider reducing m.\")\n",
    "        # For simplicity, if m > num_available_rows, we'll sample with replacement\n",
    "        # or you could choose to error, or return fewer rows.\n",
    "        # The paper implies m should be less than or equal to the rows of B_d.\n",
    "        # If sampling with replacement is needed:\n",
    "        row_indices = np.random.choice(num_available_rows, size=m, replace=True)\n",
    "        # If strictly no replacement and m > num_available_rows, one might error or cap m\n",
    "        # row_indices = np.random.choice(num_available_rows, size=min(m, num_available_rows), replace=False)\n",
    "        # if m > num_available_rows:\n",
    "        #     # Handle the case where more rows are needed than available unique ones\n",
    "        #     # This might involve repeating rows or another strategy\n",
    "        #     pass\n",
    "    else:\n",
    "        # print(f\"Subsampling {m} rows from {num_available_rows} available rows.\")\n",
    "        row_indices = np.random.choice(num_available_rows, size=m, replace=False)\n",
    "\n",
    "    row_indices.sort() # Optional: for deterministic testing if seed is set\n",
    "    dictionary_A = wavelet_matrix_T_cols[row_indices, :]\n",
    "\n",
    "    return dictionary_A\n",
    "\n",
    "def embed_vector(U_np, dictionary_A):\n",
    "    \"\"\"Embeds a single binary vector U using HED.\"\"\"\n",
    "    m = dictionary_A.shape[0]\n",
    "    embedding_phi = np.zeros(m, dtype=float) # Use float for GP\n",
    "    for i in range(m):\n",
    "        embedding_phi[i] = hamming_distance(U_np, dictionary_A[i, :])\n",
    "    return embedding_phi\n",
    "\n",
    "def embed_batch(U_batch_np, dictionary_A):\n",
    "    \"\"\"Embeds a batch of binary vectors U.\"\"\"\n",
    "    # Input U_batch_np is expected to be a NumPy array\n",
    "    m = dictionary_A.shape[0]\n",
    "    if U_batch_np.ndim == 1: # Handle single vector case\n",
    "        U_batch_np = U_batch_np.reshape(1, -1)\n",
    "\n",
    "    batch_size = U_batch_np.shape[0]\n",
    "    embeddings_np = np.zeros((batch_size, m), dtype=float) # Use float for GP\n",
    "\n",
    "    for j in range(batch_size):\n",
    "        embeddings_np[j, :] = embed_vector(U_batch_np[j, :], dictionary_A)\n",
    "\n",
    "    # Return NumPy array directly\n",
    "    return embeddings_np\n"
   ]
  },
  {
   "cell_type": "markdown",
   "id": "f21630e8",
   "metadata": {},
   "source": [
    "#### 4. Experiment 1: CBO with Expected Improvement (EI)\n",
    "Applies the methodology from @deshwal_bayesian_2023 using EI.\n"
   ]
  },
  {
   "cell_type": "code",
   "execution_count": 4,
   "id": "36134b7d",
   "metadata": {},
   "outputs": [
    {
     "name": "stdout",
     "output_type": "stream",
     "text": [
      "Generating 49 initial points...\n",
      "Initial best objective value: 118.87100166955729\n",
      "\n",
      "--- Iteration 1/25 ---\n",
      "Fitting GP model...\n"
     ]
    },
    {
     "name": "stdout",
     "output_type": "stream",
     "text": [
      "GP model fitted.\n",
      "Optimizing acquisition function...\n"
     ]
    },
    {
     "name": "stdout",
     "output_type": "stream",
     "text": [
      "Selected 5 candidate(s).\n",
      "  Candidate 0: Obj = 114.9636, schedule = [2 1 1 1 1 1 1 0 1 1 1 1 0 1 1 0 2 0 1 7]\n",
      "  Candidate 1: Obj = 130.2052, schedule = [1 1 1 1 1 1 1 0 1 1 0 2 1 0 1 0 2 0 0 9]\n",
      "  Candidate 2: Obj = 10000000000.0000, schedule = [ 2  1  2  0  1  1  1  1 -1  2  0  2  1  0  1  1  0  1  0  8]\n",
      "  Candidate 3: Obj = 10000000000.0000, schedule = [ 1  1  1  1  0  1  2  1  0  1  0  2  1  0  1  0  2 -1  1  9]\n",
      "  Candidate 4: Obj = 131.1795, schedule = [1 1 2 1 0 1 1 1 0 1 0 2 0 1 1 0 2 0 0 9]\n",
      "Best objective value found so far: 114.9636\n",
      "Total points evaluated: 55\n",
      "Iteration 1 completed in 2.91 seconds.\n",
      "\n",
      "--- Iteration 2/25 ---\n",
      "Fitting GP model...\n"
     ]
    },
    {
     "name": "stdout",
     "output_type": "stream",
     "text": [
      "GP model fitted.\n",
      "Optimizing acquisition function...\n"
     ]
    },
    {
     "name": "stdout",
     "output_type": "stream",
     "text": [
      "Selected 5 candidate(s).\n",
      "  Candidate 0: Obj = 124.1641, schedule = [3 1 1 1 0 1 1 0 1 0 1 1 1 0 1 1 2 0 0 8]\n",
      "  Candidate 1: Obj = 10000000000.0000, schedule = [ 3  0  1  2  0  1  1  1 -1  1  1  1  2  0  0  1  2  0  0  8]\n",
      "  Candidate 2: Obj = 123.1027, schedule = [3 0 1 2 0 1 1 1 0 0 1 1 1 1 0 1 2 0 0 8]\n",
      "  Candidate 3: Obj = 124.6251, schedule = [3 0 2 1 0 1 0 1 0 1 1 2 1 0 0 1 2 0 0 8]\n",
      "  Candidate 4: Obj = 124.1919, schedule = [3 1 0 2 0 1 1 0 1 0 2 0 1 0 1 1 2 0 0 8]\n",
      "Best objective value found so far: 114.9636\n",
      "Total points evaluated: 60\n",
      "Iteration 2 completed in 2.75 seconds.\n",
      "\n",
      "--- Iteration 3/25 ---\n",
      "Fitting GP model...\n"
     ]
    },
    {
     "name": "stdout",
     "output_type": "stream",
     "text": [
      "GP model fitted.\n",
      "Optimizing acquisition function...\n"
     ]
    },
    {
     "name": "stdout",
     "output_type": "stream",
     "text": [
      "Selected 5 candidate(s).\n",
      "  Candidate 0: Obj = 10000000000.0000, schedule = [ 2  1  1  0  1  1  1  1 -1  2  1  0  2 -1  1  2  1 -1  2  8]\n",
      "  Candidate 1: Obj = 126.5321, schedule = [2 1 1 0 1 1 0 2 0 1 1 0 1 0 1 2 1 0 1 8]\n",
      "  Candidate 2: Obj = 122.9236, schedule = [2 1 2 0 1 1 1 0 1 0 2 1 1 0 1 0 2 0 0 8]\n",
      "  Candidate 3: Obj = 10000000000.0000, schedule = [ 3  1  1  0  0  2  1  0  1  0  1  2  1 -1  2  0  2  0  1  7]\n",
      "  Candidate 4: Obj = 10000000000.0000, schedule = [ 3  1  1  1 -1  2  1  0  0  2  0  2  1 -1  1  1  2  0  1  7]\n",
      "Best objective value found so far: 114.9636\n",
      "Total points evaluated: 65\n",
      "Iteration 3 completed in 2.41 seconds.\n",
      "\n",
      "--- Iteration 4/25 ---\n",
      "Fitting GP model...\n"
     ]
    },
    {
     "name": "stdout",
     "output_type": "stream",
     "text": [
      "GP model fitted.\n",
      "Optimizing acquisition function...\n"
     ]
    },
    {
     "name": "stdout",
     "output_type": "stream",
     "text": [
      "Selected 5 candidate(s).\n",
      "  Candidate 0: Obj = 10000000000.0000, schedule = [ 2  0  2  1 -1  2  0  1  0  2  0  2  1  0  0  1  2 -1  2  8]\n",
      "  Candidate 1: Obj = 10000000000.0000, schedule = [ 2  0  2  1  0  1  1  0  0  2  1  1  1  0  0  1  2 -1  1  9]\n",
      "  Candidate 2: Obj = 10000000000.0000, schedule = [ 2  1  0  2  0  0  1  1  1  1  1  1  1  0  0  1  2 -1  2  8]\n",
      "  Candidate 3: Obj = 10000000000.0000, schedule = [ 2  0  1  1  0  2  0  1  1  1  1  1  1  0  0  1  2 -1  2  8]\n",
      "  Candidate 4: Obj = 132.3160, schedule = [2 0 2 1 0 1 0 1 1 1 0 2 1 0 0 1 2 0 0 9]\n",
      "Best objective value found so far: 114.9636\n",
      "Total points evaluated: 70\n",
      "Iteration 4 completed in 2.65 seconds.\n",
      "\n",
      "--- Iteration 5/25 ---\n",
      "Fitting GP model...\n"
     ]
    },
    {
     "name": "stdout",
     "output_type": "stream",
     "text": [
      "GP model fitted.\n",
      "Optimizing acquisition function...\n"
     ]
    },
    {
     "name": "stdout",
     "output_type": "stream",
     "text": [
      "Selected 5 candidate(s).\n",
      "  Candidate 0: Obj = 10000000000.0000, schedule = [ 3  1  1  1 -1  2  1  1  0  1  1  1  1 -1  2  1  1  0  1  7]\n",
      "  Candidate 1: Obj = 10000000000.0000, schedule = [ 2  1  1  1  0  2  0  1  1  1  0  1  2 -1  1  1  1  1  1  7]\n",
      "  Candidate 2: Obj = 10000000000.0000, schedule = [ 2  1  0  2 -1  1  1  1  1  0  2  0  2 -1  2  0  2  0  1  8]\n",
      "  Candidate 3: Obj = 10000000000.0000, schedule = [ 3  1  1  1  0  0  2  1 -1  1  1  2  0  1  0  2  0  0  1  8]\n",
      "  Candidate 4: Obj = 10000000000.0000, schedule = [ 3  0  1  1  1  0  1  2 -1  2  1  0  1  0  1  2  1 -1  2  7]\n",
      "Best objective value found so far: 114.9636\n",
      "Total points evaluated: 75\n",
      "Iteration 5 completed in 2.52 seconds.\n",
      "\n",
      "--- Iteration 6/25 ---\n",
      "Fitting GP model...\n"
     ]
    },
    {
     "name": "stdout",
     "output_type": "stream",
     "text": [
      "GP model fitted.\n",
      "Optimizing acquisition function...\n"
     ]
    },
    {
     "name": "stdout",
     "output_type": "stream",
     "text": [
      "Selected 5 candidate(s).\n",
      "  Candidate 0: Obj = 10000000000.0000, schedule = [ 1  1  2  0  0  2  0  2 -1  2  1  1  1  0  0  1  1  1  0  9]\n",
      "  Candidate 1: Obj = 10000000000.0000, schedule = [ 2  0  2  1 -1  1  2  0  1  1  0  1  1  1  0  1  1  1  1  8]\n",
      "  Candidate 2: Obj = 10000000000.0000, schedule = [ 1  1  2  0  0  2  0  2 -1  2  1  1  1  0  1  1  0  0  1  9]\n",
      "  Candidate 3: Obj = 10000000000.0000, schedule = [ 2  2  1  1  0  1  0  1  1  1  0  1  2  0  0  2  1 -1  2  7]\n",
      "  Candidate 4: Obj = 10000000000.0000, schedule = [ 3  0  1  1  1  0  1  1  1  1  1  0  2 -1  2  0  1  1  0  8]\n",
      "Best objective value found so far: 114.9636\n",
      "Total points evaluated: 80\n",
      "Iteration 6 completed in 2.68 seconds.\n",
      "\n",
      "--- Iteration 7/25 ---\n",
      "Fitting GP model...\n"
     ]
    },
    {
     "name": "stdout",
     "output_type": "stream",
     "text": [
      "GP model fitted.\n",
      "Optimizing acquisition function...\n"
     ]
    },
    {
     "name": "stdout",
     "output_type": "stream",
     "text": [
      "Selected 5 candidate(s).\n",
      "  Candidate 0: Obj = 116.6354, schedule = [3 0 2 0 1 1 0 1 1 1 1 1 1 0 1 0 2 0 1 7]\n",
      "  Candidate 1: Obj = 116.6189, schedule = [3 1 1 1 0 1 0 1 1 1 1 0 2 0 1 1 1 0 1 7]\n",
      "  Candidate 2: Obj = 124.8705, schedule = [2 0 1 2 0 1 1 0 1 1 1 1 0 1 0 1 2 0 1 8]\n",
      "  Candidate 3: Obj = 123.0720, schedule = [3 1 1 1 0 1 0 1 1 1 1 1 1 0 1 1 1 0 0 8]\n",
      "  Candidate 4: Obj = 10000000000.0000, schedule = [ 2  0  1  1  1  1  1  1  0  1  1  1  1 -1  2  0  2 -1  2  8]\n",
      "Best objective value found so far: 114.9636\n",
      "Total points evaluated: 85\n",
      "Iteration 7 completed in 2.61 seconds.\n",
      "\n",
      "--- Iteration 8/25 ---\n",
      "Fitting GP model...\n"
     ]
    },
    {
     "name": "stdout",
     "output_type": "stream",
     "text": [
      "GP model fitted.\n",
      "Optimizing acquisition function...\n"
     ]
    },
    {
     "name": "stdout",
     "output_type": "stream",
     "text": [
      "Selected 5 candidate(s).\n",
      "  Candidate 0: Obj = 125.8226, schedule = [2 1 1 0 1 0 1 2 0 0 2 0 1 1 1 0 2 0 1 8]\n",
      "  Candidate 1: Obj = 122.2661, schedule = [2 1 1 1 1 1 0 1 0 1 2 0 1 0 2 1 1 0 0 8]\n",
      "  Candidate 2: Obj = 126.1646, schedule = [3 1 1 0 0 2 0 1 0 1 1 2 1 0 0 2 0 0 1 8]\n",
      "  Candidate 3: Obj = 10000000000.0000, schedule = [ 2  1  1  1  0  1  0  2  0  1  0  2  1 -1  2  0  1  1  0  9]\n",
      "  Candidate 4: Obj = 125.4905, schedule = [2 1 2 1 0 0 1 1 0 2 0 2 1 0 0 2 0 0 1 8]\n",
      "Best objective value found so far: 114.9636\n",
      "Total points evaluated: 90\n",
      "Iteration 8 completed in 2.83 seconds.\n",
      "\n",
      "--- Iteration 9/25 ---\n",
      "Fitting GP model...\n"
     ]
    },
    {
     "name": "stdout",
     "output_type": "stream",
     "text": [
      "GP model fitted.\n",
      "Optimizing acquisition function...\n"
     ]
    },
    {
     "name": "stdout",
     "output_type": "stream",
     "text": [
      "Selected 5 candidate(s).\n",
      "  Candidate 0: Obj = 10000000000.0000, schedule = [ 2  1  1  1  0  0  2  1 -1  2  0  1  1  0  2  0  2 -1  2  8]\n",
      "  Candidate 1: Obj = 10000000000.0000, schedule = [ 1  1  2  1  0  0  2  1 -1  2  0  1  1  0  2  0  2 -1  2  8]\n",
      "  Candidate 2: Obj = 10000000000.0000, schedule = [ 2  0  1  2  0  0  2  0  0  2  0  2  1 -1  1  2  1 -1  1  9]\n",
      "  Candidate 3: Obj = 10000000000.0000, schedule = [ 2  0  1  2  0  0  2  1 -1  1  1  2  0  0  1  2  1 -1  2  8]\n",
      "  Candidate 4: Obj = 132.6410, schedule = [2 0 2 1 0 0 2 0 1 1 0 2 0 0 1 1 1 0 2 8]\n",
      "Best objective value found so far: 114.9636\n",
      "Total points evaluated: 95\n",
      "Iteration 9 completed in 2.84 seconds.\n",
      "\n",
      "--- Iteration 10/25 ---\n",
      "Fitting GP model...\n"
     ]
    },
    {
     "name": "stdout",
     "output_type": "stream",
     "text": [
      "GP model fitted.\n",
      "Optimizing acquisition function...\n"
     ]
    },
    {
     "name": "stdout",
     "output_type": "stream",
     "text": [
      "Selected 5 candidate(s).\n",
      "  Candidate 0: Obj = 122.2296, schedule = [2 2 0 1 1 0 2 0 1 1 0 2 0 1 0 2 0 0 2 7]\n",
      "  Candidate 1: Obj = 119.2311, schedule = [3 1 0 1 1 0 2 0 0 1 1 2 1 0 0 1 1 1 1 7]\n",
      "  Candidate 2: Obj = 121.8186, schedule = [3 1 0 1 0 1 1 1 1 0 1 2 1 0 1 1 0 1 0 8]\n",
      "  Candidate 3: Obj = 130.3095, schedule = [1 2 0 1 1 1 0 1 1 0 1 2 0 1 1 0 1 0 2 8]\n",
      "  Candidate 4: Obj = 10000000000.0000, schedule = [ 3  0  1  2  0  0  1  1  1  0  1  2  1 -1  1  2  0  1  1  7]\n",
      "Best objective value found so far: 114.9636\n",
      "Total points evaluated: 100\n",
      "Iteration 10 completed in 2.78 seconds.\n",
      "\n",
      "--- Iteration 11/25 ---\n",
      "Fitting GP model...\n"
     ]
    },
    {
     "name": "stdout",
     "output_type": "stream",
     "text": [
      "GP model fitted.\n",
      "Optimizing acquisition function...\n"
     ]
    },
    {
     "name": "stdout",
     "output_type": "stream",
     "text": [
      "Selected 5 candidate(s).\n",
      "  Candidate 0: Obj = 10000000000.0000, schedule = [ 2  0  1  2  0  1  1  0  1  0  2  0  2 -1  1  1  2 -1  1  9]\n",
      "  Candidate 1: Obj = 132.3651, schedule = [2 0 1 1 1 1 1 0 0 2 0 2 0 1 0 1 2 0 0 9]\n",
      "  Candidate 2: Obj = 10000000000.0000, schedule = [ 2  0  1  1  1  1  0  1  1  1  0  2  1 -1  2  0  2 -1  1  9]\n",
      "  Candidate 3: Obj = 132.7032, schedule = [1 1 1 2 0 0 2 0 1 1 0 2 0 0 2 0 2 0 0 9]\n",
      "  Candidate 4: Obj = 133.3754, schedule = [2 0 1 2 0 1 1 0 0 2 0 2 0 0 2 0 1 1 0 9]\n",
      "Best objective value found so far: 114.9636\n",
      "Total points evaluated: 105\n",
      "Iteration 11 completed in 2.70 seconds.\n",
      "\n",
      "--- Iteration 12/25 ---\n",
      "Fitting GP model...\n"
     ]
    },
    {
     "name": "stdout",
     "output_type": "stream",
     "text": [
      "GP model fitted.\n",
      "Optimizing acquisition function...\n"
     ]
    },
    {
     "name": "stdout",
     "output_type": "stream",
     "text": [
      "Selected 5 candidate(s).\n",
      "  Candidate 0: Obj = 10000000000.0000, schedule = [ 2  1  1  1 -1  2  1  1  0  0  1  1  1  1  1  0  2 -1  1  9]\n",
      "  Candidate 1: Obj = 10000000000.0000, schedule = [ 2  1  1  0  0  2  0  2  0  0  1  2  1  0  1  0  2 -1  1  9]\n",
      "  Candidate 2: Obj = 10000000000.0000, schedule = [ 2  0  2  0  1  0  1  2 -1  1  2  1  0  1  0  2  1  0  1  8]\n",
      "  Candidate 3: Obj = 127.0694, schedule = [2 0 2 0 0 1 2 1 0 0 1 2 0 1 1 0 2 0 1 8]\n",
      "  Candidate 4: Obj = 10000000000.0000, schedule = [ 1  2  1  1  0  1  1  1  0  0  1  1  1  1  0  1  2 -1  2  8]\n",
      "Best objective value found so far: 114.9636\n",
      "Total points evaluated: 110\n",
      "Iteration 12 completed in 2.93 seconds.\n",
      "\n",
      "--- Iteration 13/25 ---\n",
      "Fitting GP model...\n"
     ]
    },
    {
     "name": "stdout",
     "output_type": "stream",
     "text": [
      "GP model fitted.\n",
      "Optimizing acquisition function...\n"
     ]
    },
    {
     "name": "stdout",
     "output_type": "stream",
     "text": [
      "Selected 5 candidate(s).\n",
      "  Candidate 0: Obj = 134.6761, schedule = [1 2 1 0 0 1 2 0 0 1 1 2 0 0 1 1 1 0 1 9]\n",
      "  Candidate 1: Obj = 134.2275, schedule = [1 1 1 2 0 0 2 0 0 2 0 1 1 0 2 0 1 0 1 9]\n",
      "  Candidate 2: Obj = 10000000000.0000, schedule = [ 2  1  2  0  0  2  1  1 -1  1  1  2  1 -1  1  1  1  0  1  8]\n",
      "  Candidate 3: Obj = 10000000000.0000, schedule = [ 1  2  0  1  0  2  0  2 -1  1  1  1  1  0  2  0  1  1  0  9]\n",
      "  Candidate 4: Obj = 10000000000.0000, schedule = [ 1  1  1  2 -1  1  2  1 -1  2  0  1  1  0  1  2  0  1  0  9]\n",
      "Best objective value found so far: 114.9636\n",
      "Total points evaluated: 115\n",
      "Iteration 13 completed in 3.68 seconds.\n",
      "\n",
      "--- Iteration 14/25 ---\n",
      "Fitting GP model...\n"
     ]
    },
    {
     "name": "stdout",
     "output_type": "stream",
     "text": [
      "GP model fitted.\n",
      "Optimizing acquisition function...\n"
     ]
    },
    {
     "name": "stdout",
     "output_type": "stream",
     "text": [
      "Selected 5 candidate(s).\n",
      "  Candidate 0: Obj = 10000000000.0000, schedule = [ 2  2  1  1  0  0  1  2 -1  1  2  1  0  0  2  0  1  0  2  7]\n",
      "  Candidate 1: Obj = 122.5544, schedule = [3 1 1 0 1 0 1 1 0 2 0 1 1 0 1 1 1 1 0 8]\n",
      "  Candidate 2: Obj = 119.2175, schedule = [2 1 2 0 1 1 1 0 0 2 1 0 1 0 1 1 2 0 1 7]\n",
      "  Candidate 3: Obj = 10000000000.0000, schedule = [ 2  1  1  2 -1  2  0  1  1  0  2  0  2 -1  2  0  1  1  0  8]\n",
      "  Candidate 4: Obj = 10000000000.0000, schedule = [ 2  2  1  0  1  0  2  0  1  1  1  0  2 -1  1  1  1  1  1  7]\n",
      "Best objective value found so far: 114.9636\n",
      "Total points evaluated: 120\n",
      "Iteration 14 completed in 3.42 seconds.\n",
      "\n",
      "--- Iteration 15/25 ---\n",
      "Fitting GP model...\n"
     ]
    },
    {
     "name": "stdout",
     "output_type": "stream",
     "text": [
      "GP model fitted.\n",
      "Optimizing acquisition function...\n"
     ]
    },
    {
     "name": "stdout",
     "output_type": "stream",
     "text": [
      "Selected 5 candidate(s).\n",
      "  Candidate 0: Obj = 10000000000.0000, schedule = [ 1  1  2  0  1  1  1  1 -1  2  1  1  0  0  2  0  2  0  0  9]\n",
      "  Candidate 1: Obj = 133.5979, schedule = [2 0 2 0 0 2 1 0 0 1 1 2 1 0 1 0 1 0 2 8]\n",
      "  Candidate 2: Obj = 10000000000.0000, schedule = [ 2  2  1  1  0  1  0  1  1  1  1  0  1  0  2  1  1 -1  2  7]\n",
      "  Candidate 3: Obj = 125.6929, schedule = [3 1 1 0 1 1 1 0 1 0 2 1 1 0 1 0 1 0 1 8]\n",
      "  Candidate 4: Obj = 10000000000.0000, schedule = [ 2  0  1  1  1  1  0  1  1  1  1  0  2 -1  2  1  0  1  1  8]\n",
      "Best objective value found so far: 114.9636\n",
      "Total points evaluated: 125\n",
      "Iteration 15 completed in 4.66 seconds.\n",
      "\n",
      "--- Iteration 16/25 ---\n",
      "Fitting GP model...\n"
     ]
    },
    {
     "name": "stdout",
     "output_type": "stream",
     "text": [
      "GP model fitted.\n",
      "Optimizing acquisition function...\n"
     ]
    },
    {
     "name": "stdout",
     "output_type": "stream",
     "text": [
      "Selected 5 candidate(s).\n",
      "  Candidate 0: Obj = 131.6450, schedule = [2 0 1 1 0 1 2 0 1 1 0 1 2 0 0 1 2 0 0 9]\n",
      "  Candidate 1: Obj = 131.8712, schedule = [2 1 0 1 0 2 0 1 1 1 0 1 2 0 0 1 2 0 0 9]\n",
      "  Candidate 2: Obj = 132.0733, schedule = [2 1 0 1 0 2 0 2 0 1 0 1 2 0 1 0 2 0 0 9]\n",
      "  Candidate 3: Obj = 130.7426, schedule = [2 0 1 1 0 1 2 0 1 1 0 1 2 0 1 1 1 0 0 9]\n",
      "  Candidate 4: Obj = 131.2668, schedule = [2 1 0 1 0 1 1 2 0 1 0 1 2 0 1 1 1 0 0 9]\n",
      "Best objective value found so far: 114.9636\n",
      "Total points evaluated: 130\n",
      "Iteration 16 completed in 3.87 seconds.\n",
      "\n",
      "--- Iteration 17/25 ---\n",
      "Fitting GP model...\n"
     ]
    },
    {
     "name": "stdout",
     "output_type": "stream",
     "text": [
      "GP model fitted.\n",
      "Optimizing acquisition function...\n"
     ]
    },
    {
     "name": "stdout",
     "output_type": "stream",
     "text": [
      "Selected 5 candidate(s).\n",
      "  Candidate 0: Obj = 10000000000.0000, schedule = [ 1  1  2  1 -1  2  1  1 -1  1  1  2  0  0  1  1  2  0  1  8]\n",
      "  Candidate 1: Obj = 10000000000.0000, schedule = [ 2  0  1  2  0  1  0  2 -1  1  1  2  0  1  0  2  1 -1  1  9]\n",
      "  Candidate 2: Obj = 126.8993, schedule = [1 1 1 1 1 1 0 1 0 2 0 2 1 0 0 2 0 1 1 8]\n",
      "  Candidate 3: Obj = 10000000000.0000, schedule = [ 2  1  1  1  1  1  1  1 -1  1  2  1  0  0  1  2  1  0  1  7]\n",
      "  Candidate 4: Obj = 10000000000.0000, schedule = [ 3  0  2  0  0  2  0  2 -1  2  0  2  1 -1  1  1  2  0  1  7]\n",
      "Best objective value found so far: 114.9636\n",
      "Total points evaluated: 135\n",
      "Iteration 17 completed in 3.84 seconds.\n",
      "\n",
      "--- Iteration 18/25 ---\n",
      "Fitting GP model...\n"
     ]
    },
    {
     "name": "stdout",
     "output_type": "stream",
     "text": [
      "GP model fitted.\n",
      "Optimizing acquisition function...\n"
     ]
    },
    {
     "name": "stdout",
     "output_type": "stream",
     "text": [
      "Selected 5 candidate(s).\n",
      "  Candidate 0: Obj = 10000000000.0000, schedule = [ 2  0  2  0  0  1  2  0  0  1  2  0  1  1  1  0  2 -1  2  8]\n",
      "  Candidate 1: Obj = 10000000000.0000, schedule = [ 3  0  2  0  0  1  2  0  0  2  1  1  0  1  0  1  2 -1  2  7]\n",
      "  Candidate 2: Obj = 10000000000.0000, schedule = [ 2  1  2  0  0  1  2  1 -1  1  2  1  0  1  1  0  2 -1  2  7]\n",
      "  Candidate 3: Obj = 10000000000.0000, schedule = [ 2  1  1  1  0  2  0  1  1  0  2  1  1  0  1  0  2 -1  2  7]\n",
      "  Candidate 4: Obj = 10000000000.0000, schedule = [ 3  0  2  0  0  1  2  1 -1  1  2  0  1  1  1  0  2 -1  2  7]\n",
      "Best objective value found so far: 114.9636\n",
      "Total points evaluated: 140\n",
      "Iteration 18 completed in 4.55 seconds.\n",
      "\n",
      "--- Iteration 19/25 ---\n",
      "Fitting GP model...\n"
     ]
    },
    {
     "name": "stdout",
     "output_type": "stream",
     "text": [
      "GP model fitted.\n",
      "Optimizing acquisition function...\n"
     ]
    },
    {
     "name": "stdout",
     "output_type": "stream",
     "text": [
      "Selected 5 candidate(s).\n",
      "  Candidate 0: Obj = 10000000000.0000, schedule = [ 3  0  2  1 -1  1  1  2 -1  2  1  0  1  0  1  1  2 -1  1  8]\n",
      "  Candidate 1: Obj = 10000000000.0000, schedule = [ 3  0  1  2  0  1  1  1  0  0  1  1  2 -1  1  1  2 -1  1  8]\n",
      "  Candidate 2: Obj = 134.0474, schedule = [1 2 0 1 0 1 2 0 0 1 2 0 1 1 1 1 0 0 1 9]\n",
      "  Candidate 3: Obj = 10000000000.0000, schedule = [ 2  1  2  0  1  0  1  2 -1  2  1  1  0  0  1  1  1  1  1  7]\n",
      "  Candidate 4: Obj = 10000000000.0000, schedule = [ 1  2  1  1 -1  2  0  1  1  0  1  2  0  1  1  1  0  1  1  8]\n",
      "Best objective value found so far: 114.9636\n",
      "Total points evaluated: 145\n",
      "Iteration 19 completed in 5.49 seconds.\n",
      "\n",
      "--- Iteration 20/25 ---\n",
      "Fitting GP model...\n"
     ]
    },
    {
     "name": "stdout",
     "output_type": "stream",
     "text": [
      "GP model fitted.\n",
      "Optimizing acquisition function...\n"
     ]
    },
    {
     "name": "stdout",
     "output_type": "stream",
     "text": [
      "Selected 5 candidate(s).\n",
      "  Candidate 0: Obj = 10000000000.0000, schedule = [ 3  1  0  1  0  1  2  0  0  1  1  2  0  1  0  1  2 -1  1  8]\n",
      "  Candidate 1: Obj = 132.0745, schedule = [1 1 2 0 0 1 2 0 0 1 1 1 2 0 0 1 1 1 0 9]\n",
      "  Candidate 2: Obj = 10000000000.0000, schedule = [ 2  1  1  2 -1  1  1  2  0  0  1  1  1  0  1  1  1  0  2  7]\n",
      "  Candidate 3: Obj = 123.1035, schedule = [2 1 2 0 0 1 1 1 0 1 2 1 0 0 1 1 1 0 1 8]\n",
      "  Candidate 4: Obj = 130.1952, schedule = [1 1 1 1 0 1 1 1 0 2 0 1 1 1 0 1 1 0 2 8]\n",
      "Best objective value found so far: 114.9636\n",
      "Total points evaluated: 150\n",
      "Iteration 20 completed in 4.79 seconds.\n",
      "\n",
      "--- Iteration 21/25 ---\n",
      "Fitting GP model...\n"
     ]
    },
    {
     "name": "stdout",
     "output_type": "stream",
     "text": [
      "GP model fitted.\n",
      "Optimizing acquisition function...\n"
     ]
    },
    {
     "name": "stdout",
     "output_type": "stream",
     "text": [
      "Selected 5 candidate(s).\n",
      "  Candidate 0: Obj = 10000000000.0000, schedule = [ 3  0  1  2 -1  2  1  0  1  0  2  1  0  0  1  2  1  0  0  8]\n",
      "  Candidate 1: Obj = 10000000000.0000, schedule = [ 2  2  0  1  0  1  2  0  1  1  0  1  2 -1  1  1  2  0  0  8]\n",
      "  Candidate 2: Obj = 10000000000.0000, schedule = [ 3  0  2  1 -1  2  0  2  0  0  1  2  1  0  1  1  1  0  1  7]\n",
      "  Candidate 3: Obj = 10000000000.0000, schedule = [ 3  0  2  1 -1  2  1  1  0  0  1  1  1  1  1  0  2  0  0  8]\n",
      "  Candidate 4: Obj = 10000000000.0000, schedule = [ 3  0  1  2 -1  1  2  0  0  2  1  0  1  1  0  1  1  0  1  8]\n",
      "Best objective value found so far: 114.9636\n",
      "Total points evaluated: 155\n",
      "Iteration 21 completed in 6.42 seconds.\n",
      "\n",
      "--- Iteration 22/25 ---\n",
      "Fitting GP model...\n"
     ]
    },
    {
     "name": "stdout",
     "output_type": "stream",
     "text": [
      "GP model fitted.\n",
      "Optimizing acquisition function...\n"
     ]
    },
    {
     "name": "stdout",
     "output_type": "stream",
     "text": [
      "Selected 5 candidate(s).\n",
      "  Candidate 0: Obj = 10000000000.0000, schedule = [ 2  1  2  0  0  1  2  0  0  1  1  2  0  1  0  1  2 -1  2  7]\n",
      "  Candidate 1: Obj = 10000000000.0000, schedule = [ 2  0  1  1  0  1  2  1 -1  2  1  1  0  0  1  1  1  1  0  9]\n",
      "  Candidate 2: Obj = 10000000000.0000, schedule = [ 1  2  1  1  0  0  2  1 -1  2  1  0  2  0  1  0  1  0  2  8]\n",
      "  Candidate 3: Obj = 10000000000.0000, schedule = [ 3  0  2  1 -1  2  1  0  1  1  1  0  2  0  1  1  0  1  0  8]\n",
      "  Candidate 4: Obj = 10000000000.0000, schedule = [ 3  1  1  1  0  1  1  0  0  1  2  0  2 -1  2  1  1  0  1  7]\n",
      "Best objective value found so far: 114.9636\n",
      "Total points evaluated: 160\n",
      "Iteration 22 completed in 4.67 seconds.\n",
      "\n",
      "--- Iteration 23/25 ---\n",
      "Fitting GP model...\n"
     ]
    },
    {
     "name": "stdout",
     "output_type": "stream",
     "text": [
      "GP model fitted.\n",
      "Optimizing acquisition function...\n"
     ]
    },
    {
     "name": "stdout",
     "output_type": "stream",
     "text": [
      "Selected 5 candidate(s).\n",
      "  Candidate 0: Obj = 10000000000.0000, schedule = [ 1  2  0  2  0  1  0  2 -1  2  0  2  1  0  1  0  2  0  1  8]\n",
      "  Candidate 1: Obj = 126.1819, schedule = [2 1 0 2 0 1 0 2 0 0 2 1 0 1 1 0 2 0 1 8]\n",
      "  Candidate 2: Obj = 131.9391, schedule = [2 1 0 2 0 1 0 2 0 1 0 2 1 0 1 0 2 0 0 9]\n",
      "  Candidate 3: Obj = 10000000000.0000, schedule = [ 2  1  0  2  0  1  0  2 -1  2  0  2  1  0  1  0  2  0  1  8]\n",
      "  Candidate 4: Obj = 10000000000.0000, schedule = [ 2  1  0  2 -1  2  0  2  0  0  2  1  0  1  1  0  2  0  1  8]\n",
      "Best objective value found so far: 114.9636\n",
      "Total points evaluated: 165\n",
      "Iteration 23 completed in 4.24 seconds.\n",
      "\n",
      "--- Iteration 24/25 ---\n",
      "Fitting GP model...\n"
     ]
    },
    {
     "name": "stdout",
     "output_type": "stream",
     "text": [
      "GP model fitted.\n",
      "Optimizing acquisition function...\n"
     ]
    },
    {
     "name": "stdout",
     "output_type": "stream",
     "text": [
      "Selected 5 candidate(s).\n",
      "  Candidate 0: Obj = 10000000000.0000, schedule = [ 1  2  0  1  1  0  1  2 -1  2  0  2  0  0  1  1  2 -1  2  8]\n",
      "  Candidate 1: Obj = 10000000000.0000, schedule = [ 1  2  0  1  1  0  2  0  0  2  0  2  1  0  0  1  2 -1  2  8]\n",
      "  Candidate 2: Obj = 10000000000.0000, schedule = [ 2  1  0  1  1  0  2  0  1  1  0  2  0  0  1  1  2 -1  2  8]\n",
      "  Candidate 3: Obj = 132.0435, schedule = [1 2 0 1 0 1 1 1 0 2 0 2 0 0 1 1 1 0 2 8]\n",
      "  Candidate 4: Obj = 128.0151, schedule = [1 2 0 1 0 1 2 0 0 1 1 2 0 0 1 1 1 1 1 8]\n",
      "Best objective value found so far: 114.9636\n",
      "Total points evaluated: 170\n",
      "Iteration 24 completed in 3.59 seconds.\n",
      "\n",
      "--- Iteration 25/25 ---\n",
      "Fitting GP model...\n"
     ]
    },
    {
     "name": "stdout",
     "output_type": "stream",
     "text": [
      "GP model fitted.\n",
      "Optimizing acquisition function...\n"
     ]
    },
    {
     "name": "stdout",
     "output_type": "stream",
     "text": [
      "Selected 5 candidate(s).\n",
      "  Candidate 0: Obj = 10000000000.0000, schedule = [ 2  0  1  1  0  2  1  0  1  1  1  1  1 -1  1  2  1 -1  2  8]\n",
      "  Candidate 1: Obj = 10000000000.0000, schedule = [ 2  1  0  1  0  2  0  2 -1  2  1  0  2  0  0  2  1 -1  2  8]\n",
      "  Candidate 2: Obj = 10000000000.0000, schedule = [ 1  1  1  2 -1  2  1  0  0  2  1  0  2  0  1  1  1 -1  2  8]\n",
      "  Candidate 3: Obj = 126.7964, schedule = [2 1 0 1 1 1 0 1 0 2 0 1 2 0 0 2 1 0 1 8]\n",
      "  Candidate 4: Obj = 10000000000.0000, schedule = [ 2  0  1  2 -1  2  0  2 -1  2  0  1  2  0  0  2  1  0  1  8]\n",
      "Best objective value found so far: 114.9636\n",
      "Total points evaluated: 175\n",
      "Iteration 25 completed in 4.78 seconds.\n",
      "\n",
      "--- Optimization Finished ---\n",
      "Total evaluations: 175\n",
      "Best Objective Value Found: 114.96364292044709\n",
      "Best U vector Found: [0 0 0 0 0 1 1 1 0 1 1 1 1 0 1 1 0 1 1 1]\n",
      "\n",
      "--- Verification ---\n",
      "Is the best U feasible? True\n",
      "Resulting Y vector for best U: [2 1 1 1 1 1 1 0 1 1 1 1 0 1 1 0 2 0 1 7]\n",
      "Objective value (recalculated): 114.9636\n"
     ]
    }
   ],
   "source": [
    "# --- BO Helper Functions ---\n",
    "\n",
    "def get_fitted_model(train_X_embedded_scaled, train_Y, m):\n",
    "    \"\"\"\n",
    "    Fits a GaussianProcessRegressor model to the SCALED embedded data.\n",
    "    Assumes train_Y contains negative objective values for maximization.\n",
    "    \"\"\"\n",
    "    if train_Y.ndim > 1 and train_Y.shape[1] == 1:\n",
    "        train_Y = train_Y.ravel() # sklearn GP expects 1D target array\n",
    "\n",
    "    # Define the kernel for the Gaussian Process\n",
    "    # Matern kernel is a common choice, nu=2.5 is smooth (twice differentiable)\n",
    "    # ConstantKernel handles the overall variance scaling\n",
    "    # WhiteKernel handles the observation noise\n",
    "    kernel = ConstantKernel(1.0, constant_value_bounds=(1e-3, 1e3)) * \\\n",
    "             Matern(length_scale=np.ones(m), # Enable ARD, initialize length scales to 1\n",
    "                    length_scale_bounds=(1e-2, 1e2),\n",
    "                    nu=2.5) + \\\n",
    "             WhiteKernel(noise_level=1e-10, # Small value for numerical stability\n",
    "                         noise_level_bounds=\"fixed\") # Bounds for noise optimization\n",
    "\n",
    "    # Instantiate the Gaussian Process Regressor\n",
    "    # alpha: Value added to the diagonal of the kernel matrix during fitting\n",
    "    #        for numerical stability (can also be seen as additional noise)\n",
    "    # n_restarts_optimizer: Restarts optimizer to find better hyperparameters\n",
    "    gp_model = GaussianProcessRegressor(\n",
    "        kernel=kernel,\n",
    "        alpha=1e-10, # Small value for numerical stability\n",
    "        n_restarts_optimizer=10, # More restarts -> better hyperparams but slower\n",
    "        random_state=42 # For reproducibility of optimizer restarts\n",
    "    )\n",
    "\n",
    "    # Fit the GP model\n",
    "    gp_model.fit(train_X_embedded_scaled, train_Y)\n",
    "    return gp_model\n",
    "\n",
    "def expected_improvement(mu, sigma, f_best, xi=0.01):\n",
    "    \"\"\"\n",
    "    Computes the Expected Improvement acquisition function.\n",
    "    Assumes maximization (f_best is the current maximum observed value).\n",
    "    mu, sigma: Predicted mean and standard deviation (NumPy arrays).\n",
    "    f_best: Current best observed function value (scalar).\n",
    "    xi: Exploration-exploitation trade-off parameter.\n",
    "    \"\"\"\n",
    "    # Ensure sigma is positive and non-zero to avoid division errors\n",
    "    sigma = np.maximum(sigma, 1e-9)\n",
    "    Z = (mu - f_best - xi) / sigma\n",
    "\n",
    "    ei = (mu - f_best - xi) * norm.cdf(Z) + sigma * norm.pdf(Z)\n",
    "\n",
    "    # Set EI to 0 where variance is negligible\n",
    "    ei[sigma <= 1e-9] = 0.0\n",
    "    return ei\n",
    "\n",
    "# MODIFIED: Accepts the scaler and uses scikit-learn GP + EI\n",
    "def optimize_acqf_discrete_via_embedding(gp_model, scaler, dictionary_A, T, q, num_candidates, current_best_neg_f_val):\n",
    "    \"\"\"\n",
    "    Optimizes acquisition function (Expected Improvement) by sampling random\n",
    "    binary candidates, embedding, SCALING, predicting with GP, and calculating EI.\n",
    "    Selects the top q candidates based on EI.\n",
    "    Returns candidates as a numpy array (q x T).\n",
    "    \"\"\"\n",
    "    m = dictionary_A.shape[0]\n",
    "\n",
    "    # 1. Generate Random Binary Candidates\n",
    "    candidate_u_vectors_np = np.random.randint(0, 2, size=(num_candidates, T))\n",
    "    # Optional: Ensure unique candidates if needed (adds overhead)\n",
    "    # candidate_u_vectors_np = np.unique(candidate_u_vectors_np, axis=0)\n",
    "    # num_candidates = candidate_u_vectors_np.shape[0] # Update count\n",
    "\n",
    "    # 2. Embed the Candidates\n",
    "    embedded_candidates_np = embed_batch(candidate_u_vectors_np, dictionary_A)\n",
    "\n",
    "    # 3. Scale the Embedded Candidates\n",
    "    # Handle potential warning if scaler expects float64 (already float here)\n",
    "    # Use the *fitted* scaler from the training data\n",
    "    embedded_candidates_scaled_np = scaler.transform(embedded_candidates_np)\n",
    "\n",
    "    # 4. Predict Mean and Std Dev using the GP Model\n",
    "    mu, std = gp_model.predict(embedded_candidates_scaled_np, return_std=True)\n",
    "\n",
    "    # 5. Calculate Acquisition Function (Expected Improvement)\n",
    "    # current_best_neg_f_val is the maximum of the (negative) objectives seen so far\n",
    "    acq_values = expected_improvement(mu, std, current_best_neg_f_val, xi=0.01)\n",
    "\n",
    "    # 6. Select Top Candidates\n",
    "    # Use np.argsort to find indices that would sort the array (ascending)\n",
    "    # Select the last q indices for the highest EI values\n",
    "    # If q=1, np.argmax(acq_values) is simpler but argsort works generally\n",
    "    top_indices = np.argsort(acq_values)[-q:]\n",
    "\n",
    "    # Ensure indices are returned in descending order of acquisition value (optional but nice)\n",
    "    top_indices = top_indices[::-1]\n",
    "\n",
    "    return candidate_u_vectors_np[top_indices, :]\n",
    "# --- BO Loop ---\n",
    "\n",
    "# Parameters\n",
    "N_INITIAL = 49\n",
    "N_ITERATIONS = 25\n",
    "BATCH_SIZE_q = 5\n",
    "NUM_CANDIDATES_Acqf = T*3*1024 # Might need more for higher T\n",
    "m = math.ceil(T/4) # Dimension of the embedding space\n",
    "\n",
    "# Store evaluated points (using NumPy arrays)\n",
    "evaluated_U_np_list = [] # List to store evaluated U vectors (binary)\n",
    "evaluated_f_vals = []    # List to store raw objective values (lower is better)\n",
    "train_Y_list = []        # List to store NEGATED objective values for GP (higher is better)\n",
    "\n",
    "# 1. Initialization\n",
    "print(f\"Generating {N_INITIAL} initial points...\")\n",
    "initial_candidates = [np.zeros(T, dtype=int)]\n",
    "while len(initial_candidates) < N_INITIAL + 1: # +1 for the zero vector = initial X\n",
    "    U_init = np.random.randint(0, 2, size=T)\n",
    "    # Ensure unique initial points\n",
    "    is_duplicate = any(np.array_equal(U_init, u) for u in initial_candidates)\n",
    "    if not is_duplicate:\n",
    "        initial_candidates.append(U_init)\n",
    "\n",
    "for U_init in initial_candidates:\n",
    "    f_val = evaluate_objective(U_init, X, v_star, convolutions, d, w)\n",
    "    neg_f_val = -f_val\n",
    "\n",
    "    evaluated_U_np_list.append(U_init)\n",
    "    evaluated_f_vals.append(f_val)\n",
    "    train_Y_list.append(neg_f_val)\n",
    "\n",
    "# Convert lists to NumPy arrays for GP fitting\n",
    "train_Y = np.array(train_Y_list).reshape(-1, 1) # Keep as column vector initially\n",
    "\n",
    "best_obj_so_far = min(evaluated_f_vals) if evaluated_f_vals else float('inf')\n",
    "initial_best_obj_so_far_ei = best_obj_so_far\n",
    "print(f\"Initial best objective value: {best_obj_so_far}\")\n",
    "if not np.isfinite(best_obj_so_far):\n",
    "     print(\"Warning: Initial best objective is infinite, possibly all initial points were infeasible.\")\n",
    "\n",
    "\n",
    "# 2. BO Iterations\n",
    "for iteration in range(N_ITERATIONS):\n",
    "    start_time = time.time()\n",
    "    print(f\"\\n--- Iteration {iteration + 1}/{N_ITERATIONS} ---\")\n",
    "\n",
    "    # a. Generate dictionary A for HED\n",
    "    current_dictionary_A = generate_diverse_random_dictionary(T, m)\n",
    "\n",
    "    # b. Embed ALL evaluated U vectors so far\n",
    "    if not evaluated_U_np_list:\n",
    "        print(\"Warning: No points evaluated yet. Skipping iteration.\")\n",
    "        continue\n",
    "    evaluated_U_np_array = np.array(evaluated_U_np_list)\n",
    "    embedded_train_X = embed_batch(evaluated_U_np_array, current_dictionary_A)\n",
    "\n",
    "    # c. Scale the embedded training data\n",
    "    scaler = MinMaxScaler()\n",
    "    # Fit scaler only if there's data\n",
    "    if embedded_train_X.shape[0] > 0:\n",
    "        # Fit and transform\n",
    "        embedded_train_X_scaled = scaler.fit_transform(embedded_train_X)\n",
    "    else:\n",
    "        # Handle case with no data (shouldn't happen after init)\n",
    "        embedded_train_X_scaled = embedded_train_X # Will be empty\n",
    "\n",
    "    # Ensure train_Y is a NumPy array for fitting\n",
    "    train_Y_for_fit = np.array(train_Y_list) # Use the list directly\n",
    "\n",
    "    # d. Fit GP Model using SCALED data\n",
    "    print(\"Fitting GP model...\")\n",
    "    if embedded_train_X_scaled.shape[0] > 0 and train_Y_for_fit.shape[0] == embedded_train_X_scaled.shape[0]:\n",
    "        gp_model = get_fitted_model(embedded_train_X_scaled, train_Y_for_fit, m)\n",
    "        print(\"GP model fitted.\")\n",
    "    else:\n",
    "         print(\"Warning: Not enough data or data mismatch to fit GP model. Skipping iteration.\")\n",
    "         continue # Skip if no data or mismatch\n",
    "\n",
    "    # e. Determine current best value for Acquisition Function\n",
    "    # We are maximizing the negative objective in the GP\n",
    "    current_best_neg_f_val = np.max(train_Y_for_fit) if train_Y_for_fit.size > 0 else -float('inf')\n",
    "\n",
    "    # Prevent potential issues if all points were infeasible (very large negative best_f)\n",
    "    if current_best_neg_f_val <= -LARGE_PENALTY / 2 and np.isfinite(current_best_neg_f_val):\n",
    "         print(f\"Warning: Current best value ({current_best_neg_f_val:.2f}) is very low (likely from penalties). Acqf might behave unexpectedly.\")\n",
    "\n",
    "\n",
    "    # f. Optimize Acquisition Function (Expected Improvement)\n",
    "    print(\"Optimizing acquisition function...\")\n",
    "    next_U_candidates_np = optimize_acqf_discrete_via_embedding(\n",
    "        gp_model=gp_model,\n",
    "        scaler=scaler, # Pass the fitted scaler\n",
    "        dictionary_A=current_dictionary_A,\n",
    "        T=T,\n",
    "        q=BATCH_SIZE_q,\n",
    "        num_candidates=NUM_CANDIDATES_Acqf,\n",
    "        current_best_neg_f_val=current_best_neg_f_val\n",
    "    )\n",
    "    print(f\"Selected {next_U_candidates_np.shape[0]} candidate(s).\")\n",
    "\n",
    "    # g. Evaluate Objective for the selected candidate(s)\n",
    "    newly_evaluated_U = []\n",
    "    newly_evaluated_f = []\n",
    "    newly_evaluated_neg_f = []\n",
    "\n",
    "    for i in range(next_U_candidates_np.shape[0]):\n",
    "        next_U = next_U_candidates_np[i, :]\n",
    "\n",
    "        # Check if this candidate was already evaluated\n",
    "        # Use a tolerance for floating point comparisons if U were continuous\n",
    "        # For binary, exact comparison is fine\n",
    "        already_evaluated = any(np.array_equal(next_U, u) for u in evaluated_U_np_list)\n",
    "\n",
    "        if already_evaluated:\n",
    "            print(f\"  Candidate {i} was already evaluated. Skipping re-evaluation.\")\n",
    "            # TODO: Optionally, could try to generate a *different* candidate here\n",
    "            #       e.g., by running optimize_acqf again excluding this one,\n",
    "            #       or sampling randomly near it. For now, just skip.\n",
    "            continue # Skip to next candidate\n",
    "\n",
    "        # Evaluate the objective\n",
    "        next_f = evaluate_objective(next_U, X, v_star, convolutions, d, w)\n",
    "        next_neg_f = -next_f\n",
    "        V_sum = np.sum(v_star[next_U == 1, :], axis=0)\n",
    "        Y = X + V_sum\n",
    "        print(f\"  Candidate {i}: Obj = {next_f:.4f}, schedule = {Y}\")\n",
    "        # Add to temporary lists for this iteration\n",
    "        newly_evaluated_U.append(next_U)\n",
    "        newly_evaluated_f.append(next_f)\n",
    "        newly_evaluated_neg_f.append(next_neg_f)\n",
    "\n",
    "        # Update overall best objective found\n",
    "        if next_f < best_obj_so_far:\n",
    "            best_obj_so_far = next_f\n",
    "\n",
    "    # h. Augment Dataset for next iteration\n",
    "    evaluated_U_np_list.extend(newly_evaluated_U)\n",
    "    evaluated_f_vals.extend(newly_evaluated_f)\n",
    "    train_Y_list.extend(newly_evaluated_neg_f) # Add negative values for next GP fit\n",
    "\n",
    "    # Convert train_Y_list back to array for potential use (though we rebuild it next iter)\n",
    "    train_Y = np.array(train_Y_list).reshape(-1, 1)\n",
    "\n",
    "    iter_time = time.time() - start_time\n",
    "    print(f\"Best objective value found so far: {best_obj_so_far:.4f}\")\n",
    "    print(f\"Total points evaluated: {len(evaluated_f_vals)}\")\n",
    "    print(f\"Iteration {iteration + 1} completed in {iter_time:.2f} seconds.\")\n",
    "\n",
    "\n",
    "# --- Results ---\n",
    "print(\"\\n--- Optimization Finished ---\")\n",
    "if not evaluated_f_vals:\n",
    "    print(\"No points were successfully evaluated.\")\n",
    "else:\n",
    "    # Find the best point among all evaluated points\n",
    "    final_best_idx_ei = np.argmin(evaluated_f_vals) # Index of minimum raw objective\n",
    "    final_best_U_ei = evaluated_U_np_list[final_best_idx_ei]\n",
    "    final_best_f_ei = evaluated_f_vals[final_best_idx_ei]\n",
    "    nr_evaluated_f_vals_ei = len(evaluated_f_vals) # Saved for reporting results\n",
    "    print(f\"Total evaluations: {len(evaluated_f_vals)}\") \n",
    "    print(f\"Best Objective Value Found: {final_best_f_ei}\")\n",
    "    # Ensure U is printed correctly if it's long\n",
    "    print(f\"Best U vector Found: {final_best_U_ei}\")\n",
    "    # print(f\"Best U vector Found (Indices of 1s): {np.where(final_best_U_ei == 1)[0]}\")\n",
    "\n",
    "\n",
    "    # Verification - Recalculate Y for the best U found\n",
    "    V_sum_best = np.sum(v_star[final_best_U_ei == 1, :], axis=0)\n",
    "    Y_best_ei = X + V_sum_best\n",
    "    is_feasible = np.all(Y_best_ei >= 0)\n",
    "    if is_feasible:\n",
    "        ewt, esp = calculate_objective_serv_time_lookup(Y_best_ei, d, convolutions)\n",
    "        recalculated_obj = w * ewt + (1 - w) * esp\n",
    "        \n",
    "    else:\n",
    "        LARGE_PENALTY\n",
    "\n",
    "    print(f\"\\n--- Verification ---\")\n",
    "    print(f\"Is the best U feasible? {is_feasible}\")\n",
    "    if is_feasible:\n",
    "        print(f\"Resulting Y vector for best U: {Y_best_ei}\")\n",
    "        print(f\"Objective value (recalculated): {recalculated_obj:.4f}\")\n",
    "        if not np.isclose(final_best_f_ei, recalculated_obj):\n",
    "             print(f\"Warning: Stored best objective ({final_best_f_ei}) does not match recalculation ({recalculated_obj})!\")\n",
    "    elif final_best_f < LARGE_PENALTY:\n",
    "         print(f\"Warning: Best objective ({final_best_f_ei}) is not the penalty value, but feasibility check failed.\")\n",
    "         print(f\"Resulting Y vector (infeasible): {Y_best_ei}\")\n",
    "    else:\n",
    "         print(\"Best solution found corresponds to an infeasible penalty value.\")"
   ]
  },
  {
   "cell_type": "markdown",
   "id": "b764cce2",
   "metadata": {},
   "source": [
    "#### 5. Experiment 2: CBO with Lower Confidence Bound (LCB) - Fixed Kappa\n",
    "Applies the methodology from @deshwal_bayesian_2023 using LCB with fixed $\\kappa$.\n"
   ]
  },
  {
   "cell_type": "code",
   "execution_count": 5,
   "id": "8822f3f6",
   "metadata": {},
   "outputs": [
    {
     "name": "stdout",
     "output_type": "stream",
     "text": [
      "Initial best objective value: 118.87100166955729\n",
      "\n",
      "--- Iteration 1/25 ---\n",
      "Fitting GP model...\n"
     ]
    },
    {
     "name": "stdout",
     "output_type": "stream",
     "text": [
      "GP model fitted.\n",
      "Optimizing acquisition function (LCB)...\n"
     ]
    },
    {
     "name": "stdout",
     "output_type": "stream",
     "text": [
      "Selected 5 candidate(s).\n",
      "  Candidate 0: Obj = 10000000000.0000, schedule = [ 2  0  1  1  1  1  1  0  0  2  1  1  0  1  0  1  2 -1  1  9]\n",
      "  Candidate 1: Obj = 10000000000.0000, schedule = [ 2  1  0  2  0  1  0  2 -1  1  1  2  0  0  1  1  1  1  1  8]\n",
      "  Candidate 2: Obj = 133.2394, schedule = [1 2 0 2 0 1 1 0 0 2 1 0 1 0 2 0 1 1 0 9]\n",
      "  Candidate 3: Obj = 134.0944, schedule = [2 1 1 0 0 2 0 1 0 2 0 2 0 0 2 1 0 1 0 9]\n",
      "  Candidate 4: Obj = 135.2522, schedule = [2 1 1 1 0 1 1 0 0 1 2 1 0 0 1 1 1 0 1 9]\n",
      "Best objective value found so far: 118.8710\n",
      "Total points evaluated: 55\n",
      "Iteration 1 completed in 4.63 seconds.\n",
      "\n",
      "--- Iteration 2/25 ---\n",
      "Fitting GP model...\n"
     ]
    },
    {
     "name": "stdout",
     "output_type": "stream",
     "text": [
      "GP model fitted.\n",
      "Optimizing acquisition function (LCB)...\n"
     ]
    },
    {
     "name": "stdout",
     "output_type": "stream",
     "text": [
      "Selected 5 candidate(s).\n",
      "  Candidate 0: Obj = 129.3169, schedule = [1 2 1 1 0 0 1 1 0 2 1 1 0 0 1 2 1 0 1 8]\n",
      "  Candidate 1: Obj = 10000000000.0000, schedule = [ 3  1  0  2  0  0  1  1  0  2  1  1  1 -1  1  2  1  0  1  7]\n",
      "  Candidate 2: Obj = 10000000000.0000, schedule = [ 1  1  1  2 -1  2  0  2 -1  2  1  1  1  0  0  1  2  0  1  8]\n",
      "  Candidate 3: Obj = 10000000000.0000, schedule = [ 2  2  0  2  0  0  1  2 -1  2  1  1  1 -1  1  2  1  0  1  7]\n",
      "  Candidate 4: Obj = 10000000000.0000, schedule = [ 3  1  0  2  0  0  1  2 -1  2  1  1  1 -1  1  1  2  0  1  7]\n",
      "Best objective value found so far: 118.8710\n",
      "Total points evaluated: 60\n",
      "Iteration 2 completed in 4.04 seconds.\n",
      "\n",
      "--- Iteration 3/25 ---\n",
      "Fitting GP model...\n"
     ]
    },
    {
     "name": "stdout",
     "output_type": "stream",
     "text": [
      "GP model fitted.\n",
      "Optimizing acquisition function (LCB)...\n"
     ]
    },
    {
     "name": "stdout",
     "output_type": "stream",
     "text": [
      "Selected 5 candidate(s).\n",
      "  Candidate 0: Obj = 10000000000.0000, schedule = [ 2  0  2  1  0  0  2  1 -1  2  0  1  1  1  0  2  0  1  0  9]\n",
      "  Candidate 1: Obj = 10000000000.0000, schedule = [ 3  1  1  1 -1  2  0  2 -1  2  1  1  1  0  1  1  0  1  0  8]\n",
      "  Candidate 2: Obj = 10000000000.0000, schedule = [ 2  0  2  1 -1  2  1  0  1  1  1  1  0  1  1  1  0  1  0  9]\n",
      "  Candidate 3: Obj = 10000000000.0000, schedule = [ 3  0  1  1  0  1  1  1  0  2  0  1  2 -1  2  0  2  0  1  7]\n",
      "  Candidate 4: Obj = 117.6316, schedule = [2 1 1 1 0 1 2 0 0 1 2 0 1 0 1 2 1 0 1 7]\n",
      "Best objective value found so far: 117.6316\n",
      "Total points evaluated: 65\n",
      "Iteration 3 completed in 4.27 seconds.\n",
      "\n",
      "--- Iteration 4/25 ---\n",
      "Fitting GP model...\n"
     ]
    },
    {
     "name": "stdout",
     "output_type": "stream",
     "text": [
      "GP model fitted.\n",
      "Optimizing acquisition function (LCB)...\n"
     ]
    },
    {
     "name": "stdout",
     "output_type": "stream",
     "text": [
      "Selected 5 candidate(s).\n",
      "  Candidate 0: Obj = 10000000000.0000, schedule = [ 3  0  1  2 -1  2  1  0  1  0  2  1  1  0  1  0  2  0  0  8]\n",
      "  Candidate 1: Obj = 10000000000.0000, schedule = [ 3  0  1  2 -1  2  1  0  1  0  2  1  0  1  1  1  1  0  0  8]\n",
      "  Candidate 2: Obj = 117.4455, schedule = [2 1 1 2 0 1 1 0 1 0 2 0 2 0 1 0 2 0 1 7]\n",
      "  Candidate 3: Obj = 118.6866, schedule = [3 0 1 2 0 1 1 0 1 0 2 1 0 1 0 2 0 1 1 7]\n",
      "  Candidate 4: Obj = 115.6020, schedule = [2 1 2 0 1 1 0 1 1 0 2 0 2 0 1 1 1 0 1 7]\n",
      "Best objective value found so far: 115.6020\n",
      "Total points evaluated: 70\n",
      "Iteration 4 completed in 4.70 seconds.\n",
      "\n",
      "--- Iteration 5/25 ---\n",
      "Fitting GP model...\n"
     ]
    },
    {
     "name": "stdout",
     "output_type": "stream",
     "text": [
      "GP model fitted.\n",
      "Optimizing acquisition function (LCB)...\n"
     ]
    },
    {
     "name": "stdout",
     "output_type": "stream",
     "text": [
      "Selected 5 candidate(s).\n",
      "  Candidate 0: Obj = 10000000000.0000, schedule = [ 3  0  2  1  0  0  2  1 -1  1  1  2  1  0  1  0  2  0  1  7]\n",
      "  Candidate 1: Obj = 120.3275, schedule = [3 1 1 1 0 1 1 1 0 0 1 1 1 0 2 1 0 1 1 7]\n",
      "  Candidate 2: Obj = 10000000000.0000, schedule = [ 3  1  1  0  1  1  1  1 -1  2  0  2  1 -1  2  1  0  1  0  8]\n",
      "  Candidate 3: Obj = 10000000000.0000, schedule = [ 2  1  0  2  0  0  2  1 -1  2  1  1  1 -1  2  0  1  0  2  8]\n",
      "  Candidate 4: Obj = 10000000000.0000, schedule = [ 1  1  2  1  0  1  1  0  0  2  0  2  1 -1  2  0  2  0  1  8]\n",
      "Best objective value found so far: 115.6020\n",
      "Total points evaluated: 75\n",
      "Iteration 5 completed in 3.88 seconds.\n",
      "\n",
      "--- Iteration 6/25 ---\n",
      "Fitting GP model...\n"
     ]
    },
    {
     "name": "stdout",
     "output_type": "stream",
     "text": [
      "GP model fitted.\n",
      "Optimizing acquisition function (LCB)...\n"
     ]
    },
    {
     "name": "stdout",
     "output_type": "stream",
     "text": [
      "Selected 5 candidate(s).\n",
      "  Candidate 0: Obj = 10000000000.0000, schedule = [ 1  2  1  1 -1  2  1  0  1  0  1  1  1  0  1  2  1  0  1  8]\n",
      "  Candidate 1: Obj = 128.5334, schedule = [2 1 1 0 0 1 2 1 0 0 1 1 1 0 1 2 1 0 1 8]\n",
      "  Candidate 2: Obj = 127.5458, schedule = [2 0 2 0 0 2 1 0 1 1 0 1 1 0 1 2 1 0 1 8]\n",
      "  Candidate 3: Obj = 10000000000.0000, schedule = [ 2  0  2  1 -1  1  2  0  1  1  1  0  2 -1  1  2  1  0  1  8]\n",
      "  Candidate 4: Obj = 10000000000.0000, schedule = [ 2  1  1  1 -1  2  1  0  1  1  0  1  1  0  1  2  1 -1  1  9]\n",
      "Best objective value found so far: 115.6020\n",
      "Total points evaluated: 80\n",
      "Iteration 6 completed in 3.95 seconds.\n",
      "\n",
      "--- Iteration 7/25 ---\n",
      "Fitting GP model...\n"
     ]
    },
    {
     "name": "stdout",
     "output_type": "stream",
     "text": [
      "GP model fitted.\n",
      "Optimizing acquisition function (LCB)...\n"
     ]
    },
    {
     "name": "stdout",
     "output_type": "stream",
     "text": [
      "Selected 5 candidate(s).\n",
      "  Candidate 0: Obj = 10000000000.0000, schedule = [ 1  2  1  0  1  1  1  0  1  1  0  1  2 -1  2  0  1  1  1  8]\n",
      "  Candidate 1: Obj = 10000000000.0000, schedule = [ 1  1  2  0  1  1  0  2 -1  2  0  1  2  0  0  2  1  0  1  8]\n",
      "  Candidate 2: Obj = 10000000000.0000, schedule = [ 2  0  2  0  0  2  1  1 -1  2  0  1  2 -1  1  2  1  0  1  8]\n",
      "  Candidate 3: Obj = 125.7593, schedule = [2 0 2 0 0 2 0 1 1 1 0 1 2 0 1 0 2 0 1 8]\n",
      "  Candidate 4: Obj = 10000000000.0000, schedule = [ 2  0  1  2 -1  2  0  2  0  1  0  1  2 -1  1  2  1  0  1  8]\n",
      "Best objective value found so far: 115.6020\n",
      "Total points evaluated: 85\n",
      "Iteration 7 completed in 4.11 seconds.\n",
      "\n",
      "--- Iteration 8/25 ---\n",
      "Fitting GP model...\n"
     ]
    },
    {
     "name": "stdout",
     "output_type": "stream",
     "text": [
      "GP model fitted.\n",
      "Optimizing acquisition function (LCB)...\n"
     ]
    },
    {
     "name": "stdout",
     "output_type": "stream",
     "text": [
      "Selected 5 candidate(s).\n",
      "  Candidate 0: Obj = 123.2298, schedule = [2 1 2 0 1 0 2 0 1 0 1 1 2 0 0 1 1 0 1 8]\n",
      "  Candidate 1: Obj = 10000000000.0000, schedule = [ 2  1  2  0  1  0  2  0  1  0  2  0  2 -1  1  1  1  0  1  8]\n",
      "  Candidate 2: Obj = 123.1074, schedule = [2 1 2 0 0 1 2 0 1 1 0 1 2 0 0 1 1 0 1 8]\n",
      "  Candidate 3: Obj = 10000000000.0000, schedule = [ 2  2  1  0  0  1  2  0  1  0  1  2  1 -1  1  1  1  0  1  8]\n",
      "  Candidate 4: Obj = 124.3234, schedule = [2 1 2 0 0 2 1 0 1 0 2 1 0 0 1 1 1 0 1 8]\n",
      "Best objective value found so far: 115.6020\n",
      "Total points evaluated: 90\n",
      "Iteration 8 completed in 3.96 seconds.\n",
      "\n",
      "--- Iteration 9/25 ---\n",
      "Fitting GP model...\n"
     ]
    },
    {
     "name": "stdout",
     "output_type": "stream",
     "text": [
      "GP model fitted.\n",
      "Optimizing acquisition function (LCB)...\n"
     ]
    },
    {
     "name": "stdout",
     "output_type": "stream",
     "text": [
      "Selected 5 candidate(s).\n",
      "  Candidate 0: Obj = 130.8021, schedule = [1 2 0 2 0 1 1 1 0 1 1 1 1 0 0 1 1 1 0 9]\n",
      "  Candidate 1: Obj = 130.5450, schedule = [2 1 0 2 0 1 1 1 0 1 0 1 2 0 1 0 1 1 0 9]\n",
      "  Candidate 2: Obj = 124.2772, schedule = [2 1 0 2 0 1 1 1 0 1 0 1 1 1 1 0 1 1 1 8]\n",
      "  Candidate 3: Obj = 126.1602, schedule = [1 2 0 2 0 1 1 1 0 1 0 2 0 1 0 1 2 0 1 8]\n",
      "  Candidate 4: Obj = 132.6468, schedule = [2 1 0 2 0 1 1 1 0 0 2 1 1 0 0 1 1 1 0 9]\n",
      "Best objective value found so far: 115.6020\n",
      "Total points evaluated: 95\n",
      "Iteration 9 completed in 4.18 seconds.\n",
      "\n",
      "--- Iteration 10/25 ---\n",
      "Fitting GP model...\n"
     ]
    },
    {
     "name": "stdout",
     "output_type": "stream",
     "text": [
      "GP model fitted.\n",
      "Optimizing acquisition function (LCB)...\n"
     ]
    },
    {
     "name": "stdout",
     "output_type": "stream",
     "text": [
      "Selected 5 candidate(s).\n",
      "  Candidate 0: Obj = 10000000000.0000, schedule = [ 1  2  0  2 -1  2  1  0  1  1  0  2  1  0  1  1  0  1  1  8]\n",
      "  Candidate 1: Obj = 10000000000.0000, schedule = [ 2  1  0  2 -1  2  0  2  0  0  1  2  1  0  1  0  2  0  1  8]\n",
      "  Candidate 2: Obj = 10000000000.0000, schedule = [ 2  1  0  2 -1  2  0  2  0  0  1  2  1  0  1  0  2  0  1  8]\n",
      "  Candidate 3: Obj = 128.4867, schedule = [1 1 2 0 0 2 1 1 0 0 2 1 1 0 0 2 1 0 1 8]\n",
      "  Candidate 4: Obj = 130.2438, schedule = [1 1 1 1 0 2 1 1 0 1 1 1 1 0 1 1 1 0 0 9]\n",
      "Best objective value found so far: 115.6020\n",
      "Total points evaluated: 100\n",
      "Iteration 10 completed in 5.25 seconds.\n",
      "\n",
      "--- Iteration 11/25 ---\n",
      "Fitting GP model...\n"
     ]
    },
    {
     "name": "stdout",
     "output_type": "stream",
     "text": [
      "GP model fitted.\n",
      "Optimizing acquisition function (LCB)...\n"
     ]
    },
    {
     "name": "stdout",
     "output_type": "stream",
     "text": [
      "Selected 5 candidate(s).\n",
      "  Candidate 0: Obj = 130.5600, schedule = [2 0 1 1 1 0 2 0 1 1 0 1 1 1 0 2 0 0 2 8]\n",
      "  Candidate 1: Obj = 10000000000.0000, schedule = [ 2  0  1  2 -1  1  2  0  1  1  1  1  0  0  1  1  1  0  2  8]\n",
      "  Candidate 2: Obj = 134.2707, schedule = [2 0 1 1 0 2 1 0 1 1 1 1 0 0 1 2 0 0 1 9]\n",
      "  Candidate 3: Obj = 10000000000.0000, schedule = [ 2  1  0  1  0  1  2  0  1  0  1  2  1 -1  1  2  1 -1  1  9]\n",
      "  Candidate 4: Obj = 10000000000.0000, schedule = [ 1  1  1  2 -1  1  2  0  1  0  1  2  1  0  0  2  0  0  2  8]\n",
      "Best objective value found so far: 115.6020\n",
      "Total points evaluated: 105\n",
      "Iteration 11 completed in 4.73 seconds.\n",
      "\n",
      "--- Iteration 12/25 ---\n",
      "Fitting GP model...\n"
     ]
    },
    {
     "name": "stdout",
     "output_type": "stream",
     "text": [
      "GP model fitted.\n",
      "Optimizing acquisition function (LCB)...\n"
     ]
    },
    {
     "name": "stdout",
     "output_type": "stream",
     "text": [
      "Selected 5 candidate(s).\n",
      "  Candidate 0: Obj = 10000000000.0000, schedule = [ 2  0  1  2 -1  2  1  1  0  1  1  1  1  0  1  1  1  0  0  9]\n",
      "  Candidate 1: Obj = 10000000000.0000, schedule = [ 2  1  0  2  0  0  2  1 -1  2  1  0  2  0  1  1  1  0  1  8]\n",
      "  Candidate 2: Obj = 10000000000.0000, schedule = [ 3  1  0  2  0  1  1  1  0  1  0  2  1 -1  2  1  1  0  1  7]\n",
      "  Candidate 3: Obj = 125.1870, schedule = [1 2 0 2 0 0 2 1 0 1 1 1 1 0 1 0 2 0 1 8]\n",
      "  Candidate 4: Obj = 10000000000.0000, schedule = [ 2  0  1  2  0  1  1  1 -1  2  1  0  2  0  1  1  1  0  1  8]\n",
      "Best objective value found so far: 115.6020\n",
      "Total points evaluated: 110\n",
      "Iteration 12 completed in 5.29 seconds.\n",
      "\n",
      "--- Iteration 13/25 ---\n",
      "Fitting GP model...\n"
     ]
    },
    {
     "name": "stdout",
     "output_type": "stream",
     "text": [
      "GP model fitted.\n",
      "Optimizing acquisition function (LCB)...\n"
     ]
    },
    {
     "name": "stdout",
     "output_type": "stream",
     "text": [
      "Selected 5 candidate(s).\n",
      "  Candidate 0: Obj = 131.4070, schedule = [2 1 1 0 1 0 1 1 0 1 1 2 0 1 0 1 1 1 0 9]\n",
      "  Candidate 1: Obj = 122.3589, schedule = [2 2 1 0 1 0 1 2 0 0 1 2 0 1 0 1 1 1 0 8]\n",
      "  Candidate 2: Obj = 131.4070, schedule = [2 1 1 0 1 0 1 1 0 1 1 2 0 1 0 1 1 1 0 9]\n",
      "  Candidate 3: Obj = 131.4662, schedule = [2 1 1 0 1 0 1 1 1 0 1 2 0 0 1 1 1 1 0 9]\n",
      "  Candidate 4: Obj = 122.4985, schedule = [3 1 0 1 1 0 1 2 0 0 1 2 0 1 0 1 1 0 2 7]\n",
      "Best objective value found so far: 115.6020\n",
      "Total points evaluated: 115\n",
      "Iteration 13 completed in 8.04 seconds.\n",
      "\n",
      "--- Iteration 14/25 ---\n",
      "Fitting GP model...\n"
     ]
    },
    {
     "name": "stdout",
     "output_type": "stream",
     "text": [
      "GP model fitted.\n",
      "Optimizing acquisition function (LCB)...\n"
     ]
    },
    {
     "name": "stdout",
     "output_type": "stream",
     "text": [
      "Selected 5 candidate(s).\n",
      "  Candidate 0: Obj = 122.3147, schedule = [3 0 2 0 0 1 2 0 0 1 2 0 1 1 1 1 0 1 0 8]\n",
      "  Candidate 1: Obj = 10000000000.0000, schedule = [ 2  1  2  1 -1  1  1  2 -1  1  1  1  1  0  2  1  0  1  0  8]\n",
      "  Candidate 2: Obj = 10000000000.0000, schedule = [ 3  0  2  0  0  1  2  1 -1  2  1  0  1  0  2  0  1  1  0  8]\n",
      "  Candidate 3: Obj = 115.1129, schedule = [2 1 1 1 0 1 2 0 0 1 2 0 1 1 1 1 1 0 1 7]\n",
      "  Candidate 4: Obj = 10000000000.0000, schedule = [ 2  1  2  1 -1  1  2  0  0  1  1  2  0  0  2  0  1  1  0  8]\n",
      "Best objective value found so far: 115.1129\n",
      "Total points evaluated: 120\n",
      "Iteration 14 completed in 7.87 seconds.\n",
      "\n",
      "--- Iteration 15/25 ---\n",
      "Fitting GP model...\n"
     ]
    },
    {
     "name": "stdout",
     "output_type": "stream",
     "text": [
      "GP model fitted.\n",
      "Optimizing acquisition function (LCB)...\n"
     ]
    },
    {
     "name": "stdout",
     "output_type": "stream",
     "text": [
      "Selected 5 candidate(s).\n",
      "  Candidate 0: Obj = 123.3545, schedule = [2 1 2 0 0 2 1 1 0 1 0 1 1 0 2 0 2 0 0 8]\n",
      "  Candidate 1: Obj = 118.9808, schedule = [2 1 2 0 0 2 1 1 0 0 1 1 1 0 2 0 2 0 1 7]\n",
      "  Candidate 2: Obj = 124.7961, schedule = [3 1 0 2 0 0 2 0 0 2 0 2 0 1 0 2 0 0 2 7]\n",
      "  Candidate 3: Obj = 122.3054, schedule = [2 2 0 2 0 0 1 1 1 1 1 1 1 0 0 1 1 0 2 7]\n",
      "  Candidate 4: Obj = 133.7135, schedule = [2 0 2 0 0 2 1 0 0 2 0 1 1 0 2 1 0 1 0 9]\n",
      "Best objective value found so far: 115.1129\n",
      "Total points evaluated: 125\n",
      "Iteration 15 completed in 6.16 seconds.\n",
      "\n",
      "--- Iteration 16/25 ---\n",
      "Fitting GP model...\n"
     ]
    },
    {
     "name": "stdout",
     "output_type": "stream",
     "text": [
      "GP model fitted.\n",
      "Optimizing acquisition function (LCB)...\n"
     ]
    },
    {
     "name": "stdout",
     "output_type": "stream",
     "text": [
      "Selected 5 candidate(s).\n",
      "  Candidate 0: Obj = 124.3527, schedule = [3 1 0 2 0 0 2 0 1 1 0 2 0 0 1 1 2 0 0 8]\n",
      "  Candidate 1: Obj = 10000000000.0000, schedule = [ 2  1  1  2 -1  1  2  0  0  1  2  1  1 -1  2  0  2 -1  2  7]\n",
      "  Candidate 2: Obj = 10000000000.0000, schedule = [ 1  2  0  1  1  0  1  1  1  0  2  1  0  0  2  0  2 -1  1  9]\n",
      "  Candidate 3: Obj = 10000000000.0000, schedule = [ 3  0  1  2 -1  2  0  2 -1  2  1  1  0  0  1  1  2  0  0  8]\n",
      "  Candidate 4: Obj = 132.6420, schedule = [2 0 1 2 0 0 1 1 0 1 2 0 1 0 1 2 0 0 2 8]\n",
      "Best objective value found so far: 115.1129\n",
      "Total points evaluated: 130\n",
      "Iteration 16 completed in 6.82 seconds.\n",
      "\n",
      "--- Iteration 17/25 ---\n",
      "Fitting GP model...\n"
     ]
    },
    {
     "name": "stdout",
     "output_type": "stream",
     "text": [
      "GP model fitted.\n",
      "Optimizing acquisition function (LCB)...\n"
     ]
    },
    {
     "name": "stdout",
     "output_type": "stream",
     "text": [
      "Selected 5 candidate(s).\n",
      "  Candidate 0: Obj = 10000000000.0000, schedule = [ 2  2  1  0  1  1  0  1  0  1  2  0  1  0  1  1  2 -1  1  8]\n",
      "  Candidate 1: Obj = 10000000000.0000, schedule = [ 3  1  0  1  1  1  0  1  0  1  2  0  1  0  1  1  2 -1  1  8]\n",
      "  Candidate 2: Obj = 10000000000.0000, schedule = [ 2  2  0  1  1  0  1  1  1  0  2  1  1  0  0  1  2 -1  1  8]\n",
      "  Candidate 3: Obj = 123.5410, schedule = [2 2 0 1 1 1 1 0 0 1 2 0 1 1 0 1 1 0 1 8]\n",
      "  Candidate 4: Obj = 122.4941, schedule = [2 2 0 1 1 0 1 1 1 1 0 1 2 0 0 1 1 0 1 8]\n",
      "Best objective value found so far: 115.1129\n",
      "Total points evaluated: 135\n",
      "Iteration 17 completed in 7.43 seconds.\n",
      "\n",
      "--- Iteration 18/25 ---\n",
      "Fitting GP model...\n"
     ]
    },
    {
     "name": "stdout",
     "output_type": "stream",
     "text": [
      "GP model fitted.\n",
      "Optimizing acquisition function (LCB)...\n"
     ]
    },
    {
     "name": "stdout",
     "output_type": "stream",
     "text": [
      "Selected 5 candidate(s).\n",
      "  Candidate 0: Obj = 10000000000.0000, schedule = [ 2  2  1  0  0  1  2  1  0  1  0  2  1 -1  2  0  1  1  0  8]\n",
      "  Candidate 1: Obj = 10000000000.0000, schedule = [ 2  2  0  2 -1  2  1  1  0  1  0  2  0  1  0  1  1  1  0  8]\n",
      "  Candidate 2: Obj = 10000000000.0000, schedule = [ 2  2  1  1 -1  2  1  1  0  0  1  1  1  1  0  2  0  1  0  8]\n",
      "  Candidate 3: Obj = 10000000000.0000, schedule = [ 1  2  1  1 -1  2  0  2  0  1  0  1  1  0  1  2  0  1  0  9]\n",
      "  Candidate 4: Obj = 10000000000.0000, schedule = [ 3  1  0  2 -1  2  1  1  0  0  1  1  1  0  2  1  0  1  0  8]\n",
      "Best objective value found so far: 115.1129\n",
      "Total points evaluated: 140\n",
      "Iteration 18 completed in 8.02 seconds.\n",
      "\n",
      "--- Iteration 19/25 ---\n",
      "Fitting GP model...\n"
     ]
    },
    {
     "name": "stdout",
     "output_type": "stream",
     "text": [
      "GP model fitted.\n",
      "Optimizing acquisition function (LCB)...\n"
     ]
    },
    {
     "name": "stdout",
     "output_type": "stream",
     "text": [
      "Selected 5 candidate(s).\n",
      "  Candidate 0: Obj = 10000000000.0000, schedule = [ 2  1  1  1 -1  2  1  1  0  0  2  1  1 -1  2  1  1  0  1  8]\n",
      "  Candidate 1: Obj = 10000000000.0000, schedule = [ 2  2  0  1  0  1  1  2 -1  1  1  1  1  0  1  1  1  1  1  7]\n",
      "  Candidate 2: Obj = 132.4621, schedule = [2 1 1 0 1 1 0 2 0 0 2 1 1 0 1 1 0 0 2 8]\n",
      "  Candidate 3: Obj = 10000000000.0000, schedule = [ 2  1  1  1  0  1  1  2 -1  2  1  0  1  0  2  0  1  0  1  8]\n",
      "  Candidate 4: Obj = 133.4902, schedule = [1 1 1 1 0 1 2 0 0 2 0 1 1 0 2 0 1 0 1 9]\n",
      "Best objective value found so far: 115.1129\n",
      "Total points evaluated: 145\n",
      "Iteration 19 completed in 6.84 seconds.\n",
      "\n",
      "--- Iteration 20/25 ---\n",
      "Fitting GP model...\n"
     ]
    },
    {
     "name": "stdout",
     "output_type": "stream",
     "text": [
      "GP model fitted.\n",
      "Optimizing acquisition function (LCB)...\n"
     ]
    },
    {
     "name": "stdout",
     "output_type": "stream",
     "text": [
      "Selected 5 candidate(s).\n",
      "  Candidate 0: Obj = 10000000000.0000, schedule = [ 2  1  1  2  0  1  0  1  0  2  1  1  1 -1  2  1  0  1  0  8]\n",
      "  Candidate 1: Obj = 10000000000.0000, schedule = [ 1  1  1  2  0  1  0  2 -1  2  0  2  0  1  0  1  1  0  2  8]\n",
      "  Candidate 2: Obj = 126.6556, schedule = [1 2 0 1 0 1 1 2 0 1 1 0 1 0 2 1 0 1 1 8]\n",
      "  Candidate 3: Obj = 10000000000.0000, schedule = [ 2  1  1  0  0  2  1  1  0  0  1  1  1  1  0  1  2 -1  2  8]\n",
      "  Candidate 4: Obj = 10000000000.0000, schedule = [ 2  1  2  1  0  0  1  2 -1  2  0  1  1  0  2  1  0  1  1  7]\n",
      "Best objective value found so far: 115.1129\n",
      "Total points evaluated: 150\n",
      "Iteration 20 completed in 8.16 seconds.\n",
      "\n",
      "--- Iteration 21/25 ---\n",
      "Fitting GP model...\n"
     ]
    },
    {
     "name": "stdout",
     "output_type": "stream",
     "text": [
      "GP model fitted.\n",
      "Optimizing acquisition function (LCB)...\n"
     ]
    },
    {
     "name": "stdout",
     "output_type": "stream",
     "text": [
      "Selected 5 candidate(s).\n",
      "  Candidate 0: Obj = 123.3261, schedule = [2 1 2 1 0 1 0 2 0 0 1 1 2 0 1 0 2 0 0 8]\n",
      "  Candidate 1: Obj = 123.2211, schedule = [2 1 2 1 0 1 0 2 0 0 1 2 0 1 1 0 2 0 0 8]\n",
      "  Candidate 2: Obj = 122.8762, schedule = [2 1 2 1 0 1 1 1 0 0 1 1 2 0 1 0 1 1 0 8]\n",
      "  Candidate 3: Obj = 132.0113, schedule = [1 1 2 1 0 1 0 2 0 0 1 1 2 0 1 0 1 0 2 8]\n",
      "  Candidate 4: Obj = 118.8922, schedule = [2 2 0 2 0 1 1 0 0 1 1 2 1 0 1 0 1 1 1 7]\n",
      "Best objective value found so far: 115.1129\n",
      "Total points evaluated: 155\n",
      "Iteration 21 completed in 7.71 seconds.\n",
      "\n",
      "--- Iteration 22/25 ---\n",
      "Fitting GP model...\n"
     ]
    },
    {
     "name": "stdout",
     "output_type": "stream",
     "text": [
      "GP model fitted.\n",
      "Optimizing acquisition function (LCB)...\n"
     ]
    },
    {
     "name": "stdout",
     "output_type": "stream",
     "text": [
      "Selected 5 candidate(s).\n",
      "  Candidate 0: Obj = 124.9031, schedule = [3 0 2 1 0 0 2 1 0 1 1 0 1 0 2 0 2 0 0 8]\n",
      "  Candidate 1: Obj = 120.0952, schedule = [3 0 2 1 0 0 2 1 0 1 0 1 1 0 2 0 2 0 1 7]\n",
      "  Candidate 2: Obj = 10000000000.0000, schedule = [ 3  0  2  1  0  0  2  0  1  1  1  0  2 -1  1  2  1  0  0  8]\n",
      "  Candidate 3: Obj = 10000000000.0000, schedule = [ 3  0  1  2  0  1  1  1  0  1  1  0  2 -1  2  0  1  1  0  8]\n",
      "  Candidate 4: Obj = 119.4426, schedule = [2 1 2 1 0 0 2 1 0 1 1 0 1 0 2 0 2 0 1 7]\n",
      "Best objective value found so far: 115.1129\n",
      "Total points evaluated: 160\n",
      "Iteration 22 completed in 6.18 seconds.\n",
      "\n",
      "--- Iteration 23/25 ---\n",
      "Fitting GP model...\n"
     ]
    },
    {
     "name": "stdout",
     "output_type": "stream",
     "text": [
      "GP model fitted.\n",
      "Optimizing acquisition function (LCB)...\n"
     ]
    },
    {
     "name": "stdout",
     "output_type": "stream",
     "text": [
      "Selected 5 candidate(s).\n",
      "  Candidate 0: Obj = 10000000000.0000, schedule = [ 2  1  1  0  1  1  1  0  1  0  2  0  2 -1  2  0  2  0  1  8]\n",
      "  Candidate 1: Obj = 10000000000.0000, schedule = [ 2  2  0  2 -1  2  1  1  0  1  1  1  0  1  1  0  2  0  1  7]\n",
      "  Candidate 2: Obj = 123.1513, schedule = [1 1 1 1 1 1 0 2 0 1 0 2 0 1 1 1 0 1 1 8]\n",
      "  Candidate 3: Obj = 10000000000.0000, schedule = [ 2  1  0  1  1  1  1  0  1  1  1  1  1 -1  2  0  2 -1  2  8]\n",
      "  Candidate 4: Obj = 10000000000.0000, schedule = [ 2  1  0  1  0  2  1  1  0  1  1  0  1  1  1  1  1 -1  2  8]\n",
      "Best objective value found so far: 115.1129\n",
      "Total points evaluated: 165\n",
      "Iteration 23 completed in 4.94 seconds.\n",
      "\n",
      "--- Iteration 24/25 ---\n",
      "Fitting GP model...\n"
     ]
    },
    {
     "name": "stdout",
     "output_type": "stream",
     "text": [
      "GP model fitted.\n",
      "Optimizing acquisition function (LCB)...\n"
     ]
    },
    {
     "name": "stdout",
     "output_type": "stream",
     "text": [
      "Selected 5 candidate(s).\n",
      "  Candidate 0: Obj = 125.8798, schedule = [2 1 1 1 0 0 1 1 1 1 1 1 1 0 0 2 1 0 1 8]\n",
      "  Candidate 1: Obj = 127.9569, schedule = [2 1 1 1 0 0 2 0 1 0 2 1 1 0 0 2 1 0 1 8]\n",
      "  Candidate 2: Obj = 10000000000.0000, schedule = [ 2  1  1  1  0  0  2  0  1  1  1  1  1  0  0  2  1 -1  2  8]\n",
      "  Candidate 3: Obj = 127.9569, schedule = [2 1 1 1 0 0 2 0 1 0 2 1 1 0 0 2 1 0 1 8]\n",
      "  Candidate 4: Obj = 126.5368, schedule = [2 1 1 1 0 0 2 0 1 1 1 1 1 0 0 1 1 1 1 8]\n",
      "Best objective value found so far: 115.1129\n",
      "Total points evaluated: 170\n",
      "Iteration 24 completed in 6.99 seconds.\n",
      "\n",
      "--- Iteration 25/25 ---\n",
      "Fitting GP model...\n"
     ]
    },
    {
     "name": "stdout",
     "output_type": "stream",
     "text": [
      "GP model fitted.\n",
      "Optimizing acquisition function (LCB)...\n"
     ]
    },
    {
     "name": "stdout",
     "output_type": "stream",
     "text": [
      "Selected 5 candidate(s).\n",
      "  Candidate 0: Obj = 10000000000.0000, schedule = [ 2  0  2  1  0  0  2  1 -1  2  0  2  1 -1  1  2  1  0  1  8]\n",
      "  Candidate 1: Obj = 10000000000.0000, schedule = [ 2  0  2  0  0  2  1  1  0  1  1  1  1 -1  1  1  2  0  1  8]\n",
      "  Candidate 2: Obj = 10000000000.0000, schedule = [ 3  0  1  2 -1  2  1  1  0  1  1  1  1 -1  1  2  1  0  1  7]\n",
      "  Candidate 3: Obj = 10000000000.0000, schedule = [ 1  1  2  0  1  0  2  1  0  1  1  1  1 -1  1  2  1  0  1  8]\n",
      "  Candidate 4: Obj = 10000000000.0000, schedule = [ 1  1  2  1 -1  2  1  1  0  1  1  1  1 -1  1  2  1  0  0  9]\n",
      "Best objective value found so far: 115.1129\n",
      "Total points evaluated: 175\n",
      "Iteration 25 completed in 6.32 seconds.\n",
      "\n",
      "--- Optimization Finished ---\n",
      "Total evaluations: 175\n",
      "Best Objective Value Found: 115.11287490459011\n",
      "Best U vector Found: [0 0 0 0 0 0 0 1 0 0 0 1 0 0 1 1 1 1 1 1]\n",
      "\n",
      "--- Verification ---\n",
      "Is the best U feasible? True\n",
      "Resulting Y vector for best U: [2 1 1 1 0 1 2 0 0 1 2 0 1 1 1 1 1 0 1 7]\n",
      "Objective value (recalculated): 115.1129\n"
     ]
    }
   ],
   "source": [
    "# --- BO Helper Functions ---\n",
    "\n",
    "# --- get_fitted_model function remains the same ---\n",
    "def get_fitted_model(train_X_embedded_scaled, train_Y, m):\n",
    "    # ... (implementation is unchanged) ...\n",
    "    if train_Y.ndim > 1 and train_Y.shape[1] == 1: train_Y = train_Y.ravel()\n",
    "    kernel = ConstantKernel(1.0, constant_value_bounds=(1e-3, 1e3)) * \\\n",
    "             Matern(length_scale=np.ones(m), length_scale_bounds=(1e-2, 1e2), nu=2.5) + \\\n",
    "             WhiteKernel(noise_level=1e-10, # Small value for numerical stability\n",
    "                         noise_level_bounds=\"fixed\") # Bounds for noise optimization\n",
    "    gp_model = GaussianProcessRegressor(kernel=kernel, alpha=1e-10, n_restarts_optimizer=10, random_state=42)\n",
    "    gp_model.fit(train_X_embedded_scaled, train_Y)\n",
    "    return gp_model\n",
    "\n",
    "def lower_confidence_bound(mu, sigma, kappa=2.576):\n",
    "    \"\"\"\n",
    "    Computes the Lower Confidence Bound (LCB) acquisition function.\n",
    "    Assumes maximization of this value guides the search (since mu is neg objective).\n",
    "    Higher LCB means lower predicted objective or lower penalty for uncertainty.\n",
    "\n",
    "    mu, sigma: Predicted mean and standard deviation (NumPy arrays).\n",
    "    kappa: Controls the balance between exploitation (high mu -> low original objective)\n",
    "           and exploration (low sigma).\n",
    "    \"\"\"\n",
    "    # Ensure sigma is non-negative\n",
    "    sigma = np.maximum(sigma, 0)\n",
    "    return mu - kappa * sigma # <<< Sign flipped from UCB\n",
    "\n",
    "def optimize_acqf_discrete_via_embedding(gp_model, scaler, dictionary_A, T, q, num_candidates, kappa):\n",
    "    \"\"\"\n",
    "    Optimizes LCB acquisition function by sampling random binary candidates,\n",
    "    embedding, SCALING, predicting with GP, and calculating LCB.\n",
    "    Selects the top q candidates based on LCB.\n",
    "    Returns candidates as a numpy array (q x T).\n",
    "    \"\"\"\n",
    "    m = dictionary_A.shape[0]\n",
    "\n",
    "    # 1. Generate Random Binary Candidates\n",
    "    candidate_u_vectors_np = np.random.randint(0, 2, size=(num_candidates, T))\n",
    "\n",
    "    # 2. Embed the Candidates\n",
    "    embedded_candidates_np = embed_batch(candidate_u_vectors_np, dictionary_A)\n",
    "\n",
    "    # 3. Scale the Embedded Candidates\n",
    "    embedded_candidates_scaled_np = scaler.transform(embedded_candidates_np)\n",
    "\n",
    "    # 4. Predict Mean and Std Dev using the GP Model\n",
    "    mu, std = gp_model.predict(embedded_candidates_scaled_np, return_std=True)\n",
    "\n",
    "    # 5. Calculate Acquisition Function (Lower Confidence Bound) <<< CHANGED HERE\n",
    "    acq_values = lower_confidence_bound(mu, std, kappa=kappa) # Use LCB\n",
    "\n",
    "    # 6. Select Top Candidates (based on highest LCB) <<< COMMENT UPDATED\n",
    "    # We maximize LCB = mu - kappa*sigma, where mu is neg_objective\n",
    "    top_indices = np.argsort(acq_values)[-q:]\n",
    "    top_indices = top_indices[::-1] # Ensure descending order of LCB\n",
    "\n",
    "    return candidate_u_vectors_np[top_indices, :]\n",
    "\n",
    "# --- BO Loop ---\n",
    "\n",
    "# Parameters\n",
    "KAPPA = 2.576 # Exploration parameter for LCB. Adjust as needed.\n",
    "N_INITIAL = 49 # The initial schedule will always be included\n",
    "N_ITERATIONS = 25\n",
    "BATCH_SIZE_q = 5\n",
    "NUM_CANDIDATES_Acqf = T*5*1024 # Might need more for higher T\n",
    "m = math.ceil(T/4) # Dimension of the embedding space\n",
    "\n",
    "# Store evaluated points (using NumPy arrays)\n",
    "evaluated_U_np_list = [] # List to store evaluated U vectors (binary)\n",
    "evaluated_f_vals = []    # List to store raw objective values (lower is better)\n",
    "train_Y_list = []        # List to store NEGATED objective values for GP (higher is better)\n",
    "\n",
    "# 1. Initialization\n",
    "for U_init in initial_candidates:\n",
    "    f_val = evaluate_objective(U_init, X, v_star, convolutions, d, w)\n",
    "    neg_f_val = -f_val\n",
    "    evaluated_U_np_list.append(U_init)\n",
    "    evaluated_f_vals.append(f_val)\n",
    "    train_Y_list.append(neg_f_val)\n",
    "  \n",
    "# Convert lists to NumPy arrays for GP fitting\n",
    "train_Y = np.array(train_Y_list).reshape(-1, 1) # Keep as column vector initially\n",
    "\n",
    "best_obj_so_far = min(evaluated_f_vals) if evaluated_f_vals else float('inf')\n",
    "initial_best_obj_so_far_lcb = best_obj_so_far # Saved for reporting results\n",
    "print(f\"Initial best objective value: {best_obj_so_far}\")\n",
    "if not np.isfinite(best_obj_so_far):\n",
    "     print(\"Warning: Initial best objective is infinite, possibly all initial points were infeasible.\")\n",
    "\n",
    "# 2. BO Iterations\n",
    "for iteration in range(N_ITERATIONS):\n",
    "    start_time = time.time()\n",
    "    print(f\"\\n--- Iteration {iteration + 1}/{N_ITERATIONS} ---\")\n",
    "\n",
    "    # a. Generate dictionary A (remains the same)\n",
    "    current_dictionary_A = generate_diverse_random_dictionary(T, m)\n",
    "\n",
    "    # b. Embed ALL evaluated U vectors (remains the same)\n",
    "    if not evaluated_U_np_list: continue\n",
    "    evaluated_U_np_array = np.array(evaluated_U_np_list)\n",
    "    embedded_train_X = embed_batch(evaluated_U_np_array, current_dictionary_A)\n",
    "\n",
    "    # c. Scale the embedded training data (remains the same)\n",
    "    scaler = MinMaxScaler()\n",
    "    if embedded_train_X.shape[0] > 0: embedded_train_X_scaled = scaler.fit_transform(embedded_train_X)\n",
    "    else: embedded_train_X_scaled = embedded_train_X\n",
    "\n",
    "    # Ensure train_Y is NumPy array\n",
    "    train_Y_for_fit = np.array(train_Y_list)\n",
    "\n",
    "    # d. Fit GP Model (remains the same)\n",
    "    print(\"Fitting GP model...\")\n",
    "    if embedded_train_X_scaled.shape[0] > 0 and train_Y_for_fit.shape[0] == embedded_train_X_scaled.shape[0]:\n",
    "        gp_model = get_fitted_model(embedded_train_X_scaled, train_Y_for_fit, m)\n",
    "        print(\"GP model fitted.\")\n",
    "    else:\n",
    "        print(\"Warning: Not enough data or data mismatch to fit GP model. Skipping iteration.\")\n",
    "        continue\n",
    "\n",
    "    # e. Determine current best neg value (useful for tracking, not directly used in LCB calculation)\n",
    "    current_best_neg_f_val = np.max(train_Y_for_fit) if train_Y_for_fit.size > 0 else -float('inf')\n",
    "    if current_best_neg_f_val <= -LARGE_PENALTY / 2 and np.isfinite(current_best_neg_f_val):\n",
    "        print(f\"Warning: Current best NEGATIVE objective value ({current_best_neg_f_val:.2f}) is very low (likely from penalties).\")\n",
    "\n",
    "    # f. Optimize Acquisition Function (LCB) <<< MODIFIED CALL & COMMENT\n",
    "    print(\"Optimizing acquisition function (LCB)...\") # Comment updated\n",
    "    next_U_candidates_np = optimize_acqf_discrete_via_embedding(\n",
    "        gp_model=gp_model,\n",
    "        scaler=scaler,\n",
    "        dictionary_A=current_dictionary_A,\n",
    "        T=T,\n",
    "        q=BATCH_SIZE_q,\n",
    "        num_candidates=NUM_CANDIDATES_Acqf,\n",
    "        kappa=KAPPA # Pass kappa\n",
    "    )\n",
    "    print(f\"Selected {next_U_candidates_np.shape[0]} candidate(s).\")\n",
    "\n",
    "    # g. Evaluate Objective (remains the same)\n",
    "    newly_evaluated_U = []; newly_evaluated_f = []; newly_evaluated_neg_f = []\n",
    "    for i in range(next_U_candidates_np.shape[0]):\n",
    "        next_U = next_U_candidates_np[i, :]\n",
    "        already_evaluated = any(np.array_equal(next_U, u) for u in evaluated_U_np_list)\n",
    "        if already_evaluated: print(f\"  Candidate {i} was already evaluated. Skipping.\"); continue\n",
    "\n",
    "        next_f = evaluate_objective(next_U, X, v_star, convolutions, d, w)\n",
    "        next_neg_f = -next_f\n",
    "        V_sum = np.sum(v_star[next_U == 1, :], axis=0)\n",
    "        Y = X + V_sum\n",
    "        print(f\"  Candidate {i}: Obj = {next_f:.4f}, schedule = {Y}\")\n",
    "        newly_evaluated_U.append(next_U); newly_evaluated_f.append(next_f); newly_evaluated_neg_f.append(next_neg_f)\n",
    "        if next_f < best_obj_so_far: best_obj_so_far = next_f\n",
    "\n",
    "    # h. Augment Dataset (remains the same)\n",
    "    evaluated_U_np_list.extend(newly_evaluated_U); evaluated_f_vals.extend(newly_evaluated_f); train_Y_list.extend(newly_evaluated_neg_f)\n",
    "    train_Y = np.array(train_Y_list).reshape(-1, 1)\n",
    "\n",
    "    iter_time = time.time() - start_time\n",
    "    print(f\"Best objective value found so far: {best_obj_so_far:.4f}\")\n",
    "    print(f\"Total points evaluated: {len(evaluated_f_vals)}\")\n",
    "    print(f\"Iteration {iteration + 1} completed in {iter_time:.2f} seconds.\")\n",
    "\n",
    "\n",
    "# --- Results ---\n",
    "print(\"\\n--- Optimization Finished ---\")\n",
    "if not evaluated_f_vals: print(\"No points were successfully evaluated.\")\n",
    "else:\n",
    "    final_best_idx_lcb = np.argmin(evaluated_f_vals)\n",
    "    final_best_U_lcb = evaluated_U_np_list[final_best_idx_lcb]\n",
    "    final_best_f_lcb = evaluated_f_vals[final_best_idx_lcb]\n",
    "    nr_evaluated_f_vals_lcb = len(evaluated_f_vals) # Saved for reporting results\n",
    "    print(f\"Total evaluations: {nr_evaluated_f_vals_lcb}\")\n",
    "    print(f\"Best Objective Value Found: {final_best_f_lcb}\")\n",
    "    print(f\"Best U vector Found: {final_best_U_lcb}\")\n",
    "\n",
    "    # Verification\n",
    "    V_sum_best = np.sum(v_star[final_best_U_lcb == 1, :], axis=0)\n",
    "    Y_best_lcb = X + V_sum_best\n",
    "    is_feasible = np.all(Y_best_lcb >= 0)\n",
    "    recalculated_obj = LARGE_PENALTY\n",
    "    if is_feasible:\n",
    "        ewt, esp = calculate_objective_serv_time_lookup(Y_best_lcb, d, convolutions)\n",
    "        recalculated_obj = w * ewt + (1 - w) * esp\n",
    "\n",
    "    print(f\"\\n--- Verification ---\")\n",
    "    print(f\"Is the best U feasible? {is_feasible}\")\n",
    "    if is_feasible:\n",
    "        print(f\"Resulting Y vector for best U: {Y_best_lcb}\")\n",
    "        print(f\"Objective value (recalculated): {recalculated_obj:.4f}\")\n",
    "        if not np.isclose(final_best_f_lcb, recalculated_obj): print(f\"Warning: Stored best objective ({final_best_f:.4f}) does not match recalculation ({recalculated_obj:.4f})!\")\n",
    "    elif final_best_f_lcb < LARGE_PENALTY: print(f\"Warning: Best objective ({final_best_f_lcb:.4f}) is not the penalty value, but feasibility check failed.\"); print(f\"Resulting Y vector (infeasible): {Y_best_lcb}\")\n",
    "    else: print(\"Best solution found corresponds to an infeasible penalty value.\")"
   ]
  },
  {
   "cell_type": "markdown",
   "id": "47d38ad1",
   "metadata": {},
   "source": [
    "#### 6. Experiment 3: CBO with LCB and wavelet dictionary.\n"
   ]
  },
  {
   "cell_type": "code",
   "execution_count": 6,
   "id": "aaade903",
   "metadata": {},
   "outputs": [
    {
     "name": "stdout",
     "output_type": "stream",
     "text": [
      "Initial best objective value: 118.87100166955729\n",
      "\n",
      "--- Iteration 1/25 ---\n",
      "Fitting GP model...\n"
     ]
    },
    {
     "name": "stdout",
     "output_type": "stream",
     "text": [
      "GP model fitted.\n",
      "Optimizing acquisition function (LCB)...\n"
     ]
    },
    {
     "name": "stdout",
     "output_type": "stream",
     "text": [
      "Selected 5 candidate(s).\n",
      "  Candidate 0: Obj = 10000000000.0000, schedule = [ 2  1  0  2 -1  2  1  0  0  2  0  2  1  0  0  1  1  1  1  8]\n",
      "  Candidate 1: Obj = 10000000000.0000, schedule = [ 2  1  1  1 -1  2  0  1  0  1  1  2  1  0  1  1  0  0  2  8]\n",
      "  Candidate 2: Obj = 10000000000.0000, schedule = [ 3  0  2  1 -1  2  0  1  1  1  1  1  1 -1  2  0  1  1  1  7]\n",
      "  Candidate 3: Obj = 10000000000.0000, schedule = [ 3  0  2  0  0  1  1  1  0  2  0  1  1  1  0  2  1 -1  1  8]\n",
      "  Candidate 4: Obj = 123.5187, schedule = [2 1 1 1 0 2 1 0 0 1 1 2 0 1 1 1 0 0 1 8]\n",
      "Best objective value found so far: 118.8710\n",
      "Total points evaluated: 55\n",
      "Iteration 1 completed in 3.57 seconds.\n",
      "\n",
      "--- Iteration 2/25 ---\n",
      "Fitting GP model...\n"
     ]
    },
    {
     "name": "stdout",
     "output_type": "stream",
     "text": [
      "GP model fitted.\n",
      "Optimizing acquisition function (LCB)...\n"
     ]
    },
    {
     "name": "stdout",
     "output_type": "stream",
     "text": [
      "Selected 5 candidate(s).\n",
      "  Candidate 0: Obj = 130.8475, schedule = [1 2 0 1 1 1 0 2 0 1 1 0 1 1 0 2 1 0 0 9]\n",
      "  Candidate 1: Obj = 10000000000.0000, schedule = [ 1  2  0  1  1  1  0  2 -1  2  0  2  0  1  0  2  1  0  1  8]\n",
      "  Candidate 2: Obj = 10000000000.0000, schedule = [ 1  2  1  0  1  1  1  1  0  1  0  2  0  0  1  2  1 -1  1  9]\n",
      "  Candidate 3: Obj = 121.4522, schedule = [2 1 2 0 1 1 1 0 1 1 0 2 0 1 1 1 1 0 0 8]\n",
      "  Candidate 4: Obj = 10000000000.0000, schedule = [ 1  1  2  0  0  2  1  1  0  1  0  2  1 -1  1  2  0  1  1  8]\n",
      "Best objective value found so far: 118.8710\n",
      "Total points evaluated: 60\n",
      "Iteration 2 completed in 3.65 seconds.\n",
      "\n",
      "--- Iteration 3/25 ---\n",
      "Fitting GP model...\n"
     ]
    },
    {
     "name": "stdout",
     "output_type": "stream",
     "text": [
      "GP model fitted.\n",
      "Optimizing acquisition function (LCB)...\n"
     ]
    },
    {
     "name": "stdout",
     "output_type": "stream",
     "text": [
      "Selected 5 candidate(s).\n",
      "  Candidate 0: Obj = 131.7503, schedule = [1 2 0 2 0 1 0 2 0 1 1 1 0 1 0 2 1 0 0 9]\n",
      "  Candidate 1: Obj = 124.4007, schedule = [3 1 0 1 1 1 1 1 0 1 0 2 1 0 0 2 1 0 0 8]\n",
      "  Candidate 2: Obj = 10000000000.0000, schedule = [ 2  1  0  2 -1  2  0  2  0  1  1  1  1 -1  1  2  1 -1  2  8]\n",
      "  Candidate 3: Obj = 123.8613, schedule = [3 1 0 1 1 1 0 2 0 1 1 1 1 0 0 2 1 0 0 8]\n",
      "  Candidate 4: Obj = 127.0363, schedule = [2 1 0 1 0 2 1 1 0 1 0 1 2 0 0 2 1 0 1 8]\n",
      "Best objective value found so far: 118.8710\n",
      "Total points evaluated: 65\n",
      "Iteration 3 completed in 3.93 seconds.\n",
      "\n",
      "--- Iteration 4/25 ---\n",
      "Fitting GP model...\n"
     ]
    },
    {
     "name": "stdout",
     "output_type": "stream",
     "text": [
      "GP model fitted.\n",
      "Optimizing acquisition function (LCB)...\n"
     ]
    },
    {
     "name": "stdout",
     "output_type": "stream",
     "text": [
      "Selected 5 candidate(s).\n",
      "  Candidate 0: Obj = 10000000000.0000, schedule = [ 1  1  2  0  1  0  1  2 -1  2  1  0  2 -1  2  0  2  0  0  9]\n",
      "  Candidate 1: Obj = 10000000000.0000, schedule = [ 3  0  1  2 -1  2  1  0  1  0  2  1  0  1  0  1  1  0  1  8]\n",
      "  Candidate 2: Obj = 10000000000.0000, schedule = [ 3  1  0  1  0  1  1  1  0  2  1  1  0  0  2  0  2 -1  2  7]\n",
      "  Candidate 3: Obj = 10000000000.0000, schedule = [ 3  1  0  2 -1  1  2  0  0  2  1  0  2 -1  2  1  0  1  0  8]\n",
      "  Candidate 4: Obj = 10000000000.0000, schedule = [ 2  0  1  2 -1  2  1  1  0  1  1  0  1  0  2  0  2 -1  1  9]\n",
      "Best objective value found so far: 118.8710\n",
      "Total points evaluated: 70\n",
      "Iteration 4 completed in 4.20 seconds.\n",
      "\n",
      "--- Iteration 5/25 ---\n",
      "Fitting GP model...\n"
     ]
    },
    {
     "name": "stdout",
     "output_type": "stream",
     "text": [
      "GP model fitted.\n",
      "Optimizing acquisition function (LCB)...\n"
     ]
    },
    {
     "name": "stdout",
     "output_type": "stream",
     "text": [
      "Selected 5 candidate(s).\n",
      "  Candidate 0: Obj = 10000000000.0000, schedule = [ 2  0  1  2 -1  1  1  1  1  1  1  1  0  0  2  1  0  1  0  9]\n",
      "  Candidate 1: Obj = 128.2031, schedule = [2 1 1 0 0 1 2 1 0 1 0 2 1 0 0 2 0 1 1 8]\n",
      "  Candidate 2: Obj = 125.0659, schedule = [1 1 1 1 0 1 2 0 1 1 1 1 0 1 0 2 0 1 1 8]\n",
      "  Candidate 3: Obj = 131.4179, schedule = [2 1 0 1 0 1 2 1 0 1 1 0 2 0 1 1 1 0 0 9]\n",
      "  Candidate 4: Obj = 132.0015, schedule = [2 0 1 1 0 1 1 1 1 1 1 1 0 0 2 1 1 0 0 9]\n",
      "Best objective value found so far: 118.8710\n",
      "Total points evaluated: 75\n",
      "Iteration 5 completed in 4.52 seconds.\n",
      "\n",
      "--- Iteration 6/25 ---\n",
      "Fitting GP model...\n"
     ]
    },
    {
     "name": "stdout",
     "output_type": "stream",
     "text": [
      "GP model fitted.\n",
      "Optimizing acquisition function (LCB)...\n"
     ]
    },
    {
     "name": "stdout",
     "output_type": "stream",
     "text": [
      "Selected 5 candidate(s).\n",
      "  Candidate 0: Obj = 10000000000.0000, schedule = [ 2  0  1  1  0  2  0  1  0  1  2  1  1 -1  1  1  2  0  0  9]\n",
      "  Candidate 1: Obj = 123.5175, schedule = [2 1 1 1 0 2 0 1 0 1 1 2 0 0 2 1 0 0 1 8]\n",
      "  Candidate 2: Obj = 123.2617, schedule = [3 0 1 1 0 1 1 1 0 2 1 0 1 0 2 0 1 0 1 8]\n",
      "  Candidate 3: Obj = 10000000000.0000, schedule = [ 1  1  1  2 -1  1  2  0  1  0  2  0  1  1  1  0  1  0  2  8]\n",
      "  Candidate 4: Obj = 10000000000.0000, schedule = [ 2  0  1  1  0  1  2  0  1  1  0  2  0  0  2  0  2 -1  1  9]\n",
      "Best objective value found so far: 118.8710\n",
      "Total points evaluated: 80\n",
      "Iteration 6 completed in 4.32 seconds.\n",
      "\n",
      "--- Iteration 7/25 ---\n",
      "Fitting GP model...\n"
     ]
    },
    {
     "name": "stdout",
     "output_type": "stream",
     "text": [
      "GP model fitted.\n",
      "Optimizing acquisition function (LCB)...\n"
     ]
    },
    {
     "name": "stdout",
     "output_type": "stream",
     "text": [
      "Selected 5 candidate(s).\n",
      "  Candidate 0: Obj = 10000000000.0000, schedule = [ 1  1  2  0  0  2  0  2 -1  2  1  0  1  0  2  0  1  1  0  9]\n",
      "  Candidate 1: Obj = 133.3148, schedule = [2 1 1 0 0 2 0 1 0 1 2 0 1 0 2 0 1 0 2 8]\n",
      "  Candidate 2: Obj = 10000000000.0000, schedule = [ 2  1  2  1 -1  2  1  0  1  1  0  2  0  1  0  1  1  1  1  7]\n",
      "  Candidate 3: Obj = 124.1344, schedule = [3 1 1 0 1 1 1 0 0 2 0 1 1 1 0 2 0 0 2 7]\n",
      "  Candidate 4: Obj = 132.5415, schedule = [1 1 1 2 0 1 0 2 0 1 0 1 1 1 1 1 0 0 1 9]\n",
      "Best objective value found so far: 118.8710\n",
      "Total points evaluated: 85\n",
      "Iteration 7 completed in 4.17 seconds.\n",
      "\n",
      "--- Iteration 8/25 ---\n",
      "Fitting GP model...\n"
     ]
    },
    {
     "name": "stdout",
     "output_type": "stream",
     "text": [
      "GP model fitted.\n",
      "Optimizing acquisition function (LCB)...\n"
     ]
    },
    {
     "name": "stdout",
     "output_type": "stream",
     "text": [
      "Selected 5 candidate(s).\n",
      "  Candidate 0: Obj = 10000000000.0000, schedule = [ 2  2  1  0  0  1  2  0  0  1  2  1  1 -1  2  1  0  0  2  7]\n",
      "  Candidate 1: Obj = 124.7751, schedule = [3 0 1 2 0 0 2 0 1 0 1 2 1 0 1 0 1 0 1 8]\n",
      "  Candidate 2: Obj = 122.3063, schedule = [2 1 2 0 0 1 2 1 0 1 1 1 1 0 1 0 1 0 2 7]\n",
      "  Candidate 3: Obj = 10000000000.0000, schedule = [ 2  2  1  1  0  0  1  1  0  1  1  2  0  0  1  1  2 -1  1  8]\n",
      "  Candidate 4: Obj = 132.8389, schedule = [2 0 2 1 0 1 0 1 1 0 1 2 0 0 1 2 0 0 2 8]\n",
      "Best objective value found so far: 118.8710\n",
      "Total points evaluated: 90\n",
      "Iteration 8 completed in 4.06 seconds.\n",
      "\n",
      "--- Iteration 9/25 ---\n",
      "Fitting GP model...\n"
     ]
    },
    {
     "name": "stdout",
     "output_type": "stream",
     "text": [
      "GP model fitted.\n",
      "Optimizing acquisition function (LCB)...\n"
     ]
    },
    {
     "name": "stdout",
     "output_type": "stream",
     "text": [
      "Selected 5 candidate(s).\n",
      "  Candidate 0: Obj = 10000000000.0000, schedule = [ 1  1  2  0  1  1  0  2 -1  1  1  2  1  0  0  2  1  0  1  8]\n",
      "  Candidate 1: Obj = 132.6826, schedule = [2 1 0 2 0 0 2 1 0 0 1 1 1 1 0 2 0 0 2 8]\n",
      "  Candidate 2: Obj = 10000000000.0000, schedule = [ 3  1  1  1 -1  1  2  1  0  1  0  1  2  0  0  1  1  1  1  7]\n",
      "  Candidate 3: Obj = 10000000000.0000, schedule = [ 3  0  1  1  0  2  0  2  0  0  1  1  2 -1  1  1  1  1  0  8]\n",
      "  Candidate 4: Obj = 10000000000.0000, schedule = [ 3  0  1  1  1  0  1  2  0  1  0  1  2 -1  2  0  1  0  2  7]\n",
      "Best objective value found so far: 118.8710\n",
      "Total points evaluated: 95\n",
      "Iteration 9 completed in 3.84 seconds.\n",
      "\n",
      "--- Iteration 10/25 ---\n",
      "Fitting GP model...\n"
     ]
    },
    {
     "name": "stdout",
     "output_type": "stream",
     "text": [
      "GP model fitted.\n",
      "Optimizing acquisition function (LCB)...\n"
     ]
    },
    {
     "name": "stdout",
     "output_type": "stream",
     "text": [
      "Selected 5 candidate(s).\n",
      "  Candidate 0: Obj = 10000000000.0000, schedule = [ 3  0  2  1  0  0  2  1 -1  2  0  1  2  0  1  0  1  1  1  7]\n",
      "  Candidate 1: Obj = 131.3891, schedule = [2 0 1 1 1 1 1 0 0 2 0 1 2 0 1 0 1 1 0 9]\n",
      "  Candidate 2: Obj = 132.6630, schedule = [2 0 1 2 0 1 1 0 0 1 1 1 2 0 0 2 0 1 0 9]\n",
      "  Candidate 3: Obj = 10000000000.0000, schedule = [ 2  1  2  1  0  1  1  0  0  2  0  1  1  1  0  2  1 -1  2  7]\n",
      "  Candidate 4: Obj = 10000000000.0000, schedule = [ 2  0  1  2 -1  2  1  1  0  1  1  0  1  1  0  1  1  0  1  9]\n",
      "Best objective value found so far: 118.8710\n",
      "Total points evaluated: 100\n",
      "Iteration 10 completed in 4.38 seconds.\n",
      "\n",
      "--- Iteration 11/25 ---\n",
      "Fitting GP model...\n"
     ]
    },
    {
     "name": "stdout",
     "output_type": "stream",
     "text": [
      "GP model fitted.\n",
      "Optimizing acquisition function (LCB)...\n"
     ]
    },
    {
     "name": "stdout",
     "output_type": "stream",
     "text": [
      "Selected 5 candidate(s).\n",
      "  Candidate 0: Obj = 119.2401, schedule = [2 1 2 0 1 1 1 0 0 1 2 1 0 0 1 1 1 1 1 7]\n",
      "  Candidate 1: Obj = 10000000000.0000, schedule = [ 1  1  2  0  0  2  1  0  0  1  2  1  1 -1  1  1  1  0  2  8]\n",
      "  Candidate 2: Obj = 129.2138, schedule = [1 1 2 0 0 2 1 0 0 1 2 1 0 0 1 1 1 1 1 8]\n",
      "  Candidate 3: Obj = 10000000000.0000, schedule = [ 3  0  2  0  0  2  0  2  0  0  1  2  1 -1  1  1  1  0  2  7]\n",
      "  Candidate 4: Obj = 10000000000.0000, schedule = [ 3  0  2  1 -1  2  0  2 -1  1  1  2  0  0  2  0  1  0  2  7]\n",
      "Best objective value found so far: 118.8710\n",
      "Total points evaluated: 105\n",
      "Iteration 11 completed in 4.10 seconds.\n",
      "\n",
      "--- Iteration 12/25 ---\n",
      "Fitting GP model...\n"
     ]
    },
    {
     "name": "stdout",
     "output_type": "stream",
     "text": [
      "GP model fitted.\n",
      "Optimizing acquisition function (LCB)...\n"
     ]
    },
    {
     "name": "stdout",
     "output_type": "stream",
     "text": [
      "Selected 5 candidate(s).\n",
      "  Candidate 0: Obj = 10000000000.0000, schedule = [ 3  1  1  1 -1  1  2  0  0  2  1  0  1  0  1  1  1  0  2  7]\n",
      "  Candidate 1: Obj = 10000000000.0000, schedule = [ 1  2  0  2 -1  2  1  0  0  2  1  0  2 -1  2  0  1  1  0  9]\n",
      "  Candidate 2: Obj = 10000000000.0000, schedule = [ 2  1  1  0  1  0  2  1 -1  2  1  0  2 -1  2  0  1  1  0  9]\n",
      "  Candidate 3: Obj = 10000000000.0000, schedule = [ 2  1  1  1  0  1  1  1 -1  2  1  0  2 -1  1  2  0  0  2  8]\n",
      "  Candidate 4: Obj = 10000000000.0000, schedule = [ 2  1  0  2 -1  2  1  1 -1  2  1  0  1  0  2  1  0  0  2  8]\n",
      "Best objective value found so far: 118.8710\n",
      "Total points evaluated: 110\n",
      "Iteration 12 completed in 4.41 seconds.\n",
      "\n",
      "--- Iteration 13/25 ---\n",
      "Fitting GP model...\n"
     ]
    },
    {
     "name": "stdout",
     "output_type": "stream",
     "text": [
      "GP model fitted.\n",
      "Optimizing acquisition function (LCB)...\n"
     ]
    },
    {
     "name": "stdout",
     "output_type": "stream",
     "text": [
      "Selected 5 candidate(s).\n",
      "  Candidate 0: Obj = 118.2240, schedule = [3 0 1 2 0 0 1 1 1 0 2 0 1 0 2 0 1 1 1 7]\n",
      "  Candidate 1: Obj = 10000000000.0000, schedule = [ 2  0  1  2 -1  1  1  2 -1  2  0  1  1  0  2  0  1  1  1  8]\n",
      "  Candidate 2: Obj = 117.9711, schedule = [3 0 1 2 0 0 1 1 1 0 1 1 1 0 2 0 2 0 1 7]\n",
      "  Candidate 3: Obj = 10000000000.0000, schedule = [ 2  0  1  2 -1  1  1  2 -1  2  0  1  1  1  1  0  1  0  2  8]\n",
      "  Candidate 4: Obj = 10000000000.0000, schedule = [ 3  0  1  2  0  0  1  1  1  1  0  2  0  0  2  0  2 -1  1  8]\n",
      "Best objective value found so far: 117.9711\n",
      "Total points evaluated: 115\n",
      "Iteration 13 completed in 4.59 seconds.\n",
      "\n",
      "--- Iteration 14/25 ---\n",
      "Fitting GP model...\n"
     ]
    },
    {
     "name": "stdout",
     "output_type": "stream",
     "text": [
      "GP model fitted.\n",
      "Optimizing acquisition function (LCB)...\n"
     ]
    },
    {
     "name": "stdout",
     "output_type": "stream",
     "text": [
      "Selected 5 candidate(s).\n",
      "  Candidate 0: Obj = 123.3827, schedule = [3 1 1 0 1 1 1 1 0 1 1 1 1 0 1 0 2 0 0 8]\n",
      "  Candidate 1: Obj = 132.5767, schedule = [2 1 1 0 1 0 2 1 0 0 2 1 1 0 1 1 1 0 0 9]\n",
      "  Candidate 2: Obj = 124.9912, schedule = [3 1 1 1 0 0 2 1 0 1 0 2 1 0 1 1 1 0 0 8]\n",
      "  Candidate 3: Obj = 119.2593, schedule = [3 1 1 1 0 1 1 0 1 1 1 0 2 0 0 2 1 0 1 7]\n",
      "  Candidate 4: Obj = 10000000000.0000, schedule = [ 2  1  1  1  0  0  1  2  0  0  2  1  1 -1  2  1  1  0  1  8]\n",
      "Best objective value found so far: 117.9711\n",
      "Total points evaluated: 120\n",
      "Iteration 14 completed in 4.59 seconds.\n",
      "\n",
      "--- Iteration 15/25 ---\n",
      "Fitting GP model...\n"
     ]
    },
    {
     "name": "stdout",
     "output_type": "stream",
     "text": [
      "GP model fitted.\n",
      "Optimizing acquisition function (LCB)...\n"
     ]
    },
    {
     "name": "stdout",
     "output_type": "stream",
     "text": [
      "Selected 5 candidate(s).\n",
      "  Candidate 0: Obj = 132.2421, schedule = [2 1 1 0 0 1 1 2 0 0 1 1 1 1 0 1 2 0 0 9]\n",
      "  Candidate 1: Obj = 10000000000.0000, schedule = [ 3  0  2  1 -1  1  2  0  1  0  2  1  1 -1  1  2  0  1  1  7]\n",
      "  Candidate 2: Obj = 10000000000.0000, schedule = [ 3  0  1  2 -1  2  0  2  0  1  0  1  1  0  1  1  2 -1  2  7]\n",
      "  Candidate 3: Obj = 10000000000.0000, schedule = [ 3  0  1  1  0  2  1  1  0  1  1  1  1 -1  2  0  2 -1  2  7]\n",
      "  Candidate 4: Obj = 117.2325, schedule = [3 0 1 1 0 2 0 1 1 1 1 0 2 0 0 2 1 0 1 7]\n",
      "Best objective value found so far: 117.2325\n",
      "Total points evaluated: 125\n",
      "Iteration 15 completed in 4.36 seconds.\n",
      "\n",
      "--- Iteration 16/25 ---\n",
      "Fitting GP model...\n"
     ]
    },
    {
     "name": "stdout",
     "output_type": "stream",
     "text": [
      "GP model fitted.\n",
      "Optimizing acquisition function (LCB)...\n"
     ]
    },
    {
     "name": "stdout",
     "output_type": "stream",
     "text": [
      "Selected 5 candidate(s).\n",
      "  Candidate 0: Obj = 10000000000.0000, schedule = [ 3  1  1  1 -1  2  1  0  0  2  1  0  1  1  0  1  2  0  0  8]\n",
      "  Candidate 1: Obj = 10000000000.0000, schedule = [ 3  1  1  1 -1  2  0  1  0  2  1  0  2  0  0  1  2  0  0  8]\n",
      "  Candidate 2: Obj = 120.2212, schedule = [3 1 1 0 0 2 0 1 0 2 1 0 1 0 1 1 2 0 1 7]\n",
      "  Candidate 3: Obj = 122.3628, schedule = [2 2 0 1 0 2 0 1 0 2 1 0 1 1 0 1 2 0 0 8]\n",
      "  Candidate 4: Obj = 118.6656, schedule = [2 2 1 0 0 2 0 1 0 2 1 0 1 1 0 1 2 0 1 7]\n",
      "Best objective value found so far: 117.2325\n",
      "Total points evaluated: 130\n",
      "Iteration 16 completed in 4.65 seconds.\n",
      "\n",
      "--- Iteration 17/25 ---\n",
      "Fitting GP model...\n"
     ]
    },
    {
     "name": "stdout",
     "output_type": "stream",
     "text": [
      "GP model fitted.\n",
      "Optimizing acquisition function (LCB)...\n"
     ]
    },
    {
     "name": "stdout",
     "output_type": "stream",
     "text": [
      "Selected 5 candidate(s).\n",
      "  Candidate 0: Obj = 133.4606, schedule = [1 2 0 2 0 0 1 1 1 0 1 2 0 1 1 1 0 0 1 9]\n",
      "  Candidate 1: Obj = 124.3333, schedule = [3 1 0 2 0 0 2 0 1 1 0 2 0 0 2 1 0 1 0 8]\n",
      "  Candidate 2: Obj = 124.4456, schedule = [3 1 0 1 0 1 2 0 1 0 1 2 0 1 0 2 0 0 1 8]\n",
      "  Candidate 3: Obj = 122.1176, schedule = [2 1 1 2 0 0 1 1 0 2 0 2 0 1 1 1 0 0 2 7]\n",
      "  Candidate 4: Obj = 10000000000.0000, schedule = [ 2  1  1  2 -1  1  1  1  0  2  0  2  0  1  0  1  1  0  1  8]\n",
      "Best objective value found so far: 117.2325\n",
      "Total points evaluated: 135\n",
      "Iteration 17 completed in 5.23 seconds.\n",
      "\n",
      "--- Iteration 18/25 ---\n",
      "Fitting GP model...\n"
     ]
    },
    {
     "name": "stdout",
     "output_type": "stream",
     "text": [
      "GP model fitted.\n",
      "Optimizing acquisition function (LCB)...\n"
     ]
    },
    {
     "name": "stdout",
     "output_type": "stream",
     "text": [
      "Selected 5 candidate(s).\n",
      "  Candidate 0: Obj = 10000000000.0000, schedule = [ 1  2  1  1 -1  1  2  0  1  1  0  2  0  0  1  2  1  0  1  8]\n",
      "  Candidate 1: Obj = 10000000000.0000, schedule = [ 2  0  2  0  0  2  1  0  1  1  0  1  1  0  1  2  1 -1  2  8]\n",
      "  Candidate 2: Obj = 10000000000.0000, schedule = [ 1  2  1  1 -1  1  2  0  1  0  1  2  0  0  1  2  1  0  0  9]\n",
      "  Candidate 3: Obj = 10000000000.0000, schedule = [ 1  1  1  1  1  0  2  0  1  0  1  2  0  0  1  2  1 -1  2  8]\n",
      "  Candidate 4: Obj = 132.6467, schedule = [2 0 2 1 0 1 1 0 1 1 0 2 0 0 1 2 0 0 2 8]\n",
      "Best objective value found so far: 117.2325\n",
      "Total points evaluated: 140\n",
      "Iteration 18 completed in 5.33 seconds.\n",
      "\n",
      "--- Iteration 19/25 ---\n",
      "Fitting GP model...\n"
     ]
    },
    {
     "name": "stdout",
     "output_type": "stream",
     "text": [
      "GP model fitted.\n",
      "Optimizing acquisition function (LCB)...\n"
     ]
    },
    {
     "name": "stdout",
     "output_type": "stream",
     "text": [
      "Selected 5 candidate(s).\n",
      "  Candidate 0: Obj = 132.7635, schedule = [1 2 1 0 1 1 0 1 1 0 1 2 0 1 0 1 1 0 1 9]\n",
      "  Candidate 1: Obj = 134.0218, schedule = [1 2 0 2 0 1 0 1 1 0 2 0 1 0 1 2 0 0 1 9]\n",
      "  Candidate 2: Obj = 132.6921, schedule = [1 2 1 0 1 1 0 1 0 1 1 1 1 1 0 1 1 0 1 9]\n",
      "  Candidate 3: Obj = 134.3468, schedule = [1 2 1 1 0 1 0 1 1 1 0 2 0 0 1 2 0 0 1 9]\n",
      "  Candidate 4: Obj = 131.9700, schedule = [2 1 1 1 0 1 0 1 0 1 1 2 0 1 0 1 1 1 0 9]\n",
      "Best objective value found so far: 117.2325\n",
      "Total points evaluated: 145\n",
      "Iteration 19 completed in 5.02 seconds.\n",
      "\n",
      "--- Iteration 20/25 ---\n",
      "Fitting GP model...\n"
     ]
    },
    {
     "name": "stdout",
     "output_type": "stream",
     "text": [
      "GP model fitted.\n",
      "Optimizing acquisition function (LCB)...\n"
     ]
    },
    {
     "name": "stdout",
     "output_type": "stream",
     "text": [
      "Selected 5 candidate(s).\n",
      "  Candidate 0: Obj = 124.8142, schedule = [2 1 0 2 0 1 0 2 0 0 1 2 1 0 1 1 1 0 1 8]\n",
      "  Candidate 1: Obj = 10000000000.0000, schedule = [ 2  1  0  2  0  1  1  0  1  1  0  1  2 -1  2  0  1  1  0  9]\n",
      "  Candidate 2: Obj = 10000000000.0000, schedule = [ 2  1  0  2  0  1  1  0  0  2  0  1  2  0  0  2  1 -1  1  9]\n",
      "  Candidate 3: Obj = 133.0355, schedule = [2 1 0 2 0 1 1 1 0 0 1 2 0 0 1 2 0 1 0 9]\n",
      "  Candidate 4: Obj = 127.4777, schedule = [2 1 1 1 0 0 2 0 0 1 1 1 1 1 0 2 1 0 1 8]\n",
      "Best objective value found so far: 117.2325\n",
      "Total points evaluated: 150\n",
      "Iteration 20 completed in 5.28 seconds.\n",
      "\n",
      "--- Iteration 21/25 ---\n",
      "Fitting GP model...\n"
     ]
    },
    {
     "name": "stdout",
     "output_type": "stream",
     "text": [
      "GP model fitted.\n",
      "Optimizing acquisition function (LCB)...\n"
     ]
    },
    {
     "name": "stdout",
     "output_type": "stream",
     "text": [
      "Selected 5 candidate(s).\n",
      "  Candidate 0: Obj = 10000000000.0000, schedule = [ 3  0  2  1 -1  1  2  1  0  0  1  1  1  1  0  1  2 -1  2  7]\n",
      "  Candidate 1: Obj = 10000000000.0000, schedule = [ 3  1  1  1 -1  2  0  2  0  1  0  1  1  1  0  2  0  0  2  7]\n",
      "  Candidate 2: Obj = 118.8553, schedule = [2 2 1 0 0 2 0 1 1 0 1 2 0 0 2 1 0 1 1 7]\n",
      "  Candidate 3: Obj = 123.2719, schedule = [3 1 0 1 1 0 2 0 1 0 1 1 1 0 1 1 1 0 1 8]\n",
      "  Candidate 4: Obj = 122.1658, schedule = [3 1 0 1 1 0 2 1 0 1 1 0 1 1 0 1 1 1 0 8]\n",
      "Best objective value found so far: 117.2325\n",
      "Total points evaluated: 155\n",
      "Iteration 21 completed in 5.98 seconds.\n",
      "\n",
      "--- Iteration 22/25 ---\n",
      "Fitting GP model...\n"
     ]
    },
    {
     "name": "stdout",
     "output_type": "stream",
     "text": [
      "GP model fitted.\n",
      "Optimizing acquisition function (LCB)...\n"
     ]
    },
    {
     "name": "stdout",
     "output_type": "stream",
     "text": [
      "Selected 5 candidate(s).\n",
      "  Candidate 0: Obj = 121.0466, schedule = [3 0 1 1 1 1 0 1 1 0 2 0 1 1 1 0 1 0 2 7]\n",
      "  Candidate 1: Obj = 10000000000.0000, schedule = [ 2  1  1  1 -1  1  2  1  0  0  2  1  1 -1  1  1  1  0  2  8]\n",
      "  Candidate 2: Obj = 10000000000.0000, schedule = [ 3  0  1  2  0  1  0  2 -1  1  1  2  1  0  1  1  1  0  1  7]\n",
      "  Candidate 3: Obj = 134.6840, schedule = [1 2 1 0 0 1 1 2 0 1 0 1 2 0 0 2 0 0 1 9]\n",
      "  Candidate 4: Obj = 10000000000.0000, schedule = [ 3  0  1  2 -1  2  1  1  0  1  0  2  0  1  0  1  1  0  1  8]\n",
      "Best objective value found so far: 117.2325\n",
      "Total points evaluated: 160\n",
      "Iteration 22 completed in 5.36 seconds.\n",
      "\n",
      "--- Iteration 23/25 ---\n",
      "Fitting GP model...\n"
     ]
    },
    {
     "name": "stdout",
     "output_type": "stream",
     "text": [
      "GP model fitted.\n",
      "Optimizing acquisition function (LCB)...\n"
     ]
    },
    {
     "name": "stdout",
     "output_type": "stream",
     "text": [
      "Selected 5 candidate(s).\n",
      "  Candidate 0: Obj = 10000000000.0000, schedule = [ 2  1  1  1  0  0  1  2 -1  1  2  0  1  1  0  2  1  0  1  8]\n",
      "  Candidate 1: Obj = 10000000000.0000, schedule = [ 2  0  2  0  1  1  0  1  0  2  0  2  0  1  1  0  2 -1  2  8]\n",
      "  Candidate 2: Obj = 128.1131, schedule = [2 1 0 1 0 1 2 1 0 0 2 0 2 0 0 2 0 1 1 8]\n",
      "  Candidate 3: Obj = 10000000000.0000, schedule = [ 3  1  1  0  1  0  1  2 -1  1  1  1  2 -1  1  1  1  1  1  7]\n",
      "  Candidate 4: Obj = 10000000000.0000, schedule = [ 3  0  1  1  1  1  1  1 -1  1  2  1  0  1  0  2  1  0  1  7]\n",
      "Best objective value found so far: 117.2325\n",
      "Total points evaluated: 165\n",
      "Iteration 23 completed in 5.23 seconds.\n",
      "\n",
      "--- Iteration 24/25 ---\n",
      "Fitting GP model...\n"
     ]
    },
    {
     "name": "stdout",
     "output_type": "stream",
     "text": [
      "GP model fitted.\n",
      "Optimizing acquisition function (LCB)...\n"
     ]
    },
    {
     "name": "stdout",
     "output_type": "stream",
     "text": [
      "Selected 5 candidate(s).\n",
      "  Candidate 0: Obj = 10000000000.0000, schedule = [ 1  1  1  2 -1  1  2  0  0  1  2  0  1  0  2  1  1  0  0  9]\n",
      "  Candidate 1: Obj = 10000000000.0000, schedule = [ 2  1  1  2 -1  1  2  1 -1  2  1  0  1  0  1  1  2  0  1  7]\n",
      "  Candidate 2: Obj = 10000000000.0000, schedule = [ 2  1  0  1  0  1  2  1  0  1  1  0  2  0  1  0  2 -1  1  9]\n",
      "  Candidate 3: Obj = 10000000000.0000, schedule = [ 1  2  0  2  0  0  2  1 -1  2  1  1  1  0  0  1  2 -1  1  9]\n",
      "  Candidate 4: Obj = 10000000000.0000, schedule = [ 1  1  1  2 -1  1  1  1  0  2  1  0  1  0  2  0  2  0  1  8]\n",
      "Best objective value found so far: 117.2325\n",
      "Total points evaluated: 170\n",
      "Iteration 24 completed in 5.52 seconds.\n",
      "\n",
      "--- Iteration 25/25 ---\n",
      "Fitting GP model...\n"
     ]
    },
    {
     "name": "stdout",
     "output_type": "stream",
     "text": [
      "GP model fitted.\n",
      "Optimizing acquisition function (LCB)...\n"
     ]
    },
    {
     "name": "stdout",
     "output_type": "stream",
     "text": [
      "Selected 5 candidate(s).\n",
      "  Candidate 0: Obj = 10000000000.0000, schedule = [ 1  2  1  1  0  1  0  2  0  0  2  0  1  0  2  1  1 -1  2  8]\n",
      "  Candidate 1: Obj = 124.5451, schedule = [3 0 2 0 0 1 2 0 1 0 2 0 2 0 1 0 1 0 1 8]\n",
      "  Candidate 2: Obj = 124.2147, schedule = [3 0 1 1 1 0 2 0 0 2 0 2 1 0 0 2 1 0 0 8]\n",
      "  Candidate 3: Obj = 10000000000.0000, schedule = [ 3  1  1  1 -1  2  0  1  0  2  0  2  0  0  1  1  1  1  1  7]\n",
      "  Candidate 4: Obj = 123.0855, schedule = [2 2 0 1 1 1 1 0 0 1 2 0 1 0 1 1 2 0 0 8]\n",
      "Best objective value found so far: 117.2325\n",
      "Total points evaluated: 175\n",
      "Iteration 25 completed in 6.93 seconds.\n",
      "\n",
      "--- Optimization Finished ---\n",
      "Total evaluations: 175\n",
      "Best Objective Value Found: 117.23250201869716\n",
      "Best U vector Found: [0 1 0 0 0 0 1 0 0 1 1 1 0 1 1 0 1 1 1 1]\n",
      "\n",
      "--- Verification ---\n",
      "Is the best U feasible? True\n",
      "Resulting Y vector for best U: [3 0 1 1 0 2 0 1 1 1 1 0 2 0 0 2 1 0 1 7]\n",
      "Objective value (recalculated): 117.2325\n"
     ]
    }
   ],
   "source": [
    "# --- BO Helper Functions ---\n",
    "\n",
    "# --- get_fitted_model function remains the same ---\n",
    "def get_fitted_model(train_X_embedded_scaled, train_Y, m):\n",
    "    # ... (implementation is unchanged) ...\n",
    "    if train_Y.ndim > 1 and train_Y.shape[1] == 1: train_Y = train_Y.ravel()\n",
    "    kernel = ConstantKernel(1.0, constant_value_bounds=(1e-3, 1e3)) * \\\n",
    "             Matern(length_scale=np.ones(m), length_scale_bounds=(1e-2, 1e2), nu=2.5) + \\\n",
    "             WhiteKernel(noise_level=1e-10, # Small value for numerical stability\n",
    "                         noise_level_bounds=\"fixed\") # Bounds for noise optimization\n",
    "    gp_model = GaussianProcessRegressor(kernel=kernel, alpha=1e-10, n_restarts_optimizer=10, random_state=42)\n",
    "    gp_model.fit(train_X_embedded_scaled, train_Y)\n",
    "    return gp_model\n",
    "\n",
    "def lower_confidence_bound(mu, sigma, kappa=2.576):\n",
    "    \"\"\"\n",
    "    Computes the Lower Confidence Bound (LCB) acquisition function.\n",
    "    Assumes maximization of this value guides the search (since mu is neg objective).\n",
    "    Higher LCB means lower predicted objective or lower penalty for uncertainty.\n",
    "\n",
    "    mu, sigma: Predicted mean and standard deviation (NumPy arrays).\n",
    "    kappa: Controls the balance between exploitation (high mu -> low original objective)\n",
    "           and exploration (low sigma).\n",
    "    \"\"\"\n",
    "    # Ensure sigma is non-negative\n",
    "    sigma = np.maximum(sigma, 0)\n",
    "    return mu - kappa * sigma # <<< Sign flipped from UCB\n",
    "\n",
    "def optimize_acqf_discrete_via_embedding(gp_model, scaler, dictionary_A, T, q, num_candidates, kappa):\n",
    "    \"\"\"\n",
    "    Optimizes LCB acquisition function by sampling random binary candidates,\n",
    "    embedding, SCALING, predicting with GP, and calculating LCB.\n",
    "    Selects the top q candidates based on LCB.\n",
    "    Returns candidates as a numpy array (q x T).\n",
    "    \"\"\"\n",
    "    m = dictionary_A.shape[0]\n",
    "\n",
    "    # 1. Generate Random Binary Candidates\n",
    "    candidate_u_vectors_np = np.random.randint(0, 2, size=(num_candidates, T))\n",
    "\n",
    "    # 2. Embed the Candidates\n",
    "    embedded_candidates_np = embed_batch(candidate_u_vectors_np, dictionary_A)\n",
    "\n",
    "    # 3. Scale the Embedded Candidates\n",
    "    embedded_candidates_scaled_np = scaler.transform(embedded_candidates_np)\n",
    "\n",
    "    # 4. Predict Mean and Std Dev using the GP Model\n",
    "    mu, std = gp_model.predict(embedded_candidates_scaled_np, return_std=True)\n",
    "\n",
    "    # 5. Calculate Acquisition Function (Lower Confidence Bound) <<< CHANGED HERE\n",
    "    acq_values = lower_confidence_bound(mu, std, kappa=kappa) # Use LCB\n",
    "\n",
    "    # 6. Select Top Candidates (based on highest LCB) <<< COMMENT UPDATED\n",
    "    # We maximize LCB = mu - kappa*sigma, where mu is neg_objective\n",
    "    top_indices = np.argsort(acq_values)[-q:]\n",
    "    top_indices = top_indices[::-1] # Ensure descending order of LCB\n",
    "\n",
    "    return candidate_u_vectors_np[top_indices, :]\n",
    "\n",
    "# --- BO Loop ---\n",
    "\n",
    "# Parameters\n",
    "KAPPA = 2.576 # Exploration parameter for LCB. Adjust as needed.\n",
    "N_INITIAL = 49 # The initial schedule will always be included\n",
    "N_ITERATIONS = 25\n",
    "BATCH_SIZE_q = 5\n",
    "NUM_CANDIDATES_Acqf = T*5*1024 # Might need more for higher T\n",
    "m = math.ceil(T/4) # Dimension of the embedding space\n",
    "\n",
    "# Store evaluated points (using NumPy arrays)\n",
    "evaluated_U_np_list = [] # List to store evaluated U vectors (binary)\n",
    "evaluated_f_vals = []    # List to store raw objective values (lower is better)\n",
    "train_Y_list = []        # List to store NEGATED objective values for GP (higher is better)\n",
    "\n",
    "# 1. Initialization\n",
    "for U_init in initial_candidates:\n",
    "    f_val = evaluate_objective(U_init, X, v_star, convolutions, d, w)\n",
    "    neg_f_val = -f_val\n",
    "    evaluated_U_np_list.append(U_init)\n",
    "    evaluated_f_vals.append(f_val)\n",
    "    train_Y_list.append(neg_f_val)\n",
    "  \n",
    "# Convert lists to NumPy arrays for GP fitting\n",
    "train_Y = np.array(train_Y_list).reshape(-1, 1) # Keep as column vector initially\n",
    "\n",
    "best_obj_so_far = min(evaluated_f_vals) if evaluated_f_vals else float('inf')\n",
    "initial_best_obj_so_far_lcb = best_obj_so_far # Saved for reporting results\n",
    "print(f\"Initial best objective value: {best_obj_so_far}\")\n",
    "if not np.isfinite(best_obj_so_far):\n",
    "     print(\"Warning: Initial best objective is infinite, possibly all initial points were infeasible.\")\n",
    "\n",
    "# 2. BO Iterations\n",
    "for iteration in range(N_ITERATIONS):\n",
    "    start_time = time.time()\n",
    "    print(f\"\\n--- Iteration {iteration + 1}/{N_ITERATIONS} ---\")\n",
    "\n",
    "    # a. Generate dictionary A (remains the same)\n",
    "    current_dictionary_A = generate_wavelet_dictionary(T, m)\n",
    "\n",
    "    # b. Embed ALL evaluated U vectors (remains the same)\n",
    "    if not evaluated_U_np_list: continue\n",
    "    evaluated_U_np_array = np.array(evaluated_U_np_list)\n",
    "    embedded_train_X = embed_batch(evaluated_U_np_array, current_dictionary_A)\n",
    "\n",
    "    # c. Scale the embedded training data (remains the same)\n",
    "    scaler = MinMaxScaler()\n",
    "    if embedded_train_X.shape[0] > 0: embedded_train_X_scaled = scaler.fit_transform(embedded_train_X)\n",
    "    else: embedded_train_X_scaled = embedded_train_X\n",
    "\n",
    "    # Ensure train_Y is NumPy array\n",
    "    train_Y_for_fit = np.array(train_Y_list)\n",
    "\n",
    "    # d. Fit GP Model (remains the same)\n",
    "    print(\"Fitting GP model...\")\n",
    "    if embedded_train_X_scaled.shape[0] > 0 and train_Y_for_fit.shape[0] == embedded_train_X_scaled.shape[0]:\n",
    "        gp_model = get_fitted_model(embedded_train_X_scaled, train_Y_for_fit, m)\n",
    "        print(\"GP model fitted.\")\n",
    "    else:\n",
    "        print(\"Warning: Not enough data or data mismatch to fit GP model. Skipping iteration.\")\n",
    "        continue\n",
    "\n",
    "    # e. Determine current best neg value (useful for tracking, not directly used in LCB calculation)\n",
    "    current_best_neg_f_val = np.max(train_Y_for_fit) if train_Y_for_fit.size > 0 else -float('inf')\n",
    "    if current_best_neg_f_val <= -LARGE_PENALTY / 2 and np.isfinite(current_best_neg_f_val):\n",
    "        print(f\"Warning: Current best NEGATIVE objective value ({current_best_neg_f_val:.2f}) is very low (likely from penalties).\")\n",
    "\n",
    "    # f. Optimize Acquisition Function (LCB) <<< MODIFIED CALL & COMMENT\n",
    "    print(\"Optimizing acquisition function (LCB)...\") # Comment updated\n",
    "    next_U_candidates_np = optimize_acqf_discrete_via_embedding(\n",
    "        gp_model=gp_model,\n",
    "        scaler=scaler,\n",
    "        dictionary_A=current_dictionary_A,\n",
    "        T=T,\n",
    "        q=BATCH_SIZE_q,\n",
    "        num_candidates=NUM_CANDIDATES_Acqf,\n",
    "        kappa=KAPPA # Pass kappa\n",
    "    )\n",
    "    print(f\"Selected {next_U_candidates_np.shape[0]} candidate(s).\")\n",
    "\n",
    "    # g. Evaluate Objective (remains the same)\n",
    "    newly_evaluated_U = []; newly_evaluated_f = []; newly_evaluated_neg_f = []\n",
    "    for i in range(next_U_candidates_np.shape[0]):\n",
    "        next_U = next_U_candidates_np[i, :]\n",
    "        already_evaluated = any(np.array_equal(next_U, u) for u in evaluated_U_np_list)\n",
    "        if already_evaluated: print(f\"  Candidate {i} was already evaluated. Skipping.\"); continue\n",
    "\n",
    "        next_f = evaluate_objective(next_U, X, v_star, convolutions, d, w)\n",
    "        next_neg_f = -next_f\n",
    "        V_sum = np.sum(v_star[next_U == 1, :], axis=0)\n",
    "        Y = X + V_sum\n",
    "        print(f\"  Candidate {i}: Obj = {next_f:.4f}, schedule = {Y}\")\n",
    "        newly_evaluated_U.append(next_U); newly_evaluated_f.append(next_f); newly_evaluated_neg_f.append(next_neg_f)\n",
    "        if next_f < best_obj_so_far: best_obj_so_far = next_f\n",
    "\n",
    "    # h. Augment Dataset (remains the same)\n",
    "    evaluated_U_np_list.extend(newly_evaluated_U); evaluated_f_vals.extend(newly_evaluated_f); train_Y_list.extend(newly_evaluated_neg_f)\n",
    "    train_Y = np.array(train_Y_list).reshape(-1, 1)\n",
    "\n",
    "    iter_time = time.time() - start_time\n",
    "    print(f\"Best objective value found so far: {best_obj_so_far:.4f}\")\n",
    "    print(f\"Total points evaluated: {len(evaluated_f_vals)}\")\n",
    "    print(f\"Iteration {iteration + 1} completed in {iter_time:.2f} seconds.\")\n",
    "\n",
    "\n",
    "# --- Results ---\n",
    "print(\"\\n--- Optimization Finished ---\")\n",
    "if not evaluated_f_vals: print(\"No points were successfully evaluated.\")\n",
    "else:\n",
    "    final_best_idx_lcb = np.argmin(evaluated_f_vals)\n",
    "    final_best_U_lcb = evaluated_U_np_list[final_best_idx_lcb]\n",
    "    final_best_f_lcb = evaluated_f_vals[final_best_idx_lcb]\n",
    "    nr_evaluated_f_vals_lcb = len(evaluated_f_vals) # Saved for reporting results\n",
    "    print(f\"Total evaluations: {nr_evaluated_f_vals_lcb}\")\n",
    "    print(f\"Best Objective Value Found: {final_best_f_lcb}\")\n",
    "    print(f\"Best U vector Found: {final_best_U_lcb}\")\n",
    "\n",
    "    # Verification\n",
    "    V_sum_best = np.sum(v_star[final_best_U_lcb == 1, :], axis=0)\n",
    "    Y_best_lcb = X + V_sum_best\n",
    "    is_feasible = np.all(Y_best_lcb >= 0)\n",
    "    recalculated_obj = LARGE_PENALTY\n",
    "    if is_feasible:\n",
    "        ewt, esp = calculate_objective_serv_time_lookup(Y_best_lcb, d, convolutions)\n",
    "        recalculated_obj = w * ewt + (1 - w) * esp\n",
    "\n",
    "    print(f\"\\n--- Verification ---\")\n",
    "    print(f\"Is the best U feasible? {is_feasible}\")\n",
    "    if is_feasible:\n",
    "        print(f\"Resulting Y vector for best U: {Y_best_lcb}\")\n",
    "        print(f\"Objective value (recalculated): {recalculated_obj:.4f}\")\n",
    "        if not np.isclose(final_best_f_lcb, recalculated_obj): print(f\"Warning: Stored best objective ({final_best_f:.4f}) does not match recalculation ({recalculated_obj:.4f})!\")\n",
    "    elif final_best_f_lcb < LARGE_PENALTY: print(f\"Warning: Best objective ({final_best_f_lcb:.4f}) is not the penalty value, but feasibility check failed.\"); print(f\"Resulting Y vector (infeasible): {Y_best_lcb}\")\n",
    "    else: print(\"Best solution found corresponds to an infeasible penalty value.\")"
   ]
  },
  {
   "cell_type": "markdown",
   "id": "4b99d2ed",
   "metadata": {
    "user_expressions": [
     {
      "expression": "initial_best_obj_so_far_ei",
      "result": {
       "data": {
        "text/plain": "118.87100166955729"
       },
       "metadata": {},
       "status": "ok"
      }
     },
     {
      "expression": "final_best_f_ei",
      "result": {
       "data": {
        "text/plain": "114.96364292044709"
       },
       "metadata": {},
       "status": "ok"
      }
     },
     {
      "expression": "nr_evaluated_f_vals_ei",
      "result": {
       "data": {
        "text/plain": "175"
       },
       "metadata": {},
       "status": "ok"
      }
     },
     {
      "expression": "final_best_U_ei",
      "result": {
       "data": {
        "text/plain": "array([0, 0, 0, 0, 0, 1, 1, 1, 0, 1, 1, 1, 1, 0, 1, 1, 0, 1, 1, 1])"
       },
       "metadata": {},
       "status": "ok"
      }
     },
     {
      "expression": "Y_best_ei",
      "result": {
       "data": {
        "text/plain": "array([2, 1, 1, 1, 1, 1, 1, 0, 1, 1, 1, 1, 0, 1, 1, 0, 2, 0, 1, 7])"
       },
       "metadata": {},
       "status": "ok"
      }
     },
     {
      "expression": "KAPPA",
      "result": {
       "data": {
        "text/plain": "2.576"
       },
       "metadata": {},
       "status": "ok"
      }
     },
     {
      "expression": "initial_best_obj_so_far_lcb",
      "result": {
       "data": {
        "text/plain": "118.87100166955729"
       },
       "metadata": {},
       "status": "ok"
      }
     },
     {
      "expression": "final_best_f_lcb",
      "result": {
       "data": {
        "text/plain": "117.23250201869716"
       },
       "metadata": {},
       "status": "ok"
      }
     },
     {
      "expression": "nr_evaluated_f_vals_lcb",
      "result": {
       "data": {
        "text/plain": "175"
       },
       "metadata": {},
       "status": "ok"
      }
     },
     {
      "expression": "final_best_U_lcb",
      "result": {
       "data": {
        "text/plain": "array([0, 1, 0, 0, 0, 0, 1, 0, 0, 1, 1, 1, 0, 1, 1, 0, 1, 1, 1, 1])"
       },
       "metadata": {},
       "status": "ok"
      }
     },
     {
      "expression": "Y_best_lcb",
      "result": {
       "data": {
        "text/plain": "array([3, 0, 1, 1, 0, 2, 0, 1, 1, 1, 1, 0, 2, 0, 0, 2, 1, 0, 1, 7])"
       },
       "metadata": {},
       "status": "ok"
      }
     },
     {
      "expression": "final_best_f_ei",
      "result": {
       "data": {
        "text/plain": "114.96364292044709"
       },
       "metadata": {},
       "status": "ok"
      }
     },
     {
      "expression": "KAPPA",
      "result": {
       "data": {
        "text/plain": "2.576"
       },
       "metadata": {},
       "status": "ok"
      }
     },
     {
      "expression": "final_best_f_lcb",
      "result": {
       "data": {
        "text/plain": "117.23250201869716"
       },
       "metadata": {},
       "status": "ok"
      }
     }
    ]
   },
   "source": [
    "## Results\n",
    "\n",
    "The initial schedule, derived using the Bailey-Welch method (bailey1952study), serves as a baseline. The objective function $C(\\mathbf{x})$ combines Expected Waiting Time ($EWT$) and Expected Staff Penalty ($ESP$). Lower values of $C(\\mathbf{x})$ are preferable. Each experiment consisted of $N_{INITIAL} = 20$ initial random evaluations followed by $N_{ITERATIONS} =20$ Bayesian optimization iterations, with $BATCH\\_SIZE_q = 5$ evaluations per iteration, totaling approximately $20 + 20 \\times 5 = 120$ evaluations per experiment. The optimization operates on the binary perturbation vector $\\mathbf{U}$, using the HED embedding [@deshwal_bayesian_2023].\n",
    "\n",
    "The key performance metric is the best (minimum) objective function value found.\n",
    "\n",
    "### Experiment 1: CBO with Expected Improvement (EI)\n",
    "-   **Initial Best Objective (after random search)**: `{python} initial_best_obj_so_far_ei`\n",
    "-   **Final Best Objective Found**: `{python} final_best_f_ei`\n",
    "-   **Total Evaluations**: `{python} nr_evaluated_f_vals_ei`\n",
    "-   **Best Perturbation Vector $\\mathbf{U}_{EI}^*$**: `{python} final_best_U_ei`\n",
    "-   **Resulting Optimal Schedule $\\mathbf{x}_{EI}^*$**: `{python} Y_best_ei`\n",
    "\n",
    "### Experiment 2: CBO with Lower Confidence Bound (LCB) - $\\kappa =$ `{python} KAPPA`\n",
    "-   **Initial Best Objective (after random search)**: `{python} initial_best_obj_so_far_lcb`\n",
    "-   **Final Best Objective Found**: `{python} final_best_f_lcb`\n",
    "-   **Total Evaluations**: `{python} nr_evaluated_f_vals_lcb`\n",
    "-   **Best Perturbation Vector $\\mathbf{U}_{LCB\\_fixed}^*$**: `{python} final_best_U_lcb`\n",
    "-   **Resulting Optimal Schedule $\\mathbf{x}_{LCB\\_fixed}^*$**: `{python} Y_best_lcb`\n",
    "\n",
    "### Summary of Best Objectives\n",
    "| Experiment                       | Best Objective $C(\\mathbf{x}^*)$ |\n",
    "|----------------------------------|-----------------------------------|\n",
    "| CBO with EI                      | `{python} final_best_f_ei`                         |\n",
    "| CBO with LCB (Fixed $\\kappa=$ `{python} KAPPA`) |`{python} final_best_f_lcb`                         |\n",
    "\n",
    "## Discussion\n",
    "\n",
    "The experiments aimed to compare two CBO strategies, leveraging the HED embedding technique [@deshwal_bayesian_2023], for optimizing the outpatient appointment scheduling problem formulated by @kaandorp_optimal_2007. Both methods successfully improved upon their respective initial random search results, demonstrating the applicability of BO with HED to this combinatorial problem.\n",
    "\n",
    "1.  **Performance Comparison**: \n",
    "\n",
    "2.  **Hypothesis Evaluation**:\n",
    "    -   Hypothesis 1 \n",
    "    -   Hypothesis 2 \n",
    "\n",
    "3.  **Exploration vs. Exploitation**: \n",
    "\n",
    "4.  **Computational Effort**: \n",
    "\n",
    "5.  **Limitations and Future Work**:\n",
    "    -   The optimality guarantee mentioned by @kaandorp_optimal_2007 applies to their specific local search algorithm operating directly on the schedule space $\\mathcal{F}$, leveraging multimodularity. Our BO approach operates on the perturbation vector space $\\mathbf{U}$ via HED embeddings. While BO aims for global optimization, it doesn't inherit the same theoretical guarantee of finding the global optimum as the original local search, especially given the stochastic nature of GP modeling and acquisition function optimization.\n",
    "    -   The performance is likely sensitive to BO hyperparameters (dictionary size $m$, $\\kappa$ values, number of candidates for acquisition optimization).\n",
    "    -   Further investigation into different dictionary construction methods (e.g., binary wavelets as mentioned in Deshwal et al., 2023) or adaptive $\\kappa$ schedules could be beneficial.\n",
    "\n",
    "In conclusion, applying CBO with HED embeddings appears promising for this scheduling problem. The LCB acquisition function with a fixed, well-chosen $\\kappa$ demonstrated the best performance in this study.\n",
    "\n",
    "## Timeline\n",
    "\n",
    "-   **Experiment Setup and Code Implementation**: 30-04-2025\n",
    "-   **Results Analysis and Report Compilation**: 07-05-2025\n",
    "\n",
    "## References\n",
    "\n",
    "::: {#refs}\n",
    ":::"
   ]
  }
 ],
 "metadata": {
  "kernelspec": {
   "display_name": "Python 3 (ipykernel)",
   "language": "python",
   "name": "python3"
  },
  "language_info": {
   "codemirror_mode": {
    "name": "ipython",
    "version": 3
   },
   "file_extension": ".py",
   "mimetype": "text/x-python",
   "name": "python",
   "nbconvert_exporter": "python",
   "pygments_lexer": "ipython3",
   "version": "3.12.2"
  }
 },
 "nbformat": 4,
 "nbformat_minor": 5
}
